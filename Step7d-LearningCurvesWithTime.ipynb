{
 "cells": [
  {
   "cell_type": "code",
   "execution_count": 1,
   "metadata": {},
   "outputs": [],
   "source": [
    "import pandas as pd\n",
    "import matplotlib.pyplot as plt\n",
    "from matplotlib import style\n",
    "style.use('ggplot')\n",
    "import glob\n",
    "import numpy as np"
   ]
  },
  {
   "cell_type": "code",
   "execution_count": 2,
   "metadata": {},
   "outputs": [],
   "source": [
    "outpath_fig = './dataFolders/Output/Figures/v2/'\n",
    "outpath = './dataFolders/Output/Step6_FloralTypeConsolidatedData_AndFitParameters_v2/'"
   ]
  },
  {
   "cell_type": "code",
   "execution_count": 3,
   "metadata": {},
   "outputs": [],
   "source": [
    "# Define exponential function func,  \n",
    "# where a = alpha, b = Tau, c = y intercept\n",
    "\n",
    "def fit_to_exponential(x, a, b, c):\n",
    "     return a * np.exp(-(x / b)) + c"
   ]
  },
  {
   "cell_type": "code",
   "execution_count": 4,
   "metadata": {},
   "outputs": [
    {
     "name": "stdout",
     "output_type": "stream",
     "text": [
      "-1.9500000000000002 40.95 -4.617500000000001 98.06750000000001\n",
      "-1.6 33.6 -2.66 58.72\n",
      "-2.5500000000000003 53.55 -2.0290000000000004 42.829\n",
      "-3.1500000000000004 66.15 -2.5845000000000002 54.4945\n"
     ]
    },
    {
     "data": {
      "image/png": "[encoded data removed]",
      "text/plain": [
       "<Figure size 720x576 with 1 Axes>"
      ]
     },
     "metadata": {
      "needs_background": "light"
     },
     "output_type": "display_data"
    }
   ],
   "source": [
    "# do the fit for three different y0 - computed assuming the slope = 0 for 1/2 of the data\n",
    "shapes = ['c-1', 'c-2','c-3', 'c-10']\n",
    "# colorLine = ['royalblue', 'seagreen', 'goldenrod', 'tomato']\n",
    "# fig1, ax0 = plt.subplots(2, 2, sharex = True, sharey = True, figsize = (8,6))\n",
    "fig1, ax = plt.subplots(figsize = (10,8))\n",
    "# ax = ax0.ravel()\n",
    "\n",
    "for floralShape, i in zip(shapes, range(len(shapes))):\n",
    "       \n",
    "    file  = glob.glob(outpath + floralShape + '_Alltrials.csv')\n",
    "    new_df = pd.read_csv(file[0])\n",
    "    \n",
    "    xdata = new_df.trialNum.values\n",
    "    ydata = new_df.DiscoveryTime.values\n",
    "    \n",
    "    xdata_notnan = new_df[new_df.DiscoveryTime.notnull()].trialNum.values\n",
    "    ydata_notnan = new_df[new_df.DiscoveryTime.notnull()].DiscoveryTime.values\n",
    "    numMoth = len(new_df.name.unique())\n",
    "    \n",
    "    param_file = glob.glob(outpath + floralShape + '_FittedParameters.csv')\n",
    "    param_df = pd.read_csv(param_file[0])\n",
    "    \n",
    "    idx = 1 # pick all the 1/4 length data from the parameter df (because 1/4 length data slope is = 0 across all shapes)\n",
    "    a0 = param_df.loc[idx,'alpha']\n",
    "    mean_y0 = param_df.loc[idx, 'y_intercept']\n",
    "    tau = param_df.loc[idx, 'tau']\n",
    "    \n",
    "    # plot the final curve fit\n",
    "    max_trial=max(xdata_notnan)\n",
    "    ax.plot(xdata, ydata/100, 'or', markersize=7, alpha = 0.5, label = 'Raw Data')\n",
    "    ax.plot(range(0,max_trial), fit_to_exponential(range(0,max_trial), a0, tau , mean_y0), \n",
    "             'g--', linewidth=2,   \n",
    "             label = 'fit: alpha= %5.3f , Tau= %5.3f, y0= %5.3f' %(a0, tau, mean_y0))\n",
    "    [ymin, ymax] = ax.get_ylim()\n",
    "    [xmin, xmax] = ax.get_xlim()\n",
    "    print(xmin, xmax, ymin, ymax)\n",
    "    ax.set_title(floralShape, y=1.2)\n",
    "    ax.set_xlabel('Frame Number')\n",
    "    ax.set_ylabel('Exploration Time (second)')\n",
    "    leg = plt.legend()\n",
    "    leg.get_frame().set_linewidth(1.5)\n",
    "    ax.legend(bbox_to_anchor=(0., 1.05, 1., .102), loc=3, mode=\"expand\", borderaxespad=0.)\n",
    "    ax.set_xlim([-5,65])\n",
    "    ax.set_ylim([-5,60])\n",
    "    ax.text(60, 40, floralShape + ' N= ' + str(numMoth))\n",
    "#     print(a0, tau, mean_y0)\n",
    "    fig1.tight_layout()\n",
    "    fig1.savefig(outpath_fig + floralShape + 'LearningOverTime_withClippingData.png')\n",
    "    ax.cla()"
   ]
  },
  {
   "cell_type": "code",
   "execution_count": 9,
   "metadata": {},
   "outputs": [
    {
     "data": {
      "text/html": [
       "<div>\n",
       "<style scoped>\n",
       "    .dataframe tbody tr th:only-of-type {\n",
       "        vertical-align: middle;\n",
       "    }\n",
       "\n",
       "    .dataframe tbody tr th {\n",
       "        vertical-align: top;\n",
       "    }\n",
       "\n",
       "    .dataframe thead th {\n",
       "        text-align: right;\n",
       "    }\n",
       "</style>\n",
       "<table border=\"1\" class=\"dataframe\">\n",
       "  <thead>\n",
       "    <tr style=\"text-align: right;\">\n",
       "      <th></th>\n",
       "      <th>Unnamed: 0</th>\n",
       "      <th>MothIn</th>\n",
       "      <th>MothOut</th>\n",
       "      <th>ProboscisDetect</th>\n",
       "      <th>DiscoveryTime</th>\n",
       "      <th>trialNum</th>\n",
       "      <th>name</th>\n",
       "    </tr>\n",
       "  </thead>\n",
       "  <tbody>\n",
       "    <tr>\n",
       "      <td>0</td>\n",
       "      <td>0</td>\n",
       "      <td>31485</td>\n",
       "      <td>33858</td>\n",
       "      <td>31825.0</td>\n",
       "      <td>340.0</td>\n",
       "      <td>0</td>\n",
       "      <td>c-1_m10</td>\n",
       "    </tr>\n",
       "    <tr>\n",
       "      <td>1</td>\n",
       "      <td>1</td>\n",
       "      <td>35183</td>\n",
       "      <td>36433</td>\n",
       "      <td>35616.0</td>\n",
       "      <td>433.0</td>\n",
       "      <td>1</td>\n",
       "      <td>c-1_m10</td>\n",
       "    </tr>\n",
       "    <tr>\n",
       "      <td>2</td>\n",
       "      <td>2</td>\n",
       "      <td>37230</td>\n",
       "      <td>37741</td>\n",
       "      <td>37351.0</td>\n",
       "      <td>121.0</td>\n",
       "      <td>2</td>\n",
       "      <td>c-1_m10</td>\n",
       "    </tr>\n",
       "    <tr>\n",
       "      <td>3</td>\n",
       "      <td>3</td>\n",
       "      <td>37830</td>\n",
       "      <td>38106</td>\n",
       "      <td>NaN</td>\n",
       "      <td>NaN</td>\n",
       "      <td>3</td>\n",
       "      <td>c-1_m10</td>\n",
       "    </tr>\n",
       "    <tr>\n",
       "      <td>4</td>\n",
       "      <td>4</td>\n",
       "      <td>38344</td>\n",
       "      <td>38965</td>\n",
       "      <td>38438.0</td>\n",
       "      <td>94.0</td>\n",
       "      <td>4</td>\n",
       "      <td>c-1_m10</td>\n",
       "    </tr>\n",
       "  </tbody>\n",
       "</table>\n",
       "</div>"
      ],
      "text/plain": [
       "   Unnamed: 0  MothIn  MothOut  ProboscisDetect  DiscoveryTime  trialNum  \\\n",
       "0           0   31485    33858          31825.0          340.0         0   \n",
       "1           1   35183    36433          35616.0          433.0         1   \n",
       "2           2   37230    37741          37351.0          121.0         2   \n",
       "3           3   37830    38106              NaN            NaN         3   \n",
       "4           4   38344    38965          38438.0           94.0         4   \n",
       "\n",
       "      name  \n",
       "0  c-1_m10  \n",
       "1  c-1_m10  \n",
       "2  c-1_m10  \n",
       "3  c-1_m10  \n",
       "4  c-1_m10  "
      ]
     },
     "execution_count": 9,
     "metadata": {},
     "output_type": "execute_result"
    }
   ],
   "source": [
    "new_df.head()"
   ]
  },
  {
   "cell_type": "code",
   "execution_count": null,
   "metadata": {},
   "outputs": [],
   "source": []
  }
 ],
 "metadata": {
  "kernelspec": {
   "display_name": "Python 3",
   "language": "python",
   "name": "python3"
  },
  "language_info": {
   "codemirror_mode": {
    "name": "ipython",
    "version": 3
   },
   "file_extension": ".py",
   "mimetype": "text/x-python",
   "name": "python",
   "nbconvert_exporter": "python",
   "pygments_lexer": "ipython3",
   "version": "3.6.5"
  }
 },
 "nbformat": 4,
 "nbformat_minor": 2
}
