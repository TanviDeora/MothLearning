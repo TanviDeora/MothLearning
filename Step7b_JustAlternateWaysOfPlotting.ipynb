{
 "cells": [
  {
   "cell_type": "code",
   "execution_count": 5,
   "metadata": {},
   "outputs": [],
   "source": [
    "import pandas as pd\n",
    "import matplotlib.pyplot as plt\n",
    "from matplotlib import style\n",
    "style.use(\"ggplot\")\n",
    "# from scipy.optimize import curve_fit\n",
    "import os\n",
    "import numpy as np\n",
    "import glob"
   ]
  },
  {
   "cell_type": "code",
   "execution_count": 6,
   "metadata": {},
   "outputs": [],
   "source": [
    "outpath_fig = './dataFolders/Output/Figures/'\n",
    "# outpath = './dataFolders/Output/Step6_FloralTypeConsolidatedData_AndFitParameters/'"
   ]
  },
  {
   "cell_type": "code",
   "execution_count": 1,
   "metadata": {},
   "outputs": [],
   "source": [
    "# Define exponential function func,  \n",
    "# where a = alpha, b = Tau, c = y intercept\n",
    "\n",
    "def fit_to_exponential(x, a, b, c):\n",
    "     return a * np.exp(-(x / b)) + c"
   ]
  },
  {
   "cell_type": "code",
   "execution_count": 42,
   "metadata": {},
   "outputs": [
    {
     "name": "stdout",
     "output_type": "stream",
     "text": [
      "9.531676691729324 0.002454059596109887 3.3318947368421057\n",
      "7.988123249299719 0.008812369061506214 3.449523809523809\n",
      "3.994377880184332 0.07125608390743543 3.7291935483870966\n",
      "3.8402222222222213 0.5098704756237354 4.948666666666667\n"
     ]
    },
    {
     "data": {
      "image/png": "[encoded data removed]",
      "text/plain": [
       "<Figure size 720x576 with 1 Axes>"
      ]
     },
     "metadata": {},
     "output_type": "display_data"
    }
   ],
   "source": [
    "# do the fit for three different y0 - computed assuming the slope = 0 for 1/2 of the data\n",
    "shapes = ['c-1', 'c-2','c-3', 'c-10']\n",
    "colorLine = ['royalblue', 'seagreen', 'goldenrod', 'tomato']\n",
    "# fig1, ax0 = plt.subplots(2, 2, sharex = True, sharey = True, figsize = (8,6))\n",
    "fig1, ax = plt.subplots(figsize = (10,8))\n",
    "# ax = ax0.ravel()\n",
    "\n",
    "for floralShape, i in zip(shapes, range(len(shapes))):\n",
    "       \n",
    "    file  = glob.glob(outpath + floralShape + '_Alltrials.csv')\n",
    "    new_df = pd.read_csv(file[0])\n",
    "    \n",
    "    xdata = new_df.trialNum.values\n",
    "    ydata = new_df.DiscoveryTime.values\n",
    "    \n",
    "    xdata_notnan = new_df[new_df.DiscoveryTime.notnull()].trialNum.values\n",
    "    ydata_notnan = new_df[new_df.DiscoveryTime.notnull()].DiscoveryTime.values\n",
    "    numMoth = len(new_df.name.unique())\n",
    "    \n",
    "    param_file = glob.glob(outpath + floralShape + '_FittedParameters.csv')\n",
    "    param_df = pd.read_csv(param_file[0])\n",
    "    \n",
    "    idx = 0 # pick all the 1/2 length data from the parameter df (because 1/2 length data slope is = 0 across all shapes)\n",
    "    a0 = param_df.loc[idx,'alpha']\n",
    "    mean_y0 = param_df.loc[idx, 'y_intercept']\n",
    "    tau = param_df.loc[idx, 'tau']\n",
    "    \n",
    "    # plot the final curve fit\n",
    "    max_trial=max(xdata_notnan)\n",
    "    ax.plot(range(0,max_trial), fit_to_exponential(range(0,max_trial), a0, tau, mean_y0), \n",
    "             '--', linewidth=2, color = colorLine[i], label = floralShape)   \n",
    "#              label = 'fit: alpha= %5.3f , Tau= %5.3f, y0= %5.3f' %(a0/100, tau/100, mean_y0/100))\n",
    "\n",
    "#     ax[i].set_title(floralShape, y=1.2)\n",
    "    ax.set_xlabel('Trial number')\n",
    "    ax.set_ylabel('Exploration Time (second)')\n",
    "    leg = plt.legend()\n",
    "    leg.get_frame().set_linewidth(1.5)\n",
    "    ax.legend(bbox_to_anchor=(0., 1.05, 1., .102), loc=3, mode=\"expand\", borderaxespad=0.)\n",
    "    ax.set_xlim([-5,90])\n",
    "    ax.set_ylim([-5,55])\n",
    "#     ax.text(60, 40+i, floralShape + ' N= ' + str(numMoth))\n",
    "    print(a0, tau, mean_y0)\n",
    "    \n",
    "fig1.tight_layout()\n",
    "fig1.savefig(outpath_fig + 'All4LearningCurveTogether.svg')"
   ]
  },
  {
   "cell_type": "code",
   "execution_count": null,
   "metadata": {},
   "outputs": [],
   "source": []
  }
 ],
 "metadata": {
  "kernelspec": {
   "display_name": "Python 3",
   "language": "python",
   "name": "python3"
  },
  "language_info": {
   "codemirror_mode": {
    "name": "ipython",
    "version": 3
   },
   "file_extension": ".py",
   "mimetype": "text/x-python",
   "name": "python",
   "nbconvert_exporter": "python",
   "pygments_lexer": "ipython3",
   "version": "3.6.5"
  }
 },
 "nbformat": 4,
 "nbformat_minor": 2
}
