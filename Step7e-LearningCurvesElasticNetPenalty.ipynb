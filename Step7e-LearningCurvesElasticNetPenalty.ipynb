{
 "cells": [
  {
   "cell_type": "code",
   "execution_count": 1,
   "metadata": {},
   "outputs": [],
   "source": [
    "import pandas as pd\n",
    "import matplotlib.pyplot as plt\n",
    "from matplotlib import style\n",
    "style.use('ggplot')\n",
    "import glob\n",
    "import numpy as np"
   ]
  },
  {
   "cell_type": "code",
   "execution_count": 2,
   "metadata": {},
   "outputs": [],
   "source": [
    "outpath_fig = './dataFolders/Output/Figures/'\n",
    "outpath = './dataFolders/Output/Step6_FloralTypeConsolidatedData_AndFitParameters/'"
   ]
  },
  {
   "cell_type": "code",
   "execution_count": 3,
   "metadata": {},
   "outputs": [],
   "source": [
    "# Define exponential function func,  \n",
    "# where a = alpha, b = Tau, c = y intercept\n",
    "\n",
    "def fit_to_exponential(x, a, b, c):\n",
    "     return a * np.exp(-(x / b)) + c"
   ]
  },
  {
   "cell_type": "code",
   "execution_count": null,
   "metadata": {},
   "outputs": [],
   "source": [
    "# get all data, remove outliers, \n",
    "\n",
    "# export that dataset\n",
    "\n",
    "# parse through each flower\n",
    "# get variables from fitted params\n",
    "# tranform to linear equation\n",
    "# fit for tau using elastic net penalty\n",
    "\n",
    "# draw the exponential"
   ]
  },
  {
   "cell_type": "code",
   "execution_count": null,
   "metadata": {},
   "outputs": [],
   "source": []
  },
  {
   "cell_type": "code",
   "execution_count": null,
   "metadata": {},
   "outputs": [],
   "source": []
  },
  {
   "cell_type": "code",
   "execution_count": null,
   "metadata": {},
   "outputs": [],
   "source": []
  },
  {
   "cell_type": "code",
   "execution_count": 12,
   "metadata": {},
   "outputs": [
    {
     "name": "stdout",
     "output_type": "stream",
     "text": [
      "1035.3999999999996 218166.6 -4.617500000000001 98.06750000000001\n",
      "-3926.9500000000007 207425.95 -2.66 58.72\n",
      "4473.6 202856.4 -1.8615000000000002 39.311499999999995\n",
      "-1515.5 211367.5 -5.1785 111.1685\n"
     ]
    },
    {
     "data": {
      "image/png": "[encoded data removed]",
      "text/plain": [
       "<Figure size 720x576 with 1 Axes>"
      ]
     },
     "metadata": {},
     "output_type": "display_data"
    }
   ],
   "source": [
    "# do the fit for three different y0 - computed assuming the slope = 0 for 1/2 of the data\n",
    "shapes = ['c-1', 'c-2','c-3', 'c-10']\n",
    "# colorLine = ['royalblue', 'seagreen', 'goldenrod', 'tomato']\n",
    "# fig1, ax0 = plt.subplots(2, 2, sharex = True, sharey = True, figsize = (8,6))\n",
    "fig1, ax = plt.subplots(figsize = (10,8))\n",
    "# ax = ax0.ravel()\n",
    "\n",
    "for floralShape, i in zip(shapes, range(len(shapes))):\n",
    "       \n",
    "    file  = glob.glob(outpath + floralShape + '_Alltrials.csv')\n",
    "    new_df = pd.read_csv(file[0])\n",
    "    \n",
    "    xdata = new_df.MothIn.values\n",
    "    ydata = new_df.DiscoveryTime.values\n",
    "    \n",
    "    xdata_notnan = new_df[new_df.DiscoveryTime.notnull()].MothIn.values\n",
    "    ydata_notnan = new_df[new_df.DiscoveryTime.notnull()].DiscoveryTime.values\n",
    "    numMoth = len(new_df.name.unique())\n",
    "    \n",
    "    param_file = glob.glob(outpath + floralShape + '_FittedParameters.csv')\n",
    "    param_df = pd.read_csv(param_file[0])\n",
    "    \n",
    "    idx = 0 # pick all the 1/2 length data from the parameter df (because 1/2 length data slope is = 0 across all shapes)\n",
    "    a0 = param_df.loc[idx,'alpha']\n",
    "    mean_y0 = param_df.loc[idx, 'y_intercept']\n",
    "#     tau = param_df.loc[idx, 'tau']\n",
    "    \n",
    "    # plot the final curve fit\n",
    "    max_trial=max(xdata_notnan)\n",
    "    ax.plot(xdata, ydata/100, 'or', markersize=7, alpha = 0.5, label = 'Raw Data')\n",
    "#     ax.plot(range(0,max_trial), fit_to_exponential(range(0,max_trial), a0, , mean_y0), \n",
    "#              '--', linewidth=2, color = colorLine[i], label = floralShape)   \n",
    "#              label = 'fit: alpha= %5.3f , Tau= %5.3f, y0= %5.3f' %(a0/100, tau/100, mean_y0/100))\n",
    "    [ymin, ymax] = ax.get_ylim()\n",
    "    [xmin, xmax] = ax.get_xlim()\n",
    "    print(xmin, xmax, ymin, ymax)\n",
    "    ax.set_title(floralShape, y=1.2)\n",
    "    ax.set_xlabel('Frame Number')\n",
    "    ax.set_ylabel('Exploration Time (second)')\n",
    "    leg = plt.legend()\n",
    "    leg.get_frame().set_linewidth(1.5)\n",
    "    ax.legend(bbox_to_anchor=(0., 1.05, 1., .102), loc=3, mode=\"expand\", borderaxespad=0.)\n",
    "    ax.set_xlim([-4000,220000])\n",
    "    ax.set_ylim([-5,120])\n",
    "    ax.text(60, 40, floralShape + ' N= ' + str(numMoth))\n",
    "#     print(a0, tau, mean_y0)\n",
    "    fig1.tight_layout()\n",
    "    fig1.savefig(outpath_fig + floralShape + 'LearningOverTime_withoutClippingData.png')\n",
    "    ax.cla()"
   ]
  },
  {
   "cell_type": "code",
   "execution_count": null,
   "metadata": {},
   "outputs": [],
   "source": []
  }
 ],
 "metadata": {
  "kernelspec": {
   "display_name": "Python 3",
   "language": "python",
   "name": "python3"
  },
  "language_info": {
   "codemirror_mode": {
    "name": "ipython",
    "version": 3
   },
   "file_extension": ".py",
   "mimetype": "text/x-python",
   "name": "python",
   "nbconvert_exporter": "python",
   "pygments_lexer": "ipython3",
   "version": "3.6.5"
  }
 },
 "nbformat": 4,
 "nbformat_minor": 2
}
