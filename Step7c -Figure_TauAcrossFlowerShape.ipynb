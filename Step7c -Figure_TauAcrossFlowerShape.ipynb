{
 "cells": [
  {
   "cell_type": "code",
   "execution_count": 2,
   "metadata": {},
   "outputs": [],
   "source": [
    "import pandas as pd\n",
    "import matplotlib.pyplot as plt\n",
    "from matplotlib import style\n",
    "style.use('ggplot')\n",
    "import glob\n",
    "import numpy as np"
   ]
  },
  {
   "cell_type": "code",
   "execution_count": 3,
   "metadata": {},
   "outputs": [],
   "source": [
    "path = './dataFolders/Output/Step6_FloralTypeConsolidatedData_AndFitParameters_v2/'\n",
    "files = glob.glob(path +  '*_FittedParameters.csv')\n",
    "\n",
    "outpath_fig = './dataFolders/Output/Figures/LinearRegression_toFindFitParameters_v2/'"
   ]
  },
  {
   "cell_type": "code",
   "execution_count": 4,
   "metadata": {},
   "outputs": [
    {
     "data": {
      "text/plain": [
       "['./dataFolders/Output/Step6_FloralTypeConsolidatedData_AndFitParameters_v2\\\\c-10_FittedParameters.csv',\n",
       " './dataFolders/Output/Step6_FloralTypeConsolidatedData_AndFitParameters_v2\\\\c-1_FittedParameters.csv',\n",
       " './dataFolders/Output/Step6_FloralTypeConsolidatedData_AndFitParameters_v2\\\\c-2_FittedParameters.csv',\n",
       " './dataFolders/Output/Step6_FloralTypeConsolidatedData_AndFitParameters_v2\\\\c-3_FittedParameters.csv']"
      ]
     },
     "execution_count": 4,
     "metadata": {},
     "output_type": "execute_result"
    }
   ],
   "source": [
    "files"
   ]
  },
  {
   "cell_type": "code",
   "execution_count": 8,
   "metadata": {},
   "outputs": [],
   "source": [
    "shape = ['c-1', 'c-2', 'c-3', 'c-10']\n",
    "ctr= 0\n",
    "flowername= {}\n",
    "for flowertype in shape:\n",
    "    file = [file for file in files if flowertype + '_' in file]\n",
    "    flowername[ctr] = pd.read_csv(file[0], engine = 'python')\n",
    "    ctr+=1"
   ]
  },
  {
   "cell_type": "code",
   "execution_count": 9,
   "metadata": {},
   "outputs": [
    {
     "data": {
      "text/html": [
       "<div>\n",
       "<style scoped>\n",
       "    .dataframe tbody tr th:only-of-type {\n",
       "        vertical-align: middle;\n",
       "    }\n",
       "\n",
       "    .dataframe tbody tr th {\n",
       "        vertical-align: top;\n",
       "    }\n",
       "\n",
       "    .dataframe thead th {\n",
       "        text-align: right;\n",
       "    }\n",
       "</style>\n",
       "<table border=\"1\" class=\"dataframe\">\n",
       "  <thead>\n",
       "    <tr style=\"text-align: right;\">\n",
       "      <th></th>\n",
       "      <th>Unnamed: 0</th>\n",
       "      <th>slope</th>\n",
       "      <th>std_err</th>\n",
       "      <th>p_value</th>\n",
       "      <th>r_value</th>\n",
       "      <th>y_intercept</th>\n",
       "      <th>y_intercept_std</th>\n",
       "      <th>average_firstTrial</th>\n",
       "      <th>alpha</th>\n",
       "      <th>tau</th>\n",
       "      <th>covariance</th>\n",
       "    </tr>\n",
       "  </thead>\n",
       "  <tbody>\n",
       "    <tr>\n",
       "      <td>0</td>\n",
       "      <td>one-half</td>\n",
       "      <td>-0.031294</td>\n",
       "      <td>0.082439</td>\n",
       "      <td>0.705518</td>\n",
       "      <td>-0.047771</td>\n",
       "      <td>4.084</td>\n",
       "      <td>3.155549</td>\n",
       "      <td>13.285714</td>\n",
       "      <td>9.201714</td>\n",
       "      <td>1.074173</td>\n",
       "      <td>0.131606</td>\n",
       "    </tr>\n",
       "    <tr>\n",
       "      <td>1</td>\n",
       "      <td>last fourth</td>\n",
       "      <td>0.050447</td>\n",
       "      <td>0.290445</td>\n",
       "      <td>0.866424</td>\n",
       "      <td>0.061293</td>\n",
       "      <td>3.204</td>\n",
       "      <td>2.689474</td>\n",
       "      <td>13.285714</td>\n",
       "      <td>10.081714</td>\n",
       "      <td>1.391862</td>\n",
       "      <td>0.137068</td>\n",
       "    </tr>\n",
       "    <tr>\n",
       "      <td>2</td>\n",
       "      <td>last eight</td>\n",
       "      <td>-0.312000</td>\n",
       "      <td>1.216381</td>\n",
       "      <td>0.814150</td>\n",
       "      <td>-0.146492</td>\n",
       "      <td>3.596</td>\n",
       "      <td>3.367526</td>\n",
       "      <td>13.285714</td>\n",
       "      <td>9.689714</td>\n",
       "      <td>1.237559</td>\n",
       "      <td>0.133083</td>\n",
       "    </tr>\n",
       "  </tbody>\n",
       "</table>\n",
       "</div>"
      ],
      "text/plain": [
       "    Unnamed: 0     slope   std_err   p_value   r_value  y_intercept  \\\n",
       "0     one-half -0.031294  0.082439  0.705518 -0.047771        4.084   \n",
       "1  last fourth  0.050447  0.290445  0.866424  0.061293        3.204   \n",
       "2   last eight -0.312000  1.216381  0.814150 -0.146492        3.596   \n",
       "\n",
       "   y_intercept_std  average_firstTrial      alpha       tau  covariance  \n",
       "0         3.155549           13.285714   9.201714  1.074173    0.131606  \n",
       "1         2.689474           13.285714  10.081714  1.391862    0.137068  \n",
       "2         3.367526           13.285714   9.689714  1.237559    0.133083  "
      ]
     },
     "execution_count": 9,
     "metadata": {},
     "output_type": "execute_result"
    }
   ],
   "source": [
    "flowername[0]"
   ]
  },
  {
   "cell_type": "code",
   "execution_count": 10,
   "metadata": {},
   "outputs": [],
   "source": [
    "df = []\n",
    "tau_table = []\n",
    "ctr = 0\n",
    "length = 0\n",
    "for length in range(3):\n",
    "    df = pd.DataFrame({'name': ['c-1', 'c-2', 'c-3', 'c-10'],\n",
    "                       'mean_y0': [flowername[0].y_intercept[length], flowername[1].y_intercept[length], \n",
    "                             flowername[2].y_intercept[length], flowername[3].y_intercept[length]],\n",
    "                       'std_y0': [flowername[0].y_intercept_std[length], flowername[1].y_intercept_std[length], \n",
    "                             flowername[2].y_intercept_std[length], flowername[3].y_intercept_std[length]],\n",
    "                       'tau': [flowername[0].tau[length], flowername[1].tau[length], \n",
    "                             flowername[2].tau[length], flowername[3].tau[length]],\n",
    "                         'covariance':[flowername[0].covariance[length], flowername[1].covariance[length],\n",
    "                                    flowername[2].covariance[length], flowername[3].covariance[length]]\n",
    "                        })\n",
    "    std_dev = np.sqrt(df.covariance.values)\n",
    "    df['std_dev'] = std_dev\n",
    "    tau_table.append(df)\n",
    "    ctr+=1"
   ]
  },
  {
   "cell_type": "code",
   "execution_count": 11,
   "metadata": {},
   "outputs": [
    {
     "data": {
      "text/plain": [
       "[   name   mean_y0    std_y0        tau   covariance    std_dev\n",
       " 0   c-1  4.084000  3.155549   1.074173     0.131606   0.362776\n",
       " 1   c-2  3.547455  2.808735   0.741696     0.082488   0.287207\n",
       " 2   c-3  6.179600  4.287350   1.745208     0.896073   0.946611\n",
       " 3  c-10  5.886190  4.933216  45.600941  1435.813073  37.892124,\n",
       "    name   mean_y0    std_y0        tau   covariance    std_dev\n",
       " 0   c-1  3.204000  2.689474   1.391862     0.137068   0.370227\n",
       " 1   c-2  3.780667  2.995102   0.661325     0.083280   0.288583\n",
       " 2   c-3  6.281818  4.231659   1.662645     0.902831   0.950174\n",
       " 3  c-10  7.496000  5.307050  24.335878  1031.374125  32.115014,\n",
       "    name    mean_y0    std_y0       tau  covariance   std_dev\n",
       " 0   c-1   3.596000  3.367526  1.237559    0.133083  0.364805\n",
       " 1   c-2   3.764286  1.784730  0.666671    0.083155  0.288365\n",
       " 2   c-3   7.503333  5.257850  0.983632    1.280442  1.131566\n",
       " 3  c-10  10.710000  3.082986  0.040700         inf       inf]"
      ]
     },
     "execution_count": 11,
     "metadata": {},
     "output_type": "execute_result"
    }
   ],
   "source": [
    "tau_table"
   ]
  },
  {
   "cell_type": "code",
   "execution_count": 12,
   "metadata": {},
   "outputs": [],
   "source": [
    "import pickle\n",
    "\n",
    "with open('./dataFolders/Output/Step6_FloralTypeConsolidatedData_AndFitParameters_v2/AllFitVariables', 'wb') as fp:\n",
    "    pickle.dump(tau_table, fp)"
   ]
  },
  {
   "cell_type": "code",
   "execution_count": 13,
   "metadata": {},
   "outputs": [
    {
     "data": {
      "text/html": [
       "<div>\n",
       "<style scoped>\n",
       "    .dataframe tbody tr th:only-of-type {\n",
       "        vertical-align: middle;\n",
       "    }\n",
       "\n",
       "    .dataframe tbody tr th {\n",
       "        vertical-align: top;\n",
       "    }\n",
       "\n",
       "    .dataframe thead th {\n",
       "        text-align: right;\n",
       "    }\n",
       "</style>\n",
       "<table border=\"1\" class=\"dataframe\">\n",
       "  <thead>\n",
       "    <tr style=\"text-align: right;\">\n",
       "      <th></th>\n",
       "      <th>name</th>\n",
       "      <th>mean_y0</th>\n",
       "      <th>std_y0</th>\n",
       "      <th>tau</th>\n",
       "      <th>covariance</th>\n",
       "      <th>std_dev</th>\n",
       "    </tr>\n",
       "  </thead>\n",
       "  <tbody>\n",
       "    <tr>\n",
       "      <td>0</td>\n",
       "      <td>c-1</td>\n",
       "      <td>4.084000</td>\n",
       "      <td>3.155549</td>\n",
       "      <td>1.074173</td>\n",
       "      <td>0.131606</td>\n",
       "      <td>0.362776</td>\n",
       "    </tr>\n",
       "    <tr>\n",
       "      <td>1</td>\n",
       "      <td>c-2</td>\n",
       "      <td>3.547455</td>\n",
       "      <td>2.808735</td>\n",
       "      <td>0.741696</td>\n",
       "      <td>0.082488</td>\n",
       "      <td>0.287207</td>\n",
       "    </tr>\n",
       "    <tr>\n",
       "      <td>2</td>\n",
       "      <td>c-3</td>\n",
       "      <td>6.179600</td>\n",
       "      <td>4.287350</td>\n",
       "      <td>1.745208</td>\n",
       "      <td>0.896073</td>\n",
       "      <td>0.946611</td>\n",
       "    </tr>\n",
       "    <tr>\n",
       "      <td>3</td>\n",
       "      <td>c-10</td>\n",
       "      <td>5.886190</td>\n",
       "      <td>4.933216</td>\n",
       "      <td>45.600941</td>\n",
       "      <td>1435.813073</td>\n",
       "      <td>37.892124</td>\n",
       "    </tr>\n",
       "  </tbody>\n",
       "</table>\n",
       "</div>"
      ],
      "text/plain": [
       "   name   mean_y0    std_y0        tau   covariance    std_dev\n",
       "0   c-1  4.084000  3.155549   1.074173     0.131606   0.362776\n",
       "1   c-2  3.547455  2.808735   0.741696     0.082488   0.287207\n",
       "2   c-3  6.179600  4.287350   1.745208     0.896073   0.946611\n",
       "3  c-10  5.886190  4.933216  45.600941  1435.813073  37.892124"
      ]
     },
     "execution_count": 13,
     "metadata": {},
     "output_type": "execute_result"
    }
   ],
   "source": [
    "tau_table[0]"
   ]
  },
  {
   "cell_type": "code",
   "execution_count": 15,
   "metadata": {},
   "outputs": [],
   "source": [
    "# parameters used\n",
    "\n",
    "# which fitted parameters to pick from parameters df, those calculated from 1/2 (=0),1/4 (=1) or 1/8th (=2) of data \n",
    "\n",
    "idx = 1 # (because 1/4 length data slope is = 0 across all shapes)"
   ]
  },
  {
   "cell_type": "code",
   "execution_count": 16,
   "metadata": {},
   "outputs": [
    {
     "data": {
      "image/png": "[encoded data removed]",
      "text/plain": [
       "<Figure size 432x288 with 1 Axes>"
      ]
     },
     "metadata": {
      "needs_background": "light"
     },
     "output_type": "display_data"
    }
   ],
   "source": [
    "plt.errorbar(tau_table[idx].name, tau_table[idx].tau, yerr = tau_table[idx].covariance, fmt = 'o-.')\n",
    "plt.yscale('log')\n",
    "plt.ylabel('Learning constant')\n",
    "ymin, ymax = plt.ylim()\n",
    "plt.savefig(outpath_fig + 'tauWithSE.svg')"
   ]
  },
  {
   "cell_type": "code",
   "execution_count": 17,
   "metadata": {},
   "outputs": [
    {
     "data": {
      "image/png": "[encoded data removed]",
      "text/plain": [
       "<Figure size 432x288 with 1 Axes>"
      ]
     },
     "metadata": {
      "needs_background": "light"
     },
     "output_type": "display_data"
    }
   ],
   "source": [
    "plt.plot(tau_table[idx].name, tau_table[idx].tau, 'o-.')\n",
    "plt.yscale('log')\n",
    "plt.ylabel('Learning constant')\n",
    "plt.ylim(ymin, ymax)\n",
    "plt.savefig(outpath_fig + 'tau.svg')"
   ]
  },
  {
   "cell_type": "code",
   "execution_count": 18,
   "metadata": {},
   "outputs": [
    {
     "data": {
      "image/png": "[encoded data removed]",
      "text/plain": [
       "<Figure size 432x288 with 1 Axes>"
      ]
     },
     "metadata": {
      "needs_background": "light"
     },
     "output_type": "display_data"
    }
   ],
   "source": [
    "plt.errorbar(tau_table[idx].name, tau_table[idx].mean_y0, yerr = tau_table[idx].std_y0, fmt = 'o-.')\n",
    "plt.ylabel('y0')\n",
    "plt.savefig(outpath_fig + 'y_intercept.svg')"
   ]
  },
  {
   "cell_type": "code",
   "execution_count": null,
   "metadata": {},
   "outputs": [],
   "source": []
  }
 ],
 "metadata": {
  "kernelspec": {
   "display_name": "Python 3",
   "language": "python",
   "name": "python3"
  },
  "language_info": {
   "codemirror_mode": {
    "name": "ipython",
    "version": 3
   },
   "file_extension": ".py",
   "mimetype": "text/x-python",
   "name": "python",
   "nbconvert_exporter": "python",
   "pygments_lexer": "ipython3",
   "version": "3.6.5"
  }
 },
 "nbformat": 4,
 "nbformat_minor": 2
}
