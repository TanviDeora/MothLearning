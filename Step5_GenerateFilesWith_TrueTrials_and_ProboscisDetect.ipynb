{
 "cells": [
  {
   "cell_type": "code",
   "execution_count": 1,
   "metadata": {},
   "outputs": [],
   "source": [
    "import pandas as pd\n",
    "import numpy as np\n",
    "from scipy import io\n",
    "import os, errno"
   ]
  },
  {
   "cell_type": "code",
   "execution_count": 2,
   "metadata": {},
   "outputs": [],
   "source": [
    "# consolidate the true trials tDetect and exploration time across ALL the data.\n",
    "\n",
    "direc1 = './dataFolders/Output/Step3_TrialLabelling/Labelled_Data_SVM/'\n",
    "files = [file for file in os.listdir(direc1) if file.endswith('.csv')]\n",
    "\n",
    "\n",
    "# load all the files with IRdtect data\n",
    "direc2 = \"./dataFolders/Output/Step4_IRDetect/\"\n",
    "IR_data_files = [file for file in os.listdir(direc2) if file.endswith('.npy')]"
   ]
  },
  {
   "cell_type": "code",
   "execution_count": 3,
   "metadata": {},
   "outputs": [
    {
     "ename": "IndexError",
     "evalue": "list index out of range",
     "output_type": "error",
     "traceback": [
      "\u001b[1;31m---------------------------------------------------------------------------\u001b[0m",
      "\u001b[1;31mIndexError\u001b[0m                                Traceback (most recent call last)",
      "\u001b[1;32m<ipython-input-3-5b2e433dea42>\u001b[0m in \u001b[0;36m<module>\u001b[1;34m()\u001b[0m\n\u001b[0;32m     21\u001b[0m     \u001b[0mIR_detect_file\u001b[0m \u001b[1;33m=\u001b[0m \u001b[1;33m[\u001b[0m\u001b[0mfile\u001b[0m \u001b[1;32mfor\u001b[0m \u001b[0mfile\u001b[0m \u001b[1;32min\u001b[0m \u001b[0mIR_data_files\u001b[0m \u001b[1;32mif\u001b[0m \u001b[0mnew_fname\u001b[0m\u001b[1;33m[\u001b[0m\u001b[1;33m:\u001b[0m\u001b[1;33m-\u001b[0m\u001b[1;36m22\u001b[0m\u001b[1;33m]\u001b[0m \u001b[1;32min\u001b[0m \u001b[0mfile\u001b[0m\u001b[1;33m]\u001b[0m\u001b[1;33m\u001b[0m\u001b[0m\n\u001b[0;32m     22\u001b[0m \u001b[1;33m\u001b[0m\u001b[0m\n\u001b[1;32m---> 23\u001b[1;33m     \u001b[0mloadedIRdetect\u001b[0m \u001b[1;33m=\u001b[0m \u001b[0mnp\u001b[0m\u001b[1;33m.\u001b[0m\u001b[0mload\u001b[0m\u001b[1;33m(\u001b[0m\u001b[0mdirec2\u001b[0m \u001b[1;33m+\u001b[0m \u001b[1;34m'\\\\'\u001b[0m \u001b[1;33m+\u001b[0m \u001b[0mIR_detect_file\u001b[0m\u001b[1;33m[\u001b[0m\u001b[1;36m0\u001b[0m\u001b[1;33m]\u001b[0m\u001b[1;33m)\u001b[0m\u001b[1;33m\u001b[0m\u001b[0m\n\u001b[0m\u001b[0;32m     24\u001b[0m     \u001b[0mindx\u001b[0m \u001b[1;33m=\u001b[0m \u001b[0mnp\u001b[0m\u001b[1;33m.\u001b[0m\u001b[0mwhere\u001b[0m\u001b[1;33m(\u001b[0m\u001b[0mloadedIRdetect\u001b[0m\u001b[1;33m)\u001b[0m\u001b[1;33m\u001b[0m\u001b[0m\n\u001b[0;32m     25\u001b[0m     \u001b[0mindx\u001b[0m \u001b[1;33m=\u001b[0m \u001b[0mindx\u001b[0m\u001b[1;33m[\u001b[0m\u001b[1;36m0\u001b[0m\u001b[1;33m]\u001b[0m\u001b[1;33m.\u001b[0m\u001b[0mreshape\u001b[0m\u001b[1;33m(\u001b[0m\u001b[1;33m-\u001b[0m\u001b[1;36m1\u001b[0m\u001b[1;33m)\u001b[0m\u001b[1;33m\u001b[0m\u001b[0m\n",
      "\u001b[1;31mIndexError\u001b[0m: list index out of range"
     ]
    }
   ],
   "source": [
    "new_path = './dataFolders/Output/Step5_FilesWith_TrueTrialAnd_ProboscisDetect\\\\'\n",
    "\n",
    "try:\n",
    "    os.makedirs(new_path)\n",
    "except OSError as e:\n",
    "    if e.errno != errno.EEXIST:\n",
    "        raise\n",
    "\n",
    "for fname in files:\n",
    "    df = pd.read_csv(direc1 + '\\\\' + fname)\n",
    "    # pull out all the trueTrials and reset the index to default to get true trial #\n",
    "    trueTrials = df[df.label == 1].loc[:, ['MothIN', 'MothOut']].reset_index(drop = True)\n",
    "    \n",
    "    # remove \"cropped\" from filename to match IR file\n",
    "    if fname.find('_cropped') :\n",
    "        new_fname = fname.replace('_cropped','')\n",
    "    else: \n",
    "        new_fname = fname\n",
    "    \n",
    "    # load IR files and get indices of all the frames where IRDetect == 1\n",
    "    IR_detect_file = [file for file in IR_data_files if new_fname[:-22] in file]\n",
    "    \n",
    "    loadedIRdetect = np.load(direc2 + '\\\\' + IR_detect_file[0])\n",
    "    indx = np.where(loadedIRdetect)\n",
    "    indx = indx[0].reshape(-1)\n",
    "    \n",
    "    # for each true trial, find the first frame where IRDetect == True\n",
    "    proboscisDetect = []\n",
    "    discoveryTime = []\n",
    "    for framein, frameout in zip(trueTrials.MothIN, trueTrials.MothOut):\n",
    "        allframes = [frame for frame in indx if framein < frame < frameout]\n",
    "        if allframes == []:\n",
    "            detect = np.nan\n",
    "        else:\n",
    "            detect = min(allframes)\n",
    "        Time  = detect - framein\n",
    "        proboscisDetect.append(detect)\n",
    "        discoveryTime.append(Time)\n",
    "\n",
    "    df1 = pd.DataFrame({'ProboscisDetect': proboscisDetect})\n",
    "    df2 = pd.DataFrame({'DiscoveryTime' : discoveryTime})\n",
    "\n",
    "    new_data = pd.concat([trueTrials, df1, df2], axis = 1)\n",
    "    new_data.to_csv(new_path + fname[:-22] + '_RawDataForExplorationTime.csv')"
   ]
  },
  {
   "cell_type": "code",
   "execution_count": 4,
   "metadata": {},
   "outputs": [
    {
     "data": {
      "text/plain": [
       "'c-1_m10_MothInOut_labeled.csv'"
      ]
     },
     "execution_count": 4,
     "metadata": {},
     "output_type": "execute_result"
    }
   ],
   "source": [
    "fname"
   ]
  },
  {
   "cell_type": "code",
   "execution_count": null,
   "metadata": {},
   "outputs": [],
   "source": []
  }
 ],
 "metadata": {
  "kernelspec": {
   "display_name": "Python 3",
   "language": "python",
   "name": "python3"
  },
  "language_info": {
   "codemirror_mode": {
    "name": "ipython",
    "version": 3
   },
   "file_extension": ".py",
   "mimetype": "text/x-python",
   "name": "python",
   "nbconvert_exporter": "python",
   "pygments_lexer": "ipython3",
   "version": "3.6.5"
  }
 },
 "nbformat": 4,
 "nbformat_minor": 2
}
