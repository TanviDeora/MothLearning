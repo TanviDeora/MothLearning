{
 "cells": [
  {
   "cell_type": "code",
   "execution_count": 1,
   "metadata": {},
   "outputs": [
    {
     "name": "stdout",
     "output_type": "stream",
     "text": [
      "3.3.1\n"
     ]
    }
   ],
   "source": [
    "import numpy as np\n",
    "import cv2\n",
    "print(cv2.__version__)\n",
    "import glob\n",
    "import pandas as pd\n",
    "import os\n",
    "from moviepy.editor import VideoFileClip"
   ]
  },
  {
   "cell_type": "code",
   "execution_count": 2,
   "metadata": {},
   "outputs": [],
   "source": [
    "vid_path = \"E:\\Moth Learning Project\\AllVideosForAnalysis\\Mahad'sData\"\n",
    "files = glob.glob(vid_path + \"\\\\\" + '*.mp4')"
   ]
  },
  {
   "cell_type": "code",
   "execution_count": 3,
   "metadata": {},
   "outputs": [],
   "source": [
    "name = []\n",
    "frame_num = []\n",
    "total_time = []\n",
    "\n",
    "for file in files:\n",
    "    n = os.path.basename(file)\n",
    "      \n",
    "    my_clip = VideoFileClip(file)\n",
    "    duration = my_clip.duration # in seconds\n",
    "    fps =  my_clip.fps\n",
    "    length = int(duration * fps)\n",
    "    \n",
    "    name.append(n)\n",
    "    frame_num.append(length)\n",
    "    total_time.append(duration)\n",
    "    \n",
    "    del my_clip.reader\n",
    "    del my_clip\n",
    "\n",
    "file_info = pd.DataFrame({\"name\": name, \n",
    "                          \"frame_num\": frame_num,\n",
    "                         \"duration\" : total_time})"
   ]
  },
  {
   "cell_type": "code",
   "execution_count": 4,
   "metadata": {},
   "outputs": [
    {
     "data": {
      "text/html": [
       "<div>\n",
       "<style scoped>\n",
       "    .dataframe tbody tr th:only-of-type {\n",
       "        vertical-align: middle;\n",
       "    }\n",
       "\n",
       "    .dataframe tbody tr th {\n",
       "        vertical-align: top;\n",
       "    }\n",
       "\n",
       "    .dataframe thead th {\n",
       "        text-align: right;\n",
       "    }\n",
       "</style>\n",
       "<table border=\"1\" class=\"dataframe\">\n",
       "  <thead>\n",
       "    <tr style=\"text-align: right;\">\n",
       "      <th></th>\n",
       "      <th>name</th>\n",
       "      <th>frame_num</th>\n",
       "      <th>duration</th>\n",
       "    </tr>\n",
       "  </thead>\n",
       "  <tbody>\n",
       "    <tr>\n",
       "      <th>0</th>\n",
       "      <td>c-10_m16.mp4</td>\n",
       "      <td>306692</td>\n",
       "      <td>10223.09</td>\n",
       "    </tr>\n",
       "    <tr>\n",
       "      <th>1</th>\n",
       "      <td>c-10_m17.mp4</td>\n",
       "      <td>267166</td>\n",
       "      <td>8905.56</td>\n",
       "    </tr>\n",
       "    <tr>\n",
       "      <th>2</th>\n",
       "      <td>c-10_m18.mp4</td>\n",
       "      <td>219267</td>\n",
       "      <td>7308.93</td>\n",
       "    </tr>\n",
       "    <tr>\n",
       "      <th>3</th>\n",
       "      <td>c-10_m19.mp4</td>\n",
       "      <td>249458</td>\n",
       "      <td>8315.29</td>\n",
       "    </tr>\n",
       "    <tr>\n",
       "      <th>4</th>\n",
       "      <td>c-10_m20.mp4</td>\n",
       "      <td>219205</td>\n",
       "      <td>7306.86</td>\n",
       "    </tr>\n",
       "  </tbody>\n",
       "</table>\n",
       "</div>"
      ],
      "text/plain": [
       "           name  frame_num  duration\n",
       "0  c-10_m16.mp4     306692  10223.09\n",
       "1  c-10_m17.mp4     267166   8905.56\n",
       "2  c-10_m18.mp4     219267   7308.93\n",
       "3  c-10_m19.mp4     249458   8315.29\n",
       "4  c-10_m20.mp4     219205   7306.86"
      ]
     },
     "execution_count": 4,
     "metadata": {},
     "output_type": "execute_result"
    }
   ],
   "source": [
    "file_info.head()"
   ]
  },
  {
   "cell_type": "code",
   "execution_count": 5,
   "metadata": {},
   "outputs": [],
   "source": [
    "# max_Frame = capture fps * max time (min) * 60 seconds\n",
    "# therefore, max_duration @ 30fps = max_frame/30fps\n",
    "\n",
    "max_frame = 100*35*60 \n",
    "max_duration = max_frame/30"
   ]
  },
  {
   "cell_type": "code",
   "execution_count": 6,
   "metadata": {},
   "outputs": [],
   "source": [
    "to_be_clipped = file_info[file_info.duration > max_duration].reset_index()"
   ]
  },
  {
   "cell_type": "code",
   "execution_count": 7,
   "metadata": {},
   "outputs": [
    {
     "name": "stdout",
     "output_type": "stream",
     "text": [
      "[MoviePy] >>>> Building video E:\\Moth Learning Project\\AllVideosForAnalysis\\Mahad'sData\\c-10_m16.mp4_cropped.mp4\n",
      "[MoviePy] Writing video E:\\Moth Learning Project\\AllVideosForAnalysis\\Mahad'sData\\c-10_m16.mp4_cropped.mp4\n"
     ]
    },
    {
     "name": "stderr",
     "output_type": "stream",
     "text": [
      "100%|████████████████████████████████████████████████████████████████████████▉| 210000/210001 [18:06<00:00, 193.34it/s]\n"
     ]
    },
    {
     "name": "stdout",
     "output_type": "stream",
     "text": [
      "[MoviePy] Done.\n",
      "[MoviePy] >>>> Video ready: E:\\Moth Learning Project\\AllVideosForAnalysis\\Mahad'sData\\c-10_m16.mp4_cropped.mp4 \n",
      "\n",
      "[MoviePy] >>>> Building video E:\\Moth Learning Project\\AllVideosForAnalysis\\Mahad'sData\\c-10_m17.mp4_cropped.mp4\n",
      "[MoviePy] Writing video E:\\Moth Learning Project\\AllVideosForAnalysis\\Mahad'sData\\c-10_m17.mp4_cropped.mp4\n"
     ]
    },
    {
     "name": "stderr",
     "output_type": "stream",
     "text": [
      "100%|████████████████████████████████████████████████████████████████████████▉| 210000/210001 [17:26<00:00, 200.70it/s]\n"
     ]
    },
    {
     "name": "stdout",
     "output_type": "stream",
     "text": [
      "[MoviePy] Done.\n",
      "[MoviePy] >>>> Video ready: E:\\Moth Learning Project\\AllVideosForAnalysis\\Mahad'sData\\c-10_m17.mp4_cropped.mp4 \n",
      "\n",
      "[MoviePy] >>>> Building video E:\\Moth Learning Project\\AllVideosForAnalysis\\Mahad'sData\\c-10_m18.mp4_cropped.mp4\n",
      "[MoviePy] Writing video E:\\Moth Learning Project\\AllVideosForAnalysis\\Mahad'sData\\c-10_m18.mp4_cropped.mp4\n"
     ]
    },
    {
     "name": "stderr",
     "output_type": "stream",
     "text": [
      "100%|████████████████████████████████████████████████████████████████████████▉| 210000/210001 [16:29<00:00, 212.33it/s]\n"
     ]
    },
    {
     "name": "stdout",
     "output_type": "stream",
     "text": [
      "[MoviePy] Done.\n",
      "[MoviePy] >>>> Video ready: E:\\Moth Learning Project\\AllVideosForAnalysis\\Mahad'sData\\c-10_m18.mp4_cropped.mp4 \n",
      "\n",
      "[MoviePy] >>>> Building video E:\\Moth Learning Project\\AllVideosForAnalysis\\Mahad'sData\\c-10_m19.mp4_cropped.mp4\n",
      "[MoviePy] Writing video E:\\Moth Learning Project\\AllVideosForAnalysis\\Mahad'sData\\c-10_m19.mp4_cropped.mp4\n"
     ]
    },
    {
     "name": "stderr",
     "output_type": "stream",
     "text": [
      "100%|████████████████████████████████████████████████████████████████████████▉| 210000/210001 [14:58<00:00, 233.66it/s]\n"
     ]
    },
    {
     "name": "stdout",
     "output_type": "stream",
     "text": [
      "[MoviePy] Done.\n",
      "[MoviePy] >>>> Video ready: E:\\Moth Learning Project\\AllVideosForAnalysis\\Mahad'sData\\c-10_m19.mp4_cropped.mp4 \n",
      "\n",
      "[MoviePy] >>>> Building video E:\\Moth Learning Project\\AllVideosForAnalysis\\Mahad'sData\\c-10_m20.mp4_cropped.mp4\n",
      "[MoviePy] Writing video E:\\Moth Learning Project\\AllVideosForAnalysis\\Mahad'sData\\c-10_m20.mp4_cropped.mp4\n"
     ]
    },
    {
     "name": "stderr",
     "output_type": "stream",
     "text": [
      "100%|████████████████████████████████████████████████████████████████████████▉| 210000/210001 [15:25<00:00, 226.93it/s]\n"
     ]
    },
    {
     "name": "stdout",
     "output_type": "stream",
     "text": [
      "[MoviePy] Done.\n",
      "[MoviePy] >>>> Video ready: E:\\Moth Learning Project\\AllVideosForAnalysis\\Mahad'sData\\c-10_m20.mp4_cropped.mp4 \n",
      "\n",
      "[MoviePy] >>>> Building video E:\\Moth Learning Project\\AllVideosForAnalysis\\Mahad'sData\\c-10_m21.mp4_cropped.mp4\n",
      "[MoviePy] Writing video E:\\Moth Learning Project\\AllVideosForAnalysis\\Mahad'sData\\c-10_m21.mp4_cropped.mp4\n"
     ]
    },
    {
     "name": "stderr",
     "output_type": "stream",
     "text": [
      "100%|████████████████████████████████████████████████████████████████████████▉| 210000/210001 [16:22<00:00, 213.72it/s]\n"
     ]
    },
    {
     "name": "stdout",
     "output_type": "stream",
     "text": [
      "[MoviePy] Done.\n",
      "[MoviePy] >>>> Video ready: E:\\Moth Learning Project\\AllVideosForAnalysis\\Mahad'sData\\c-10_m21.mp4_cropped.mp4 \n",
      "\n",
      "[MoviePy] >>>> Building video E:\\Moth Learning Project\\AllVideosForAnalysis\\Mahad'sData\\c-10_m22.mp4_cropped.mp4\n",
      "[MoviePy] Writing video E:\\Moth Learning Project\\AllVideosForAnalysis\\Mahad'sData\\c-10_m22.mp4_cropped.mp4\n"
     ]
    },
    {
     "name": "stderr",
     "output_type": "stream",
     "text": [
      "100%|████████████████████████████████████████████████████████████████████████▉| 210000/210001 [16:49<00:00, 208.10it/s]\n"
     ]
    },
    {
     "name": "stdout",
     "output_type": "stream",
     "text": [
      "[MoviePy] Done.\n",
      "[MoviePy] >>>> Video ready: E:\\Moth Learning Project\\AllVideosForAnalysis\\Mahad'sData\\c-10_m22.mp4_cropped.mp4 \n",
      "\n",
      "[MoviePy] >>>> Building video E:\\Moth Learning Project\\AllVideosForAnalysis\\Mahad'sData\\c-10_m23.mp4_cropped.mp4\n",
      "[MoviePy] Writing video E:\\Moth Learning Project\\AllVideosForAnalysis\\Mahad'sData\\c-10_m23.mp4_cropped.mp4\n"
     ]
    },
    {
     "name": "stderr",
     "output_type": "stream",
     "text": [
      "100%|████████████████████████████████████████████████████████████████████████▉| 210000/210001 [16:56<00:00, 206.67it/s]\n"
     ]
    },
    {
     "name": "stdout",
     "output_type": "stream",
     "text": [
      "[MoviePy] Done.\n",
      "[MoviePy] >>>> Video ready: E:\\Moth Learning Project\\AllVideosForAnalysis\\Mahad'sData\\c-10_m23.mp4_cropped.mp4 \n",
      "\n",
      "[MoviePy] >>>> Building video E:\\Moth Learning Project\\AllVideosForAnalysis\\Mahad'sData\\c-10_m24.mp4_cropped.mp4\n",
      "[MoviePy] Writing video E:\\Moth Learning Project\\AllVideosForAnalysis\\Mahad'sData\\c-10_m24.mp4_cropped.mp4\n"
     ]
    },
    {
     "name": "stderr",
     "output_type": "stream",
     "text": [
      "100%|████████████████████████████████████████████████████████████████████████▉| 210000/210001 [16:48<00:00, 208.16it/s]\n"
     ]
    },
    {
     "name": "stdout",
     "output_type": "stream",
     "text": [
      "[MoviePy] Done.\n",
      "[MoviePy] >>>> Video ready: E:\\Moth Learning Project\\AllVideosForAnalysis\\Mahad'sData\\c-10_m24.mp4_cropped.mp4 \n",
      "\n",
      "[MoviePy] >>>> Building video E:\\Moth Learning Project\\AllVideosForAnalysis\\Mahad'sData\\c-1_m18.mp4_cropped.mp4\n",
      "[MoviePy] Writing video E:\\Moth Learning Project\\AllVideosForAnalysis\\Mahad'sData\\c-1_m18.mp4_cropped.mp4\n"
     ]
    },
    {
     "name": "stderr",
     "output_type": "stream",
     "text": [
      "100%|████████████████████████████████████████████████████████████████████████▉| 210000/210001 [18:33<00:00, 188.63it/s]\n"
     ]
    },
    {
     "name": "stdout",
     "output_type": "stream",
     "text": [
      "[MoviePy] Done.\n",
      "[MoviePy] >>>> Video ready: E:\\Moth Learning Project\\AllVideosForAnalysis\\Mahad'sData\\c-1_m18.mp4_cropped.mp4 \n",
      "\n",
      "[MoviePy] >>>> Building video E:\\Moth Learning Project\\AllVideosForAnalysis\\Mahad'sData\\c-1_m24.mp4_cropped.mp4\n",
      "[MoviePy] Writing video E:\\Moth Learning Project\\AllVideosForAnalysis\\Mahad'sData\\c-1_m24.mp4_cropped.mp4\n"
     ]
    },
    {
     "name": "stderr",
     "output_type": "stream",
     "text": [
      "100%|████████████████████████████████████████████████████████████████████████▉| 210000/210001 [17:04<00:00, 204.94it/s]\n"
     ]
    },
    {
     "name": "stdout",
     "output_type": "stream",
     "text": [
      "[MoviePy] Done.\n",
      "[MoviePy] >>>> Video ready: E:\\Moth Learning Project\\AllVideosForAnalysis\\Mahad'sData\\c-1_m24.mp4_cropped.mp4 \n",
      "\n",
      "[MoviePy] >>>> Building video E:\\Moth Learning Project\\AllVideosForAnalysis\\Mahad'sData\\c-2_m13.mp4_cropped.mp4\n",
      "[MoviePy] Writing video E:\\Moth Learning Project\\AllVideosForAnalysis\\Mahad'sData\\c-2_m13.mp4_cropped.mp4\n"
     ]
    },
    {
     "name": "stderr",
     "output_type": "stream",
     "text": [
      "100%|████████████████████████████████████████████████████████████████████████▉| 210000/210001 [16:06<00:00, 217.25it/s]\n"
     ]
    },
    {
     "name": "stdout",
     "output_type": "stream",
     "text": [
      "[MoviePy] Done.\n",
      "[MoviePy] >>>> Video ready: E:\\Moth Learning Project\\AllVideosForAnalysis\\Mahad'sData\\c-2_m13.mp4_cropped.mp4 \n",
      "\n",
      "[MoviePy] >>>> Building video E:\\Moth Learning Project\\AllVideosForAnalysis\\Mahad'sData\\c-2_m14.mp4_cropped.mp4\n",
      "[MoviePy] Writing video E:\\Moth Learning Project\\AllVideosForAnalysis\\Mahad'sData\\c-2_m14.mp4_cropped.mp4\n"
     ]
    },
    {
     "name": "stderr",
     "output_type": "stream",
     "text": [
      "100%|████████████████████████████████████████████████████████████████████████▉| 210000/210001 [16:09<00:00, 216.54it/s]\n"
     ]
    },
    {
     "name": "stdout",
     "output_type": "stream",
     "text": [
      "[MoviePy] Done.\n",
      "[MoviePy] >>>> Video ready: E:\\Moth Learning Project\\AllVideosForAnalysis\\Mahad'sData\\c-2_m14.mp4_cropped.mp4 \n",
      "\n",
      "[MoviePy] >>>> Building video E:\\Moth Learning Project\\AllVideosForAnalysis\\Mahad'sData\\c-2_m16.mp4_cropped.mp4\n",
      "[MoviePy] Writing video E:\\Moth Learning Project\\AllVideosForAnalysis\\Mahad'sData\\c-2_m16.mp4_cropped.mp4\n"
     ]
    },
    {
     "name": "stderr",
     "output_type": "stream",
     "text": [
      "100%|████████████████████████████████████████████████████████████████████████▉| 210000/210001 [16:20<00:00, 214.28it/s]\n"
     ]
    },
    {
     "name": "stdout",
     "output_type": "stream",
     "text": [
      "[MoviePy] Done.\n",
      "[MoviePy] >>>> Video ready: E:\\Moth Learning Project\\AllVideosForAnalysis\\Mahad'sData\\c-2_m16.mp4_cropped.mp4 \n",
      "\n",
      "[MoviePy] >>>> Building video E:\\Moth Learning Project\\AllVideosForAnalysis\\Mahad'sData\\c-2_m21.mp4_cropped.mp4\n",
      "[MoviePy] Writing video E:\\Moth Learning Project\\AllVideosForAnalysis\\Mahad'sData\\c-2_m21.mp4_cropped.mp4\n"
     ]
    },
    {
     "name": "stderr",
     "output_type": "stream",
     "text": [
      "100%|████████████████████████████████████████████████████████████████████████▉| 210000/210001 [15:27<00:00, 226.47it/s]\n"
     ]
    },
    {
     "name": "stdout",
     "output_type": "stream",
     "text": [
      "[MoviePy] Done.\n",
      "[MoviePy] >>>> Video ready: E:\\Moth Learning Project\\AllVideosForAnalysis\\Mahad'sData\\c-2_m21.mp4_cropped.mp4 \n",
      "\n",
      "[MoviePy] >>>> Building video E:\\Moth Learning Project\\AllVideosForAnalysis\\Mahad'sData\\c-3_m14.mp4_cropped.mp4\n",
      "[MoviePy] Writing video E:\\Moth Learning Project\\AllVideosForAnalysis\\Mahad'sData\\c-3_m14.mp4_cropped.mp4\n"
     ]
    },
    {
     "name": "stderr",
     "output_type": "stream",
     "text": [
      "100%|████████████████████████████████████████████████████████████████████████▉| 210000/210001 [15:45<00:00, 222.06it/s]\n"
     ]
    },
    {
     "name": "stdout",
     "output_type": "stream",
     "text": [
      "[MoviePy] Done.\n",
      "[MoviePy] >>>> Video ready: E:\\Moth Learning Project\\AllVideosForAnalysis\\Mahad'sData\\c-3_m14.mp4_cropped.mp4 \n",
      "\n",
      "[MoviePy] >>>> Building video E:\\Moth Learning Project\\AllVideosForAnalysis\\Mahad'sData\\c-3_m19.mp4_cropped.mp4\n",
      "[MoviePy] Writing video E:\\Moth Learning Project\\AllVideosForAnalysis\\Mahad'sData\\c-3_m19.mp4_cropped.mp4\n"
     ]
    },
    {
     "name": "stderr",
     "output_type": "stream",
     "text": [
      "100%|████████████████████████████████████████████████████████████████████████▉| 210000/210001 [16:10<00:00, 216.29it/s]\n"
     ]
    },
    {
     "name": "stdout",
     "output_type": "stream",
     "text": [
      "[MoviePy] Done.\n",
      "[MoviePy] >>>> Video ready: E:\\Moth Learning Project\\AllVideosForAnalysis\\Mahad'sData\\c-3_m19.mp4_cropped.mp4 \n",
      "\n",
      "[MoviePy] >>>> Building video E:\\Moth Learning Project\\AllVideosForAnalysis\\Mahad'sData\\c-3_m21.mp4_cropped.mp4\n",
      "[MoviePy] Writing video E:\\Moth Learning Project\\AllVideosForAnalysis\\Mahad'sData\\c-3_m21.mp4_cropped.mp4\n"
     ]
    },
    {
     "name": "stderr",
     "output_type": "stream",
     "text": [
      "100%|████████████████████████████████████████████████████████████████████████▉| 210000/210001 [16:11<00:00, 216.12it/s]\n"
     ]
    },
    {
     "name": "stdout",
     "output_type": "stream",
     "text": [
      "[MoviePy] Done.\n",
      "[MoviePy] >>>> Video ready: E:\\Moth Learning Project\\AllVideosForAnalysis\\Mahad'sData\\c-3_m21.mp4_cropped.mp4 \n",
      "\n",
      "[MoviePy] >>>> Building video E:\\Moth Learning Project\\AllVideosForAnalysis\\Mahad'sData\\c-3_m23.mp4_cropped.mp4\n",
      "[MoviePy] Writing video E:\\Moth Learning Project\\AllVideosForAnalysis\\Mahad'sData\\c-3_m23.mp4_cropped.mp4\n"
     ]
    },
    {
     "name": "stderr",
     "output_type": "stream",
     "text": [
      "100%|████████████████████████████████████████████████████████████████████████▉| 210000/210001 [15:21<00:00, 227.80it/s]\n"
     ]
    },
    {
     "name": "stdout",
     "output_type": "stream",
     "text": [
      "[MoviePy] Done.\n",
      "[MoviePy] >>>> Video ready: E:\\Moth Learning Project\\AllVideosForAnalysis\\Mahad'sData\\c-3_m23.mp4_cropped.mp4 \n",
      "\n"
     ]
    }
   ],
   "source": [
    "size = len(to_be_clipped)\n",
    "\n",
    "for idx in range(0,size):\n",
    "    myvid = VideoFileClip(vid_path + \"\\\\\" + to_be_clipped.loc[idx,\"name\"])\n",
    "    clippedVideo = myvid.subclip(0, max_duration)\n",
    "    \n",
    "    newName = to_be_clipped.loc[idx,\"name\"] + '_cropped' \n",
    "    clippedVideo.write_videofile(vid_path + \"\\\\\" + newName + '.mp4', codec = 'libx264', fps=30)\n",
    "    \n",
    "    del myvid.reader\n",
    "    del myvid"
   ]
  },
  {
   "cell_type": "code",
   "execution_count": null,
   "metadata": {},
   "outputs": [],
   "source": []
  }
 ],
 "metadata": {
  "kernelspec": {
   "display_name": "Python 3",
   "language": "python",
   "name": "python3"
  },
  "language_info": {
   "codemirror_mode": {
    "name": "ipython",
    "version": 3
   },
   "file_extension": ".py",
   "mimetype": "text/x-python",
   "name": "python",
   "nbconvert_exporter": "python",
   "pygments_lexer": "ipython3",
   "version": "3.6.5"
  }
 },
 "nbformat": 4,
 "nbformat_minor": 2
}
