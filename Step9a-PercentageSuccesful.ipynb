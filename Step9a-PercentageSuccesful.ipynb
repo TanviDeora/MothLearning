{
 "cells": [
  {
   "cell_type": "code",
   "execution_count": 61,
   "metadata": {},
   "outputs": [],
   "source": [
    "import pandas as pd\n",
    "\n",
    "import matplotlib.pyplot as plt\n",
    "from matplotlib import style\n",
    "# style.use(\"ggplot\")\n",
    "import seaborn as sns\n",
    "\n",
    "import os\n",
    "import numpy as np\n",
    "import glob\n",
    "\n",
    "import matplotlib\n",
    "matplotlib.rcParams['pdf.fonttype'] = 42\n",
    "matplotlib.rcParams['ps.fonttype'] = 42"
   ]
  },
  {
   "cell_type": "code",
   "execution_count": 15,
   "metadata": {},
   "outputs": [],
   "source": [
    "path = './dataFolders/Output/Step6_FloralTypeConsolidatedData_AndFitParameters_v2/'\n",
    "files = glob.glob(path  + 'c*_Alltrials.csv')"
   ]
  },
  {
   "cell_type": "code",
   "execution_count": 16,
   "metadata": {},
   "outputs": [
    {
     "data": {
      "text/plain": [
       "['./dataFolders/Output/Step6_FloralTypeConsolidatedData_AndFitParameters_v2\\\\c-10_Alltrials.csv',\n",
       " './dataFolders/Output/Step6_FloralTypeConsolidatedData_AndFitParameters_v2\\\\c-1_Alltrials.csv',\n",
       " './dataFolders/Output/Step6_FloralTypeConsolidatedData_AndFitParameters_v2\\\\c-2_Alltrials.csv',\n",
       " './dataFolders/Output/Step6_FloralTypeConsolidatedData_AndFitParameters_v2\\\\c-3_Alltrials.csv']"
      ]
     },
     "execution_count": 16,
     "metadata": {},
     "output_type": "execute_result"
    }
   ],
   "source": [
    "files"
   ]
  },
  {
   "cell_type": "code",
   "execution_count": 17,
   "metadata": {},
   "outputs": [],
   "source": [
    "data_df = pd.DataFrame(index = np.arange(0,25), columns = ['c-1', 'c-2', 'c-3', 'c-10'])\n",
    "for file in files:\n",
    "    df = pd.read_csv(file)\n",
    "    flowername = os.path.basename(file)[:-14]\n",
    "    temp = []\n",
    "    for name,moth in df.groupby('name'):\n",
    "        success = moth['DiscoveryTime'].count() / moth['trialNum'].count()\n",
    "        temp.append(success)\n",
    "    new_df = pd.Series([temp])    \n",
    "    data_df.loc[0:len(temp)-1,flowername] = temp"
   ]
  },
  {
   "cell_type": "code",
   "execution_count": 18,
   "metadata": {},
   "outputs": [],
   "source": [
    "data_df = data_df.astype('float')"
   ]
  },
  {
   "cell_type": "code",
   "execution_count": 19,
   "metadata": {},
   "outputs": [
    {
     "data": {
      "text/plain": [
       "c-1     float64\n",
       "c-2     float64\n",
       "c-3     float64\n",
       "c-10    float64\n",
       "dtype: object"
      ]
     },
     "execution_count": 19,
     "metadata": {},
     "output_type": "execute_result"
    }
   ],
   "source": [
    "data_df.dtypes"
   ]
  },
  {
   "cell_type": "code",
   "execution_count": 20,
   "metadata": {},
   "outputs": [
    {
     "data": {
      "text/html": [
       "<div>\n",
       "<style scoped>\n",
       "    .dataframe tbody tr th:only-of-type {\n",
       "        vertical-align: middle;\n",
       "    }\n",
       "\n",
       "    .dataframe tbody tr th {\n",
       "        vertical-align: top;\n",
       "    }\n",
       "\n",
       "    .dataframe thead th {\n",
       "        text-align: right;\n",
       "    }\n",
       "</style>\n",
       "<table border=\"1\" class=\"dataframe\">\n",
       "  <thead>\n",
       "    <tr style=\"text-align: right;\">\n",
       "      <th></th>\n",
       "      <th>0</th>\n",
       "      <th>1</th>\n",
       "      <th>2</th>\n",
       "      <th>3</th>\n",
       "      <th>4</th>\n",
       "      <th>5</th>\n",
       "      <th>6</th>\n",
       "      <th>7</th>\n",
       "      <th>8</th>\n",
       "      <th>9</th>\n",
       "      <th>...</th>\n",
       "      <th>16</th>\n",
       "      <th>17</th>\n",
       "      <th>18</th>\n",
       "      <th>19</th>\n",
       "      <th>20</th>\n",
       "      <th>21</th>\n",
       "      <th>22</th>\n",
       "      <th>23</th>\n",
       "      <th>24</th>\n",
       "      <th>flower</th>\n",
       "    </tr>\n",
       "  </thead>\n",
       "  <tbody>\n",
       "    <tr>\n",
       "      <td>c-1</td>\n",
       "      <td>0.909091</td>\n",
       "      <td>1.000000</td>\n",
       "      <td>0.909091</td>\n",
       "      <td>0.882353</td>\n",
       "      <td>0.925000</td>\n",
       "      <td>0.800000</td>\n",
       "      <td>1.000000</td>\n",
       "      <td>0.961538</td>\n",
       "      <td>1.000000</td>\n",
       "      <td>1.000000</td>\n",
       "      <td>...</td>\n",
       "      <td>0.750000</td>\n",
       "      <td>0.961538</td>\n",
       "      <td>0.903226</td>\n",
       "      <td>NaN</td>\n",
       "      <td>NaN</td>\n",
       "      <td>NaN</td>\n",
       "      <td>NaN</td>\n",
       "      <td>NaN</td>\n",
       "      <td>NaN</td>\n",
       "      <td>c-1</td>\n",
       "    </tr>\n",
       "    <tr>\n",
       "      <td>c-2</td>\n",
       "      <td>0.842105</td>\n",
       "      <td>0.894737</td>\n",
       "      <td>0.931034</td>\n",
       "      <td>0.937500</td>\n",
       "      <td>0.857143</td>\n",
       "      <td>0.833333</td>\n",
       "      <td>0.842105</td>\n",
       "      <td>0.937500</td>\n",
       "      <td>0.833333</td>\n",
       "      <td>0.000000</td>\n",
       "      <td>...</td>\n",
       "      <td>0.800000</td>\n",
       "      <td>1.000000</td>\n",
       "      <td>0.692308</td>\n",
       "      <td>0.750000</td>\n",
       "      <td>0.777778</td>\n",
       "      <td>NaN</td>\n",
       "      <td>NaN</td>\n",
       "      <td>NaN</td>\n",
       "      <td>NaN</td>\n",
       "      <td>c-2</td>\n",
       "    </tr>\n",
       "    <tr>\n",
       "      <td>c-3</td>\n",
       "      <td>1.000000</td>\n",
       "      <td>0.821429</td>\n",
       "      <td>0.673077</td>\n",
       "      <td>0.607143</td>\n",
       "      <td>0.166667</td>\n",
       "      <td>0.000000</td>\n",
       "      <td>0.916667</td>\n",
       "      <td>0.800000</td>\n",
       "      <td>0.875000</td>\n",
       "      <td>0.000000</td>\n",
       "      <td>...</td>\n",
       "      <td>0.208333</td>\n",
       "      <td>0.892857</td>\n",
       "      <td>1.000000</td>\n",
       "      <td>0.333333</td>\n",
       "      <td>1.000000</td>\n",
       "      <td>0.900</td>\n",
       "      <td>0.619048</td>\n",
       "      <td>0.916667</td>\n",
       "      <td>NaN</td>\n",
       "      <td>c-3</td>\n",
       "    </tr>\n",
       "    <tr>\n",
       "      <td>c-10</td>\n",
       "      <td>0.000000</td>\n",
       "      <td>0.000000</td>\n",
       "      <td>0.296875</td>\n",
       "      <td>0.133333</td>\n",
       "      <td>0.000000</td>\n",
       "      <td>0.200000</td>\n",
       "      <td>0.300000</td>\n",
       "      <td>0.055556</td>\n",
       "      <td>0.250000</td>\n",
       "      <td>0.227273</td>\n",
       "      <td>...</td>\n",
       "      <td>0.360000</td>\n",
       "      <td>0.476190</td>\n",
       "      <td>0.370370</td>\n",
       "      <td>0.000000</td>\n",
       "      <td>0.166667</td>\n",
       "      <td>0.375</td>\n",
       "      <td>NaN</td>\n",
       "      <td>NaN</td>\n",
       "      <td>NaN</td>\n",
       "      <td>c-10</td>\n",
       "    </tr>\n",
       "  </tbody>\n",
       "</table>\n",
       "<p>4 rows × 26 columns</p>\n",
       "</div>"
      ],
      "text/plain": [
       "             0         1         2         3         4         5         6  \\\n",
       "c-1   0.909091  1.000000  0.909091  0.882353  0.925000  0.800000  1.000000   \n",
       "c-2   0.842105  0.894737  0.931034  0.937500  0.857143  0.833333  0.842105   \n",
       "c-3   1.000000  0.821429  0.673077  0.607143  0.166667  0.000000  0.916667   \n",
       "c-10  0.000000  0.000000  0.296875  0.133333  0.000000  0.200000  0.300000   \n",
       "\n",
       "             7         8         9  ...        16        17        18  \\\n",
       "c-1   0.961538  1.000000  1.000000  ...  0.750000  0.961538  0.903226   \n",
       "c-2   0.937500  0.833333  0.000000  ...  0.800000  1.000000  0.692308   \n",
       "c-3   0.800000  0.875000  0.000000  ...  0.208333  0.892857  1.000000   \n",
       "c-10  0.055556  0.250000  0.227273  ...  0.360000  0.476190  0.370370   \n",
       "\n",
       "            19        20     21        22        23  24  flower  \n",
       "c-1        NaN       NaN    NaN       NaN       NaN NaN     c-1  \n",
       "c-2   0.750000  0.777778    NaN       NaN       NaN NaN     c-2  \n",
       "c-3   0.333333  1.000000  0.900  0.619048  0.916667 NaN     c-3  \n",
       "c-10  0.000000  0.166667  0.375       NaN       NaN NaN    c-10  \n",
       "\n",
       "[4 rows x 26 columns]"
      ]
     },
     "execution_count": 20,
     "metadata": {},
     "output_type": "execute_result"
    }
   ],
   "source": [
    "bla = data_df.transpose()\n",
    "bla['flower'] = bla.index\n",
    "bla.head()"
   ]
  },
  {
   "cell_type": "code",
   "execution_count": 21,
   "metadata": {},
   "outputs": [
    {
     "data": {
      "text/html": [
       "<div>\n",
       "<style scoped>\n",
       "    .dataframe tbody tr th:only-of-type {\n",
       "        vertical-align: middle;\n",
       "    }\n",
       "\n",
       "    .dataframe tbody tr th {\n",
       "        vertical-align: top;\n",
       "    }\n",
       "\n",
       "    .dataframe thead th {\n",
       "        text-align: right;\n",
       "    }\n",
       "</style>\n",
       "<table border=\"1\" class=\"dataframe\">\n",
       "  <thead>\n",
       "    <tr style=\"text-align: right;\">\n",
       "      <th></th>\n",
       "      <th>flower</th>\n",
       "      <th>mothnumber</th>\n",
       "      <th>PercentageSuccess</th>\n",
       "    </tr>\n",
       "  </thead>\n",
       "  <tbody>\n",
       "    <tr>\n",
       "      <td>0</td>\n",
       "      <td>c-1</td>\n",
       "      <td>0</td>\n",
       "      <td>0.909091</td>\n",
       "    </tr>\n",
       "    <tr>\n",
       "      <td>1</td>\n",
       "      <td>c-2</td>\n",
       "      <td>0</td>\n",
       "      <td>0.842105</td>\n",
       "    </tr>\n",
       "    <tr>\n",
       "      <td>2</td>\n",
       "      <td>c-3</td>\n",
       "      <td>0</td>\n",
       "      <td>1.000000</td>\n",
       "    </tr>\n",
       "    <tr>\n",
       "      <td>3</td>\n",
       "      <td>c-10</td>\n",
       "      <td>0</td>\n",
       "      <td>0.000000</td>\n",
       "    </tr>\n",
       "    <tr>\n",
       "      <td>4</td>\n",
       "      <td>c-1</td>\n",
       "      <td>1</td>\n",
       "      <td>1.000000</td>\n",
       "    </tr>\n",
       "  </tbody>\n",
       "</table>\n",
       "</div>"
      ],
      "text/plain": [
       "  flower mothnumber  PercentageSuccess\n",
       "0    c-1          0           0.909091\n",
       "1    c-2          0           0.842105\n",
       "2    c-3          0           1.000000\n",
       "3   c-10          0           0.000000\n",
       "4    c-1          1           1.000000"
      ]
     },
     "execution_count": 21,
     "metadata": {},
     "output_type": "execute_result"
    }
   ],
   "source": [
    "new = pd.melt(bla,id_vars='flower',var_name='mothnumber', value_name='PercentageSuccess')\n",
    "new.head()"
   ]
  },
  {
   "cell_type": "code",
   "execution_count": 24,
   "metadata": {},
   "outputs": [],
   "source": [
    "# plt.boxplot(data_df.transpose(), 'o-')\n",
    "# plt.ylabel('fraction successful visit')\n",
    "# # plt.savefig('./dataFolders/Output/Figures/v2/' + 'fractionSuccessful.png')"
   ]
  },
  {
   "cell_type": "code",
   "execution_count": 62,
   "metadata": {},
   "outputs": [
    {
     "name": "stderr",
     "output_type": "stream",
     "text": [
      "C:\\Users\\Tanvi\\AppData\\Local\\Continuum\\anaconda3\\lib\\site-packages\\seaborn\\categorical.py:1324: RuntimeWarning: invalid value encountered in less\n",
      "  off_low = points < low_gutter\n",
      "C:\\Users\\Tanvi\\AppData\\Local\\Continuum\\anaconda3\\lib\\site-packages\\seaborn\\categorical.py:1328: RuntimeWarning: invalid value encountered in greater\n",
      "  off_high = points > high_gutter\n"
     ]
    },
    {
     "data": {
      "image/png": "[encoded data removed]",
      "text/plain": [
       "<Figure size 432x288 with 1 Axes>"
      ]
     },
     "metadata": {
      "needs_background": "light"
     },
     "output_type": "display_data"
    }
   ],
   "source": [
    "colorScheme = ['#e5e534', '#a1dab4', '#41b6c4', '#225ea8']\n",
    "colorScheme = ['gray']*4\n",
    "\n",
    "\n",
    "sns.swarmplot(x = \"flower\", y = \"PercentageSuccess\", data = new, palette = colorScheme)\n",
    "sns.pointplot(x = \"flower\", y = \"PercentageSuccess\", data = new, \n",
    "              color = 'k', errwidth = 2, linestyles = '', markers = '_')\n",
    "plt.savefig('./dataFolders/Output/Figures/v2/testColorScheme/' + 'PercentageSuccesful.pdf')"
   ]
  },
  {
   "cell_type": "code",
   "execution_count": 10,
   "metadata": {},
   "outputs": [],
   "source": [
    "import scipy.stats as stats\n",
    "# import researchpy as rp\n",
    "import statsmodels.api as sm\n",
    "from statsmodels.formula.api import ols"
   ]
  },
  {
   "cell_type": "code",
   "execution_count": 44,
   "metadata": {},
   "outputs": [
    {
     "data": {
      "text/plain": [
       "0     0.909091\n",
       "1     0.842105\n",
       "2     1.000000\n",
       "3     0.000000\n",
       "4     1.000000\n",
       "        ...   \n",
       "95         NaN\n",
       "96         NaN\n",
       "97         NaN\n",
       "98         NaN\n",
       "99         NaN\n",
       "Name: PercentageSuccess, Length: 100, dtype: float64"
      ]
     },
     "execution_count": 44,
     "metadata": {},
     "output_type": "execute_result"
    }
   ],
   "source": [
    "new['PercentageSuccess']"
   ]
  },
  {
   "cell_type": "code",
   "execution_count": 49,
   "metadata": {},
   "outputs": [
    {
     "data": {
      "text/plain": [
       "KruskalResult(statistic=41.89851411238542, pvalue=4.216092185307494e-09)"
      ]
     },
     "execution_count": 49,
     "metadata": {},
     "output_type": "execute_result"
    }
   ],
   "source": [
    "c1 = new.loc[new.flower == 'c-1', 'PercentageSuccess'].values\n",
    "c1= c1[~np.isnan(c1)]\n",
    "c2 = new.loc[new.flower == 'c-2', 'PercentageSuccess'].values\n",
    "c2 = c2[~np.isnan(c2)]\n",
    "c3 = new.loc[new.flower == 'c-3', 'PercentageSuccess'].values\n",
    "c3 = c3[~np.isnan(c3)]\n",
    "c10 = new.loc[new.flower == 'c-10', 'PercentageSuccess'].values\n",
    "c10 = c10[~np.isnan(c10)]\n",
    "\n",
    "stats.kruskal(list(c1), list(c2), list(c3), list(c10))"
   ]
  },
  {
   "cell_type": "code",
   "execution_count": 57,
   "metadata": {},
   "outputs": [
    {
     "name": "stdout",
     "output_type": "stream",
     "text": [
      "Multiple Comparison of Means - Tukey HSD, FWER=0.05 \n",
      "====================================================\n",
      "group1 group2 meandiff p-adj   lower   upper  reject\n",
      "----------------------------------------------------\n",
      "   c-1   c-10  -0.6757  0.001 -0.8619 -0.4896   True\n",
      "   c-1    c-2  -0.0977 0.5241 -0.2859  0.0905  False\n",
      "   c-1    c-3  -0.1985 0.0276  -0.381  -0.016   True\n",
      "  c-10    c-2    0.578  0.001  0.3967  0.7594   True\n",
      "  c-10    c-3   0.4772  0.001  0.3018  0.6527   True\n",
      "   c-2    c-3  -0.1008 0.4503 -0.2784  0.0768  False\n",
      "----------------------------------------------------\n",
      "['c-1' 'c-10' 'c-2' 'c-3']\n"
     ]
    }
   ],
   "source": [
    "from statsmodels.stats.multicomp import pairwise_tukeyhsd\n",
    "from statsmodels.stats.multicomp import MultiComparison\n",
    "\n",
    "new = new.dropna()\n",
    "mc = MultiComparison(new['PercentageSuccess'], new['flower'])\n",
    "result = mc.tukeyhsd()\n",
    " \n",
    "print(result)\n",
    "print(mc.groupsunique)"
   ]
  },
  {
   "cell_type": "code",
   "execution_count": 58,
   "metadata": {},
   "outputs": [
    {
     "data": {
      "text/plain": [
       "flower                object\n",
       "mothnumber            object\n",
       "PercentageSuccess    float64\n",
       "dtype: object"
      ]
     },
     "execution_count": 58,
     "metadata": {},
     "output_type": "execute_result"
    }
   ],
   "source": [
    "new.dtypes"
   ]
  },
  {
   "cell_type": "markdown",
   "metadata": {},
   "source": [
    "# Measure total visits"
   ]
  },
  {
   "cell_type": "code",
   "execution_count": 29,
   "metadata": {},
   "outputs": [
    {
     "data": {
      "text/html": [
       "<div>\n",
       "<style scoped>\n",
       "    .dataframe tbody tr th:only-of-type {\n",
       "        vertical-align: middle;\n",
       "    }\n",
       "\n",
       "    .dataframe tbody tr th {\n",
       "        vertical-align: top;\n",
       "    }\n",
       "\n",
       "    .dataframe thead th {\n",
       "        text-align: right;\n",
       "    }\n",
       "</style>\n",
       "<table border=\"1\" class=\"dataframe\">\n",
       "  <thead>\n",
       "    <tr style=\"text-align: right;\">\n",
       "      <th></th>\n",
       "      <th>Unnamed: 0</th>\n",
       "      <th>MothIn</th>\n",
       "      <th>MothOut</th>\n",
       "      <th>ProboscisDetect</th>\n",
       "      <th>DiscoveryTime</th>\n",
       "      <th>trialNum</th>\n",
       "      <th>name</th>\n",
       "    </tr>\n",
       "  </thead>\n",
       "  <tbody>\n",
       "    <tr>\n",
       "      <td>401</td>\n",
       "      <td>401</td>\n",
       "      <td>14133</td>\n",
       "      <td>15399</td>\n",
       "      <td>NaN</td>\n",
       "      <td>NaN</td>\n",
       "      <td>0</td>\n",
       "      <td>c-3_m9</td>\n",
       "    </tr>\n",
       "    <tr>\n",
       "      <td>402</td>\n",
       "      <td>402</td>\n",
       "      <td>19255</td>\n",
       "      <td>21099</td>\n",
       "      <td>20324.0</td>\n",
       "      <td>1069.0</td>\n",
       "      <td>1</td>\n",
       "      <td>c-3_m9</td>\n",
       "    </tr>\n",
       "    <tr>\n",
       "      <td>403</td>\n",
       "      <td>403</td>\n",
       "      <td>23301</td>\n",
       "      <td>27204</td>\n",
       "      <td>24498.0</td>\n",
       "      <td>1197.0</td>\n",
       "      <td>2</td>\n",
       "      <td>c-3_m9</td>\n",
       "    </tr>\n",
       "    <tr>\n",
       "      <td>404</td>\n",
       "      <td>404</td>\n",
       "      <td>29093</td>\n",
       "      <td>32412</td>\n",
       "      <td>30017.0</td>\n",
       "      <td>924.0</td>\n",
       "      <td>3</td>\n",
       "      <td>c-3_m9</td>\n",
       "    </tr>\n",
       "    <tr>\n",
       "      <td>405</td>\n",
       "      <td>405</td>\n",
       "      <td>35787</td>\n",
       "      <td>39527</td>\n",
       "      <td>36042.0</td>\n",
       "      <td>255.0</td>\n",
       "      <td>4</td>\n",
       "      <td>c-3_m9</td>\n",
       "    </tr>\n",
       "  </tbody>\n",
       "</table>\n",
       "</div>"
      ],
      "text/plain": [
       "     Unnamed: 0  MothIn  MothOut  ProboscisDetect  DiscoveryTime  trialNum  \\\n",
       "401         401   14133    15399              NaN            NaN         0   \n",
       "402         402   19255    21099          20324.0         1069.0         1   \n",
       "403         403   23301    27204          24498.0         1197.0         2   \n",
       "404         404   29093    32412          30017.0          924.0         3   \n",
       "405         405   35787    39527          36042.0          255.0         4   \n",
       "\n",
       "       name  \n",
       "401  c-3_m9  \n",
       "402  c-3_m9  \n",
       "403  c-3_m9  \n",
       "404  c-3_m9  \n",
       "405  c-3_m9  "
      ]
     },
     "execution_count": 29,
     "metadata": {},
     "output_type": "execute_result"
    }
   ],
   "source": [
    "moth.head()"
   ]
  },
  {
   "cell_type": "code",
   "execution_count": 35,
   "metadata": {},
   "outputs": [],
   "source": [
    "visit_df = pd.DataFrame(index = np.arange(0,25), columns = ['c-1', 'c-2', 'c-3', 'c-10'])\n",
    "for file in files:\n",
    "    df = pd.read_csv(file)\n",
    "    flowername = os.path.basename(file)[:-14]\n",
    "    temp = []\n",
    "    for name,moth in df.groupby('name'):\n",
    "        totalVisit = np.max(moth.trialNum)+1\n",
    "        temp.append(totalVisit)\n",
    "    new_df = pd.Series([temp])    \n",
    "    visit_df.loc[0:len(temp)-1,flowername] = temp"
   ]
  },
  {
   "cell_type": "code",
   "execution_count": 63,
   "metadata": {},
   "outputs": [
    {
     "data": {
      "image/png": "[encoded data removed]",
      "text/plain": [
       "<Figure size 432x288 with 1 Axes>"
      ]
     },
     "metadata": {
      "needs_background": "light"
     },
     "output_type": "display_data"
    }
   ],
   "source": [
    "sns.swarmplot(data = visit_df, palette= colorScheme)\n",
    "sns.pointplot(data = visit_df, markers = '_', linestyles='', color = 'k')\n",
    "plt.savefig('./dataFolders/Output/Figures/v2/testColorScheme/' + 'TotalNumVisits.pdf')"
   ]
  },
  {
   "cell_type": "code",
   "execution_count": 59,
   "metadata": {},
   "outputs": [
    {
     "name": "stdout",
     "output_type": "stream",
     "text": [
      "c-1     19\n",
      "c-2     21\n",
      "c-3     24\n",
      "c-10    22\n",
      "dtype: int64\n"
     ]
    },
    {
     "data": {
      "text/plain": [
       "c-1     16\n",
       "c-2     18\n",
       "c-3     21\n",
       "c-10    19\n",
       "dtype: int64"
      ]
     },
     "execution_count": 59,
     "metadata": {},
     "output_type": "execute_result"
    }
   ],
   "source": [
    "print(visit_df.count())\n",
    "visit_df[visit_df>5].count()"
   ]
  },
  {
   "cell_type": "code",
   "execution_count": null,
   "metadata": {},
   "outputs": [],
   "source": []
  }
 ],
 "metadata": {
  "kernelspec": {
   "display_name": "Python 3",
   "language": "python",
   "name": "python3"
  },
  "language_info": {
   "codemirror_mode": {
    "name": "ipython",
    "version": 3
   },
   "file_extension": ".py",
   "mimetype": "text/x-python",
   "name": "python",
   "nbconvert_exporter": "python",
   "pygments_lexer": "ipython3",
   "version": "3.6.5"
  }
 },
 "nbformat": 4,
 "nbformat_minor": 2
}
