{
 "cells": [
  {
   "cell_type": "code",
   "execution_count": 1,
   "metadata": {},
   "outputs": [],
   "source": [
    "import pandas as pd\n",
    "import numpy as np\n",
    "import glob\n",
    "from scipy import stats\n",
    "import matplotlib.pyplot as plt"
   ]
  },
  {
   "cell_type": "code",
   "execution_count": 35,
   "metadata": {},
   "outputs": [
    {
     "data": {
      "image/png": "[encoded data removed]",
      "text/plain": [
       "<Figure size 432x288 with 1 Axes>"
      ]
     },
     "metadata": {},
     "output_type": "display_data"
    }
   ],
   "source": [
    "s = np.random.poisson(5, 80)\n",
    "s.sort()\n",
    "count, bins, ignored = plt.hist(s, 14, density=True)"
   ]
  },
  {
   "cell_type": "code",
   "execution_count": 36,
   "metadata": {},
   "outputs": [
    {
     "data": {
      "text/plain": [
       "<matplotlib.collections.PathCollection at 0x2204b64c198>"
      ]
     },
     "execution_count": 36,
     "metadata": {},
     "output_type": "execute_result"
    },
    {
     "data": {
      "image/png": "[encoded data removed]",
      "text/plain": [
       "<Figure size 432x288 with 1 Axes>"
      ]
     },
     "metadata": {},
     "output_type": "display_data"
    }
   ],
   "source": [
    "trial = np.arange(len(s))\n",
    "discoveryTime = s\n",
    "\n",
    "df = pd.DataFrame({'trialNum': trial, 'DiscoveryTime': discoveryTime})\n",
    "plt.scatter(df.trialNum, df.DiscoveryTime)"
   ]
  },
  {
   "cell_type": "code",
   "execution_count": 37,
   "metadata": {},
   "outputs": [],
   "source": [
    "def permuteData(NumPermute, data):\n",
    "    # preallocate shape of permutedTrials \n",
    "    a = np.arange(NumPermute)\n",
    "    b = np.arange(len(data.index))\n",
    "    tuples = [(p1, p2) for p1 in a for p2 in b]\n",
    "\n",
    "    index = pd.MultiIndex.from_tuples(tuples, names=['permuteNumber', 'df_index'])\n",
    "    permuted_df = pd.DataFrame(data = None, index=index, columns = ['trialNum', 'DiscoveryTime'])\n",
    "    \n",
    "    # permute and fillIN\n",
    "    idx = pd.IndexSlice\n",
    "    for permuteNum in range(1000):\n",
    "        permutedTrials = np.random.permutation(data.trialNum)\n",
    "        permuted_df.loc[idx[permuteNum, :], 'DiscoveryTime'] = data.DiscoveryTime.values.copy()\n",
    "        permuted_df.loc[idx[permuteNum, :], 'trialNum'] = permutedTrials\n",
    "        \n",
    "    return(permuted_df)"
   ]
  },
  {
   "cell_type": "code",
   "execution_count": 38,
   "metadata": {},
   "outputs": [],
   "source": [
    "outpath = './dataFolders/Output/Step8_PDFs and KL Divergence/'"
   ]
  },
  {
   "cell_type": "code",
   "execution_count": 39,
   "metadata": {},
   "outputs": [],
   "source": [
    "# specify parameters that are used\n",
    "# specifying binning size and last edge\n",
    "binsize = 4\n",
    "max_bin_Edge = 40\n",
    "\n",
    "# number of bins for describing distribution\n",
    "nbin = 25\n",
    "shapes = ['c-1', 'c-2', 'c-3', 'c-10']"
   ]
  },
  {
   "cell_type": "code",
   "execution_count": 40,
   "metadata": {},
   "outputs": [],
   "source": [
    "# randomly permute \n",
    "NumOfPermutes = 1000\n",
    "permute = permuteData(NumOfPermutes, data=df)\n",
    "permute.to_csv(outpath + 'permuted_df_PoissonDistribution.csv')"
   ]
  },
  {
   "cell_type": "code",
   "execution_count": 41,
   "metadata": {},
   "outputs": [],
   "source": [
    "def CalcKLDivergence(bin_id, NumOfPermutes, test_df, Q_dist):\n",
    "# calculate KL divergence for permuted bins\n",
    "\n",
    "    # build the KL matrix for permutated data\n",
    "    columns = bin_id[1:]\n",
    "    index = np.arange(NumOfPermutes)\n",
    "    KL_matrix = pd.DataFrame(data = None, index=index, columns = columns)\n",
    "    KL_matrix = KL_matrix.astype(np.float)\n",
    "    KL_matrix.head()\n",
    "\n",
    "    # get the KL divergence for permuted dataset\n",
    "    for binEdge in columns:\n",
    "        for permuteNum in range(NumOfPermutes):\n",
    "                test_data = test_df.loc[test_df.index.get_level_values('permuteNumber') == permuteNum, :, \n",
    "                                            test_df.trialNum < binEdge].DiscoveryTime.values/100\n",
    "                P_dist, _ = np.histogram(test_data, bins = bin_hist)\n",
    "                epsilon = 1e-30\n",
    "                P = P_dist + epsilon\n",
    "                Q = Q_dist + epsilon\n",
    "                KL = stats.entropy(P, Q)\n",
    "                KL_matrix.loc[permuteNum,binEdge] = KL\n",
    "    return KL_matrix"
   ]
  },
  {
   "cell_type": "code",
   "execution_count": 50,
   "metadata": {},
   "outputs": [],
   "source": [
    "bin_id = np.arange(0,40, binsize)\n",
    "bin_id = np.append(bin_id,max(df.trialNum)+1)\n",
    "\n",
    "# reference flower data\n",
    "ref_data = df.DiscoveryTime.values/100 \n",
    "Q_dist, bin_hist = np.histogram(ref_data, bins = nbin)"
   ]
  },
  {
   "cell_type": "code",
   "execution_count": 42,
   "metadata": {},
   "outputs": [],
   "source": [
    "KL_permute = CalcKLDivergence(bin_id=bin_id, NumOfPermutes=1000, Q_dist= Q_dist, test_df= permute)"
   ]
  },
  {
   "cell_type": "code",
   "execution_count": 43,
   "metadata": {},
   "outputs": [],
   "source": [
    "CI = np.percentile(KL_permute, [5, 95], axis=0, out=None, overwrite_input=False, interpolation='linear', keepdims=True)"
   ]
  },
  {
   "cell_type": "code",
   "execution_count": 44,
   "metadata": {},
   "outputs": [],
   "source": [
    "# calculate KL divergence for true distribution in df\n",
    "\n",
    "columns = bin_id[1:]\n",
    "KL_data = pd.Series(data = None, index = columns, dtype = 'float64')\n",
    "\n",
    "for binEdge in columns:\n",
    "    test_data = df.loc[df.trialNum < binEdge].DiscoveryTime.values/100\n",
    "    P_dist, _ = np.histogram(test_data, bins = bin_hist)\n",
    "    epsilon = 1e-30\n",
    "    P = P_dist + epsilon\n",
    "    Q = Q_dist + epsilon\n",
    "    KL = stats.entropy(P, Q)\n",
    "    KL_data.loc[binEdge] = KL"
   ]
  },
  {
   "cell_type": "code",
   "execution_count": 46,
   "metadata": {},
   "outputs": [
    {
     "data": {
      "image/png": "[encoded data removed]",
      "text/plain": [
       "<Figure size 432x288 with 1 Axes>"
      ]
     },
     "metadata": {},
     "output_type": "display_data"
    }
   ],
   "source": [
    "# plot them together\n",
    "plt.plot(columns, KL_data, marker = 'o')\n",
    "plt.fill_between(columns, CI[0,:][0], CI[1,:][0], facecolor = 'green', alpha = 0.45)\n",
    "plt.xticks(columns)\n",
    "plt.xticks(rotation=35)\n",
    "\n",
    "plt.savefig('./dataFolders/Output/Figures/Distributions/Poisson_dist_KL_continousBins.png')"
   ]
  },
  {
   "cell_type": "code",
   "execution_count": 65,
   "metadata": {},
   "outputs": [],
   "source": [
    "def CalcKLDivergence_binEdge(bin_id, NumOfPermutes, Q_dist, permuted_df):\n",
    "    columns = bin_id[1:]\n",
    "    index = np.arange(NumOfPermutes)\n",
    "    KL_matrix = pd.DataFrame(data = None, index=index, columns = columns)\n",
    "    KL_matrix = KL_matrix.astype(np.float)\n",
    "    KL_matrix.head()\n",
    "\n",
    "    # now lets do build our KL divergence 95% confidence interval\n",
    "\n",
    "    # get the KL divergence for permuted dataset\n",
    "    for binEdge in columns:\n",
    "        for permuteNum in range(NumOfPermutes):\n",
    "                test_data = permuted_df.loc[permuted_df.index.get_level_values('permuteNumber') == permuteNum, :,\n",
    "                                            (permuted_df.trialNum < binEdge)].DiscoveryTime.values/100\n",
    "                P_dist, _ = np.histogram(test_data, bins = bin_hist)\n",
    "                epsilon = 1e-30\n",
    "                P = P_dist + epsilon\n",
    "                Q = Q_dist + epsilon\n",
    "                KL = stats.entropy(P, Q)\n",
    "                KL_matrix.loc[permuteNum,binEdge] = KL\n",
    "    return(KL_matrix)"
   ]
  },
  {
   "cell_type": "code",
   "execution_count": 58,
   "metadata": {},
   "outputs": [
    {
     "data": {
      "text/html": [
       "<div>\n",
       "<style scoped>\n",
       "    .dataframe tbody tr th:only-of-type {\n",
       "        vertical-align: middle;\n",
       "    }\n",
       "\n",
       "    .dataframe tbody tr th {\n",
       "        vertical-align: top;\n",
       "    }\n",
       "\n",
       "    .dataframe thead th {\n",
       "        text-align: right;\n",
       "    }\n",
       "</style>\n",
       "<table border=\"1\" class=\"dataframe\">\n",
       "  <thead>\n",
       "    <tr style=\"text-align: right;\">\n",
       "      <th></th>\n",
       "      <th></th>\n",
       "      <th>trialNum</th>\n",
       "      <th>DiscoveryTime</th>\n",
       "    </tr>\n",
       "    <tr>\n",
       "      <th>permuteNumber</th>\n",
       "      <th>df_index</th>\n",
       "      <th></th>\n",
       "      <th></th>\n",
       "    </tr>\n",
       "  </thead>\n",
       "  <tbody>\n",
       "    <tr>\n",
       "      <th rowspan=\"5\" valign=\"top\">0</th>\n",
       "      <th>0</th>\n",
       "      <td>71</td>\n",
       "      <td>1</td>\n",
       "    </tr>\n",
       "    <tr>\n",
       "      <th>1</th>\n",
       "      <td>28</td>\n",
       "      <td>1</td>\n",
       "    </tr>\n",
       "    <tr>\n",
       "      <th>2</th>\n",
       "      <td>30</td>\n",
       "      <td>2</td>\n",
       "    </tr>\n",
       "    <tr>\n",
       "      <th>3</th>\n",
       "      <td>9</td>\n",
       "      <td>2</td>\n",
       "    </tr>\n",
       "    <tr>\n",
       "      <th>4</th>\n",
       "      <td>47</td>\n",
       "      <td>2</td>\n",
       "    </tr>\n",
       "  </tbody>\n",
       "</table>\n",
       "</div>"
      ],
      "text/plain": [
       "                        trialNum  DiscoveryTime\n",
       "permuteNumber df_index                         \n",
       "0             0               71              1\n",
       "              1               28              1\n",
       "              2               30              2\n",
       "              3                9              2\n",
       "              4               47              2"
      ]
     },
     "execution_count": 58,
     "metadata": {},
     "output_type": "execute_result"
    }
   ],
   "source": [
    "permute.head()"
   ]
  },
  {
   "cell_type": "code",
   "execution_count": 67,
   "metadata": {},
   "outputs": [],
   "source": [
    "# for binnedDataset\n",
    "\n",
    "bin_id = np.arange(0,25, binsize)\n",
    "bin_id = np.append(bin_id,max(df.trialNum)+1)\n",
    "columns = bin_id[1:]\n",
    "\n",
    "# reference flower data\n",
    "ref_data = df.loc[df.trialNum > 25, 'DiscoveryTime' ].values/100 \n",
    "Q_dist, bin_hist = np.histogram(ref_data, bins = nbin)\n",
    "\n",
    "\n",
    "# build the KL matrix for permutated data\n",
    "KL_permute_binEdge = CalcKLDivergence_binEdge(bin_id=bin_id, NumOfPermutes=1000, Q_dist=Q_dist, permuted_df=permute)"
   ]
  },
  {
   "cell_type": "code",
   "execution_count": 68,
   "metadata": {},
   "outputs": [],
   "source": [
    "CI = np.percentile(KL_permute_binEdge, [5, 95], axis=0, out=None, overwrite_input=False, interpolation='linear', keepdims=True)"
   ]
  },
  {
   "cell_type": "code",
   "execution_count": 69,
   "metadata": {},
   "outputs": [],
   "source": [
    "# get the KL divergence for the real data\n",
    "KL_data_binEdge = pd.Series(data = None, index = columns, dtype = 'float64')\n",
    "\n",
    "for binEdge in columns:\n",
    "    test_data = df.loc[df.trialNum < binEdge].DiscoveryTime.values/100\n",
    "    P_dist, _ = np.histogram(test_data, bins = bin_hist)\n",
    "    epsilon = 1e-30\n",
    "    P = P_dist + epsilon\n",
    "    Q = Q_dist + epsilon\n",
    "    KL = stats.entropy(P, Q)\n",
    "    KL_data_binEdge.loc[binEdge] = KL"
   ]
  },
  {
   "cell_type": "code",
   "execution_count": 70,
   "metadata": {},
   "outputs": [
    {
     "data": {
      "image/png": "[encoded data removed]",
      "text/plain": [
       "<Figure size 432x288 with 1 Axes>"
      ]
     },
     "metadata": {},
     "output_type": "display_data"
    }
   ],
   "source": [
    "# plot them together\n",
    "plt.plot(columns, KL_data_binEdge, marker = 'o')\n",
    "plt.fill_between(columns, CI[0,:][0], CI[1,:][0], facecolor = 'green', alpha = 0.45)\n",
    "plt.xticks(columns)\n",
    "plt.xticks(rotation=35)\n",
    "\n",
    "plt.savefig('./dataFolders/Output/Figures/Distributions/Poisson_dist_KL_BinEdge.png')"
   ]
  },
  {
   "cell_type": "code",
   "execution_count": null,
   "metadata": {},
   "outputs": [],
   "source": []
  }
 ],
 "metadata": {
  "kernelspec": {
   "display_name": "Python 3",
   "language": "python",
   "name": "python3"
  },
  "language_info": {
   "codemirror_mode": {
    "name": "ipython",
    "version": 3
   },
   "file_extension": ".py",
   "mimetype": "text/x-python",
   "name": "python",
   "nbconvert_exporter": "python",
   "pygments_lexer": "ipython3",
   "version": "3.6.5"
  }
 },
 "nbformat": 4,
 "nbformat_minor": 2
}
