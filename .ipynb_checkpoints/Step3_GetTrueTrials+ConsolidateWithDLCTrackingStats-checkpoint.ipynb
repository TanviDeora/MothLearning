{
 "cells": [
  {
   "cell_type": "code",
   "execution_count": 1,
   "metadata": {},
   "outputs": [],
   "source": [
    "import os\n",
    "import glob\n",
    "import pandas as pd\n",
    "import numpy as np"
   ]
  },
  {
   "cell_type": "code",
   "execution_count": 2,
   "metadata": {},
   "outputs": [],
   "source": [
    "#parameters to clean up data\n",
    "\n",
    "visit_length = 150 # anything less than 200 frames gets dropped\n",
    "m = 0.4 # mean value of Prob(proboscis)\n",
    "\n",
    "frames_btw_visits = 600"
   ]
  },
  {
   "cell_type": "code",
   "execution_count": 3,
   "metadata": {},
   "outputs": [],
   "source": [
    "def MergeVisits(df, frames):\n",
    "    idx = df[df['frames_inbetween'] <= frames].index.values\n",
    "    if len(idx)>1:\n",
    "        conseq = idx[:-1] - idx[1:]\n",
    "        for c, ind in zip(conseq, idx[:-1]):\n",
    "            if c is -1:\n",
    "                new_val = df.loc[idx+1,'MothOut'].values\n",
    "                df.loc[idx- 1, 'MothOut'] = new_val \n",
    "            else:\n",
    "                new_val = df.loc[idx,'MothOut'].values\n",
    "                df.loc[idx- 1, 'MothOut'] = new_val \n",
    "        if c != -1:\n",
    "            new_val = df.loc[idx[-1],'MothOut']\n",
    "            df.loc[idx[-1]- 1, 'MothOut'] = new_val\n",
    "    else:\n",
    "        new_val = df.loc[idx,'MothOut'].values\n",
    "        df.loc[idx- 1, 'MothOut'] = new_val\n",
    "\n",
    "    df = df.drop(idx, axis = 0)\n",
    "    df = df.reset_index(drop = True)\n",
    "    return(df)"
   ]
  },
  {
   "cell_type": "code",
   "execution_count": 4,
   "metadata": {},
   "outputs": [],
   "source": [
    "direc1 = r\"./dataFolders/Output/Step2_DetectMothINOUT/\"\n",
    "filelist = glob.glob(direc1 + '*MothInOut.csv')"
   ]
  },
  {
   "cell_type": "code",
   "execution_count": 6,
   "metadata": {},
   "outputs": [],
   "source": [
    "direc2 = r\"G:\\My Drive\\Tom-Tanvi\\Shared With Bing,Tom and Tanvi\\Video Analysis\\DeepLabCut-ImageAnalysis\\take5\\outputFromDLC\\VideoResults\\EntireDataSet\"\n",
    "file_dlc = glob.glob(direc2 + r\"\\*.h5\")"
   ]
  },
  {
   "cell_type": "code",
   "execution_count": 13,
   "metadata": {},
   "outputs": [],
   "source": [
    "new_path = r\"./dataFolders/Output/Step3_TrialLabelling_v2/\"\n",
    "\n",
    "try:\n",
    "    os.makedirs(new_path)\n",
    "except OSError as e:\n",
    "    if e.errno != errno.EEXIST:\n",
    "        raise"
   ]
  },
  {
   "cell_type": "code",
   "execution_count": 21,
   "metadata": {},
   "outputs": [
    {
     "data": {
      "text/html": [
       "<div>\n",
       "<style scoped>\n",
       "    .dataframe tbody tr th:only-of-type {\n",
       "        vertical-align: middle;\n",
       "    }\n",
       "\n",
       "    .dataframe tbody tr th {\n",
       "        vertical-align: top;\n",
       "    }\n",
       "\n",
       "    .dataframe thead th {\n",
       "        text-align: right;\n",
       "    }\n",
       "</style>\n",
       "<table border=\"1\" class=\"dataframe\">\n",
       "  <thead>\n",
       "    <tr style=\"text-align: right;\">\n",
       "      <th></th>\n",
       "      <th>name</th>\n",
       "      <th>initial_num</th>\n",
       "      <th>dlc_filter</th>\n",
       "      <th>total_len_filter</th>\n",
       "      <th>final_num</th>\n",
       "    </tr>\n",
       "  </thead>\n",
       "  <tbody>\n",
       "  </tbody>\n",
       "</table>\n",
       "</div>"
      ],
      "text/plain": [
       "Empty DataFrame\n",
       "Columns: [name, initial_num, dlc_filter, total_len_filter, final_num]\n",
       "Index: []"
      ]
     },
     "execution_count": 21,
     "metadata": {},
     "output_type": "execute_result"
    }
   ],
   "source": [
    "num_trial = pd.DataFrame(data = None, columns = ['name', 'initial_num', 'dlc_filter', 'total_len_filter', 'final_num'], dtype = int)\n",
    "num_trial.head()"
   ]
  },
  {
   "cell_type": "code",
   "execution_count": 25,
   "metadata": {},
   "outputs": [],
   "source": [
    "for i, file in enumerate(filelist):\n",
    "    df = pd.read_csv(file)\n",
    "    total_trial = len(df)\n",
    "    name = os.path.basename(file)[:-14]\n",
    "    \n",
    "    # Get the stats on DLCTracking\n",
    "    file_matched = [f for f in file_dlc if os.path.basename(file)[:-14] in f]\n",
    "    temp = pd.read_hdf(file_matched[0])\n",
    "    \n",
    "    DLC = temp.loc[slice(None),(slice(None),'proboscisTip')].copy()\n",
    "    DLC.columns = DLC.columns.droplevel(level = [0,1])\n",
    "\n",
    "    mean_col = []\n",
    "    \n",
    "    for row in df.iterrows():\n",
    "        data = row[1]\n",
    "\n",
    "        In = data.MothIN\n",
    "        out = data.MothOut\n",
    "\n",
    "        mu = DLC.loc[In:out, 'likelihood'].mean(skipna = True)\n",
    "        mean_col.append(mu)\n",
    "    df.loc[:,'mean'] = mean_col\n",
    "\n",
    "    #drop trials based  on length and prob(proboscis)\n",
    "    filtered_df = df[df['mean'] > m].copy()\n",
    "    mean_filt_trials = len(filtered_df)\n",
    "    \n",
    "    filt_df = filtered_df[filtered_df.FramesInView > visit_length]\n",
    "    filt_df = filt_df.reset_index(drop = True)\n",
    "    dwell_time_trials = len(filt_df)\n",
    "    \n",
    "    #merge trials\n",
    "    frames_inbetween =  filt_df.MothIN.values[1:] - filt_df.MothOut.values[:-1]\n",
    "    frames_inbetween = frames_inbetween.astype(np.float64)\n",
    "    frames_inbetween = np.insert(frames_inbetween, 0, np.nan, axis = 0)\n",
    "    filt_df['frames_inbetween'] = frames_inbetween\n",
    "    \n",
    "    final_df = MergeVisits(filt_df, frames_btw_visits)\n",
    "    final_trials = len(final_df)\n",
    "    \n",
    "    final_df = final_df.drop(columns = ['mean', 'frames_inbetween', 'FramesInView'])\n",
    "    final_df.to_csv(new_path + name + '_trueTrials.csv')\n",
    "    \n",
    "    num_trial.loc[i, 'name'] = name\n",
    "    num_trial.loc[i,'initial_num'] = total_trial\n",
    "    num_trial.loc[i,'dlc_filter'] = mean_filt_trials\n",
    "    num_trial.loc[i,'total_len_filter'] = dwell_time_trials\n",
    "    num_trial.loc[i,'final_num'] = final_trials\n",
    "num_trial.to_csv(new_path + 'trialSelectionStats.csv')"
   ]
  },
  {
   "cell_type": "code",
   "execution_count": null,
   "metadata": {},
   "outputs": [],
   "source": []
  }
 ],
 "metadata": {
  "kernelspec": {
   "display_name": "Python 3",
   "language": "python",
   "name": "python3"
  },
  "language_info": {
   "codemirror_mode": {
    "name": "ipython",
    "version": 3
   },
   "file_extension": ".py",
   "mimetype": "text/x-python",
   "name": "python",
   "nbconvert_exporter": "python",
   "pygments_lexer": "ipython3",
   "version": "3.6.5"
  }
 },
 "nbformat": 4,
 "nbformat_minor": 2
}
