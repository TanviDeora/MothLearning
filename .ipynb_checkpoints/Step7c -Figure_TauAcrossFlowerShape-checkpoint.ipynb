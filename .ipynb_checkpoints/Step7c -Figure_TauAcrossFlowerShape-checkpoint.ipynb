{
 "cells": [
  {
   "cell_type": "code",
   "execution_count": 1,
   "metadata": {},
   "outputs": [],
   "source": [
    "import pandas as pd\n",
    "import matplotlib.pyplot as plt\n",
    "from matplotlib import style\n",
    "style.use('ggplot')\n",
    "import glob\n",
    "import numpy as np"
   ]
  },
  {
   "cell_type": "code",
   "execution_count": 2,
   "metadata": {},
   "outputs": [],
   "source": [
    "path = './dataFolders/Output/Step6_FloralTypeConsolidatedData_AndFitParameters/'\n",
    "files = glob.glob(path +  '*_FittedParameters.csv')\n",
    "\n",
    "outpath_fig = './dataFolders/Output/Figures/LinearRegression_toFindFitParameters/'"
   ]
  },
  {
   "cell_type": "code",
   "execution_count": 6,
   "metadata": {},
   "outputs": [
    {
     "data": {
      "text/plain": [
       "['./dataFolders/Output/Step6_FloralTypeConsolidatedData_AndFitParameters\\\\c-10_FittedParameters.csv',\n",
       " './dataFolders/Output/Step6_FloralTypeConsolidatedData_AndFitParameters\\\\c-1_FittedParameters.csv',\n",
       " './dataFolders/Output/Step6_FloralTypeConsolidatedData_AndFitParameters\\\\c-2_FittedParameters.csv',\n",
       " './dataFolders/Output/Step6_FloralTypeConsolidatedData_AndFitParameters\\\\c-3_FittedParameters.csv']"
      ]
     },
     "execution_count": 6,
     "metadata": {},
     "output_type": "execute_result"
    }
   ],
   "source": [
    "files"
   ]
  },
  {
   "cell_type": "code",
   "execution_count": 10,
   "metadata": {},
   "outputs": [],
   "source": [
    "shape = ['c-1', 'c-2', 'c-3', 'c-10']\n",
    "ctr= 0\n",
    "for flowertype in shape:\n",
    "    file = [file for file in files if flowertype + '_' in file]\n",
    "    flowername[ctr] = pd.read_csv(file[0], engine = 'python')\n",
    "    ctr+=1"
   ]
  },
  {
   "cell_type": "code",
   "execution_count": 12,
   "metadata": {},
   "outputs": [
    {
     "data": {
      "text/html": [
       "<div>\n",
       "<style scoped>\n",
       "    .dataframe tbody tr th:only-of-type {\n",
       "        vertical-align: middle;\n",
       "    }\n",
       "\n",
       "    .dataframe tbody tr th {\n",
       "        vertical-align: top;\n",
       "    }\n",
       "\n",
       "    .dataframe thead th {\n",
       "        text-align: right;\n",
       "    }\n",
       "</style>\n",
       "<table border=\"1\" class=\"dataframe\">\n",
       "  <thead>\n",
       "    <tr style=\"text-align: right;\">\n",
       "      <th></th>\n",
       "      <th>Unnamed: 0</th>\n",
       "      <th>slope</th>\n",
       "      <th>std_err</th>\n",
       "      <th>p_value</th>\n",
       "      <th>r_value</th>\n",
       "      <th>y_intercept</th>\n",
       "      <th>y_intercept_std</th>\n",
       "      <th>average_firstTrial</th>\n",
       "      <th>alpha</th>\n",
       "      <th>tau</th>\n",
       "      <th>covariance</th>\n",
       "    </tr>\n",
       "  </thead>\n",
       "  <tbody>\n",
       "    <tr>\n",
       "      <th>0</th>\n",
       "      <td>one-half</td>\n",
       "      <td>0.000594</td>\n",
       "      <td>0.023032</td>\n",
       "      <td>0.979483</td>\n",
       "      <td>0.002674</td>\n",
       "      <td>3.331895</td>\n",
       "      <td>2.342270</td>\n",
       "      <td>12.863571</td>\n",
       "      <td>9.531677</td>\n",
       "      <td>0.002454</td>\n",
       "      <td>0.216145</td>\n",
       "    </tr>\n",
       "    <tr>\n",
       "      <th>1</th>\n",
       "      <td>last fourth</td>\n",
       "      <td>-0.114475</td>\n",
       "      <td>0.094562</td>\n",
       "      <td>0.241712</td>\n",
       "      <td>-0.274386</td>\n",
       "      <td>3.167000</td>\n",
       "      <td>2.715554</td>\n",
       "      <td>12.863571</td>\n",
       "      <td>9.696571</td>\n",
       "      <td>0.003630</td>\n",
       "      <td>0.071204</td>\n",
       "    </tr>\n",
       "    <tr>\n",
       "      <th>2</th>\n",
       "      <td>last eight</td>\n",
       "      <td>-0.068455</td>\n",
       "      <td>0.245934</td>\n",
       "      <td>0.787806</td>\n",
       "      <td>-0.097937</td>\n",
       "      <td>2.738000</td>\n",
       "      <td>2.443608</td>\n",
       "      <td>12.863571</td>\n",
       "      <td>10.125571</td>\n",
       "      <td>0.007925</td>\n",
       "      <td>0.053980</td>\n",
       "    </tr>\n",
       "  </tbody>\n",
       "</table>\n",
       "</div>"
      ],
      "text/plain": [
       "    Unnamed: 0     slope   std_err   p_value   r_value  y_intercept  \\\n",
       "0     one-half  0.000594  0.023032  0.979483  0.002674     3.331895   \n",
       "1  last fourth -0.114475  0.094562  0.241712 -0.274386     3.167000   \n",
       "2   last eight -0.068455  0.245934  0.787806 -0.097937     2.738000   \n",
       "\n",
       "   y_intercept_std  average_firstTrial      alpha       tau  covariance  \n",
       "0         2.342270           12.863571   9.531677  0.002454    0.216145  \n",
       "1         2.715554           12.863571   9.696571  0.003630    0.071204  \n",
       "2         2.443608           12.863571  10.125571  0.007925    0.053980  "
      ]
     },
     "execution_count": 12,
     "metadata": {},
     "output_type": "execute_result"
    }
   ],
   "source": [
    "flowername[0]"
   ]
  },
  {
   "cell_type": "code",
   "execution_count": 13,
   "metadata": {},
   "outputs": [],
   "source": [
    "df = []\n",
    "tau_table = []\n",
    "ctr = 0\n",
    "length = 0\n",
    "for length in range(3):\n",
    "    df = pd.DataFrame({'name': ['c-1', 'c-2', 'c-3', 'c-10'],\n",
    "                       'mean_y0': [flowername[0].y_intercept[length], flowername[1].y_intercept[length], \n",
    "                             flowername[2].y_intercept[length], flowername[3].y_intercept[length]],\n",
    "                       'std_y0': [flowername[0].y_intercept_std[length], flowername[1].y_intercept_std[length], \n",
    "                             flowername[2].y_intercept_std[length], flowername[3].y_intercept_std[length]],\n",
    "                       'tau': [flowername[0].tau[length], flowername[1].tau[length], \n",
    "                             flowername[2].tau[length], flowername[3].tau[length]],\n",
    "                         'covariance':[flowername[0].covariance[length], flowername[1].covariance[length],\n",
    "                                    flowername[2].covariance[length], flowername[3].covariance[length]]\n",
    "                        })\n",
    "    std_dev = np.sqrt(df.covariance.values)\n",
    "    df['std_dev'] = std_dev\n",
    "    tau_table.append(df)\n",
    "    ctr+=1"
   ]
  },
  {
   "cell_type": "code",
   "execution_count": 14,
   "metadata": {},
   "outputs": [
    {
     "data": {
      "text/plain": [
       "[   name   mean_y0    std_y0       tau   covariance    std_dev\n",
       " 0   c-1  3.331895  2.342270  0.002454     0.216145   0.464914\n",
       " 1   c-2  3.449524  2.787793  0.008812     0.058466   0.241798\n",
       " 2   c-3  3.729194  2.256191  0.071256     2.514752   1.585797\n",
       " 3  c-10  4.948667  4.297623  0.509870  2532.747152  50.326406,\n",
       "    name   mean_y0    std_y0       tau   covariance    std_dev\n",
       " 0   c-1  3.167000  2.715554  0.003630     0.071204   0.266841\n",
       " 1   c-2  2.850303  1.172435  0.011634     0.064479   0.253928\n",
       " 2   c-3  4.402308  2.249445  0.051872     2.406508   1.551292\n",
       " 3  c-10  5.126923  4.539718  0.486288  2452.940447  49.527169,\n",
       "    name   mean_y0    std_y0       tau   covariance    std_dev\n",
       " 0   c-1  2.738000  2.443608  0.007925     0.053980   0.232336\n",
       " 1   c-2  2.782222  1.047136  0.012033     0.065684   0.256288\n",
       " 2   c-3  4.544000  2.741793  0.048383     2.424553   1.557098\n",
       " 3  c-10  4.940000  4.964681  0.511448  2523.742381  50.236863]"
      ]
     },
     "execution_count": 14,
     "metadata": {},
     "output_type": "execute_result"
    }
   ],
   "source": [
    "tau_table"
   ]
  },
  {
   "cell_type": "code",
   "execution_count": 15,
   "metadata": {},
   "outputs": [],
   "source": [
    "import pickle\n",
    "\n",
    "with open('./dataFolders/Output/Step6_FloralTypeConsolidatedData_AndFitParameters/AllFitVariables', 'wb') as fp:\n",
    "    pickle.dump(tau_table, fp)"
   ]
  },
  {
   "cell_type": "code",
   "execution_count": 16,
   "metadata": {},
   "outputs": [
    {
     "data": {
      "text/html": [
       "<div>\n",
       "<style scoped>\n",
       "    .dataframe tbody tr th:only-of-type {\n",
       "        vertical-align: middle;\n",
       "    }\n",
       "\n",
       "    .dataframe tbody tr th {\n",
       "        vertical-align: top;\n",
       "    }\n",
       "\n",
       "    .dataframe thead th {\n",
       "        text-align: right;\n",
       "    }\n",
       "</style>\n",
       "<table border=\"1\" class=\"dataframe\">\n",
       "  <thead>\n",
       "    <tr style=\"text-align: right;\">\n",
       "      <th></th>\n",
       "      <th>name</th>\n",
       "      <th>mean_y0</th>\n",
       "      <th>std_y0</th>\n",
       "      <th>tau</th>\n",
       "      <th>covariance</th>\n",
       "      <th>std_dev</th>\n",
       "    </tr>\n",
       "  </thead>\n",
       "  <tbody>\n",
       "    <tr>\n",
       "      <th>0</th>\n",
       "      <td>c-1</td>\n",
       "      <td>3.331895</td>\n",
       "      <td>2.342270</td>\n",
       "      <td>0.002454</td>\n",
       "      <td>0.216145</td>\n",
       "      <td>0.464914</td>\n",
       "    </tr>\n",
       "    <tr>\n",
       "      <th>1</th>\n",
       "      <td>c-2</td>\n",
       "      <td>3.449524</td>\n",
       "      <td>2.787793</td>\n",
       "      <td>0.008812</td>\n",
       "      <td>0.058466</td>\n",
       "      <td>0.241798</td>\n",
       "    </tr>\n",
       "    <tr>\n",
       "      <th>2</th>\n",
       "      <td>c-3</td>\n",
       "      <td>3.729194</td>\n",
       "      <td>2.256191</td>\n",
       "      <td>0.071256</td>\n",
       "      <td>2.514752</td>\n",
       "      <td>1.585797</td>\n",
       "    </tr>\n",
       "    <tr>\n",
       "      <th>3</th>\n",
       "      <td>c-10</td>\n",
       "      <td>4.948667</td>\n",
       "      <td>4.297623</td>\n",
       "      <td>0.509870</td>\n",
       "      <td>2532.747152</td>\n",
       "      <td>50.326406</td>\n",
       "    </tr>\n",
       "  </tbody>\n",
       "</table>\n",
       "</div>"
      ],
      "text/plain": [
       "   name   mean_y0    std_y0       tau   covariance    std_dev\n",
       "0   c-1  3.331895  2.342270  0.002454     0.216145   0.464914\n",
       "1   c-2  3.449524  2.787793  0.008812     0.058466   0.241798\n",
       "2   c-3  3.729194  2.256191  0.071256     2.514752   1.585797\n",
       "3  c-10  4.948667  4.297623  0.509870  2532.747152  50.326406"
      ]
     },
     "execution_count": 16,
     "metadata": {},
     "output_type": "execute_result"
    }
   ],
   "source": [
    "tau_table[0]"
   ]
  },
  {
   "cell_type": "code",
   "execution_count": 23,
   "metadata": {},
   "outputs": [
    {
     "data": {
      "image/png": "[encoded data removed]",
      "text/plain": [
       "<Figure size 432x288 with 1 Axes>"
      ]
     },
     "metadata": {},
     "output_type": "display_data"
    }
   ],
   "source": [
    "plt.errorbar(tau_table[0].name, tau_table[0].tau, yerr = tau_table[0].covariance, fmt = 'o-.')\n",
    "plt.yscale('log')\n",
    "plt.ylabel('Learning constant')\n",
    "ymin, ymax = plt.ylim()\n",
    "plt.savefig(outpath_fig + 'tauWithSE.svg')"
   ]
  },
  {
   "cell_type": "code",
   "execution_count": 24,
   "metadata": {},
   "outputs": [
    {
     "data": {
      "image/png": "[encoded data removed]",
      "text/plain": [
       "<Figure size 432x288 with 1 Axes>"
      ]
     },
     "metadata": {},
     "output_type": "display_data"
    }
   ],
   "source": [
    "plt.plot(tau_table[0].name, tau_table[0].tau, 'o-.')\n",
    "plt.yscale('log')\n",
    "plt.ylabel('Learning constant')\n",
    "plt.ylim(ymin, ymax)\n",
    "plt.savefig(outpath_fig + 'tau.svg')"
   ]
  },
  {
   "cell_type": "code",
   "execution_count": 17,
   "metadata": {},
   "outputs": [
    {
     "data": {
      "image/png": "[encoded data removed]",
      "text/plain": [
       "<Figure size 432x288 with 1 Axes>"
      ]
     },
     "metadata": {},
     "output_type": "display_data"
    }
   ],
   "source": [
    "plt.errorbar(tau_table[0].name, tau_table[0].mean_y0, yerr = tau_table[0].std_y0, fmt = 'o-.')\n",
    "plt.ylabel('y0')\n",
    "plt.savefig(outpath_fig + 'y_intercept.svg')"
   ]
  },
  {
   "cell_type": "code",
   "execution_count": null,
   "metadata": {},
   "outputs": [],
   "source": []
  }
 ],
 "metadata": {
  "kernelspec": {
   "display_name": "Python 3",
   "language": "python",
   "name": "python3"
  },
  "language_info": {
   "codemirror_mode": {
    "name": "ipython",
    "version": 3
   },
   "file_extension": ".py",
   "mimetype": "text/x-python",
   "name": "python",
   "nbconvert_exporter": "python",
   "pygments_lexer": "ipython3",
   "version": "3.6.5"
  }
 },
 "nbformat": 4,
 "nbformat_minor": 2
}
