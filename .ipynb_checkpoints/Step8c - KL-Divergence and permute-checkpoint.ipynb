{
 "cells": [
  {
   "cell_type": "code",
   "execution_count": 1,
   "metadata": {},
   "outputs": [],
   "source": [
    "import pandas as pd\n",
    "import numpy as np\n",
    "import glob\n",
    "from scipy import stats\n",
    "import matplotlib.pyplot as plt"
   ]
  },
  {
   "cell_type": "code",
   "execution_count": 2,
   "metadata": {},
   "outputs": [],
   "source": [
    "def KL(P,Q, epsilon):\n",
    "    \n",
    "    # \"\"\" Epsilon is used here to avoid conditional code for\n",
    "    # checking that neither P nor Q is equal to 0. \"\"\"\n",
    "    #      epsilon = 1e-20\n",
    "    \n",
    "    P = P+epsilon\n",
    "    Q = Q+epsilon\n",
    "    divergence = np.sum(P*np.log(P/Q))\n",
    "    return divergence"
   ]
  },
  {
   "cell_type": "code",
   "execution_count": 158,
   "metadata": {},
   "outputs": [],
   "source": [
    "outpath_fig = './dataFolders/Output/Figures/Distributions/KLDivergence/'\n",
    "outpath = './dataFolders/Output/Step8_PDFs and KL Divergence/'\n",
    "path = './dataFolders/Output/Step6_FloralTypeConsolidatedData_AndFitParameters/'"
   ]
  },
  {
   "cell_type": "code",
   "execution_count": 4,
   "metadata": {},
   "outputs": [],
   "source": [
    "# Fix the bin number and edges based on ALL the data pooled together\n",
    "shapes = ['c-1', 'c-2', 'c-3', 'c-10']\n",
    "AllShapes = pd.DataFrame([])\n",
    "\n",
    "for floralShape in shapes:\n",
    "    file = glob.glob(path + floralShape + '_Alltrials.csv')[0]\n",
    "    data = pd.read_csv(file)\n",
    "    AllShapes = AllShapes.append(data)"
   ]
  },
  {
   "cell_type": "code",
   "execution_count": 5,
   "metadata": {},
   "outputs": [],
   "source": [
    "# create a subset of the data that contains only the notoutliers\n",
    "\n",
    "AllShapes_notnull = AllShapes[AllShapes.DiscoveryTime.notnull()].copy()\n",
    "z = np.abs(stats.zscore(AllShapes_notnull.DiscoveryTime.values))\n",
    "outlier_ID = z > 5 \n",
    "\n",
    "AllShapes_notnull.loc[:,'zscore'] = pd.Series(data = z, index = AllShapes_notnull.index)\n",
    "AllShapes_notnull.loc[:,'outlier_ID'] = pd.Series(data = outlier_ID, index = AllShapes_notnull.index)\n",
    "\n",
    "notoutliers = AllShapes_notnull.loc[AllShapes_notnull['outlier_ID'] == False].copy()"
   ]
  },
  {
   "cell_type": "code",
   "execution_count": 6,
   "metadata": {},
   "outputs": [
    {
     "data": {
      "text/html": [
       "<div>\n",
       "<style scoped>\n",
       "    .dataframe tbody tr th:only-of-type {\n",
       "        vertical-align: middle;\n",
       "    }\n",
       "\n",
       "    .dataframe tbody tr th {\n",
       "        vertical-align: top;\n",
       "    }\n",
       "\n",
       "    .dataframe thead th {\n",
       "        text-align: right;\n",
       "    }\n",
       "</style>\n",
       "<table border=\"1\" class=\"dataframe\">\n",
       "  <thead>\n",
       "    <tr style=\"text-align: right;\">\n",
       "      <th></th>\n",
       "      <th>Unnamed: 0</th>\n",
       "      <th>MothIn</th>\n",
       "      <th>MothOut</th>\n",
       "      <th>ProboscisDetect</th>\n",
       "      <th>DiscoveryTime</th>\n",
       "      <th>trialNum</th>\n",
       "      <th>name</th>\n",
       "      <th>zscore</th>\n",
       "      <th>outlier_ID</th>\n",
       "    </tr>\n",
       "  </thead>\n",
       "  <tbody>\n",
       "    <tr>\n",
       "      <th>0</th>\n",
       "      <td>0</td>\n",
       "      <td>31485</td>\n",
       "      <td>33858</td>\n",
       "      <td>31825.0</td>\n",
       "      <td>340.0</td>\n",
       "      <td>0</td>\n",
       "      <td>c-1_m10</td>\n",
       "      <td>0.165041</td>\n",
       "      <td>False</td>\n",
       "    </tr>\n",
       "    <tr>\n",
       "      <th>1</th>\n",
       "      <td>1</td>\n",
       "      <td>35183</td>\n",
       "      <td>36433</td>\n",
       "      <td>35616.0</td>\n",
       "      <td>433.0</td>\n",
       "      <td>1</td>\n",
       "      <td>c-1_m10</td>\n",
       "      <td>0.012237</td>\n",
       "      <td>False</td>\n",
       "    </tr>\n",
       "    <tr>\n",
       "      <th>2</th>\n",
       "      <td>2</td>\n",
       "      <td>37230</td>\n",
       "      <td>37741</td>\n",
       "      <td>37351.0</td>\n",
       "      <td>121.0</td>\n",
       "      <td>2</td>\n",
       "      <td>c-1_m10</td>\n",
       "      <td>0.524871</td>\n",
       "      <td>False</td>\n",
       "    </tr>\n",
       "    <tr>\n",
       "      <th>4</th>\n",
       "      <td>4</td>\n",
       "      <td>38344</td>\n",
       "      <td>38965</td>\n",
       "      <td>38438.0</td>\n",
       "      <td>94.0</td>\n",
       "      <td>4</td>\n",
       "      <td>c-1_m10</td>\n",
       "      <td>0.569234</td>\n",
       "      <td>False</td>\n",
       "    </tr>\n",
       "    <tr>\n",
       "      <th>5</th>\n",
       "      <td>5</td>\n",
       "      <td>41099</td>\n",
       "      <td>42187</td>\n",
       "      <td>41423.0</td>\n",
       "      <td>324.0</td>\n",
       "      <td>5</td>\n",
       "      <td>c-1_m10</td>\n",
       "      <td>0.191330</td>\n",
       "      <td>False</td>\n",
       "    </tr>\n",
       "  </tbody>\n",
       "</table>\n",
       "</div>"
      ],
      "text/plain": [
       "   Unnamed: 0  MothIn  MothOut  ProboscisDetect  DiscoveryTime  trialNum  \\\n",
       "0           0   31485    33858          31825.0          340.0         0   \n",
       "1           1   35183    36433          35616.0          433.0         1   \n",
       "2           2   37230    37741          37351.0          121.0         2   \n",
       "4           4   38344    38965          38438.0           94.0         4   \n",
       "5           5   41099    42187          41423.0          324.0         5   \n",
       "\n",
       "      name    zscore  outlier_ID  \n",
       "0  c-1_m10  0.165041       False  \n",
       "1  c-1_m10  0.012237       False  \n",
       "2  c-1_m10  0.524871       False  \n",
       "4  c-1_m10  0.569234       False  \n",
       "5  c-1_m10  0.191330       False  "
      ]
     },
     "execution_count": 6,
     "metadata": {},
     "output_type": "execute_result"
    }
   ],
   "source": [
    "notoutliers.head()"
   ]
  },
  {
   "cell_type": "code",
   "execution_count": 173,
   "metadata": {},
   "outputs": [
    {
     "ename": "ValueError",
     "evalue": "The truth value of an array with more than one element is ambiguous. Use a.any() or a.all()",
     "output_type": "error",
     "traceback": [
      "\u001b[1;31m---------------------------------------------------------------------------\u001b[0m",
      "\u001b[1;31mValueError\u001b[0m                                Traceback (most recent call last)",
      "\u001b[1;32m<ipython-input-173-cd2d5aecd39e>\u001b[0m in \u001b[0;36m<module>\u001b[1;34m()\u001b[0m\n\u001b[0;32m     92\u001b[0m     \u001b[0mplt\u001b[0m\u001b[1;33m.\u001b[0m\u001b[0mfigure\u001b[0m\u001b[1;33m(\u001b[0m\u001b[1;36m2\u001b[0m\u001b[1;33m)\u001b[0m\u001b[1;33m\u001b[0m\u001b[0m\n\u001b[0;32m     93\u001b[0m     \u001b[0max2\u001b[0m\u001b[1;33m[\u001b[0m\u001b[0mfig_cc\u001b[0m\u001b[1;33m]\u001b[0m\u001b[1;33m.\u001b[0m\u001b[0mplot\u001b[0m\u001b[1;33m(\u001b[0m\u001b[1;36m1\u001b[0m\u001b[1;33m,\u001b[0m\u001b[1;36m1\u001b[0m\u001b[1;33m)\u001b[0m\u001b[1;33m\u001b[0m\u001b[0m\n\u001b[1;32m---> 94\u001b[1;33m     \u001b[0mbla\u001b[0m \u001b[1;33m=\u001b[0m \u001b[0max2\u001b[0m\u001b[1;33m[\u001b[0m\u001b[0mfig_cc\u001b[0m\u001b[1;33m]\u001b[0m\u001b[1;33m.\u001b[0m\u001b[0mset_xticks\u001b[0m\u001b[1;33m(\u001b[0m\u001b[0mcolumns\u001b[0m\u001b[1;33m,\u001b[0m \u001b[0mcolumns\u001b[0m\u001b[1;33m)\u001b[0m\u001b[1;33m\u001b[0m\u001b[0m\n\u001b[0m\u001b[0;32m     95\u001b[0m \u001b[1;33m\u001b[0m\u001b[0m\n\u001b[0;32m     96\u001b[0m     \u001b[0mfig_cc\u001b[0m\u001b[1;33m+=\u001b[0m\u001b[1;36m1\u001b[0m\u001b[1;33m\u001b[0m\u001b[0m\n",
      "\u001b[1;32m~\\AppData\\Local\\Continuum\\anaconda3\\lib\\site-packages\\matplotlib\\axes\\_base.py\u001b[0m in \u001b[0;36mset_xticks\u001b[1;34m(self, ticks, minor)\u001b[0m\n\u001b[0;32m   3206\u001b[0m             \u001b[0mDefault\u001b[0m \u001b[1;32mis\u001b[0m\u001b[0;31m \u001b[0m\u001b[0;31m`\u001b[0m\u001b[0;31m`\u001b[0m\u001b[1;32mFalse\u001b[0m\u001b[0;31m`\u001b[0m\u001b[0;31m`\u001b[0m\u001b[1;33m.\u001b[0m\u001b[1;33m\u001b[0m\u001b[0m\n\u001b[0;32m   3207\u001b[0m         \"\"\"\n\u001b[1;32m-> 3208\u001b[1;33m         \u001b[0mret\u001b[0m \u001b[1;33m=\u001b[0m \u001b[0mself\u001b[0m\u001b[1;33m.\u001b[0m\u001b[0mxaxis\u001b[0m\u001b[1;33m.\u001b[0m\u001b[0mset_ticks\u001b[0m\u001b[1;33m(\u001b[0m\u001b[0mticks\u001b[0m\u001b[1;33m,\u001b[0m \u001b[0mminor\u001b[0m\u001b[1;33m=\u001b[0m\u001b[0mminor\u001b[0m\u001b[1;33m)\u001b[0m\u001b[1;33m\u001b[0m\u001b[0m\n\u001b[0m\u001b[0;32m   3209\u001b[0m         \u001b[0mself\u001b[0m\u001b[1;33m.\u001b[0m\u001b[0mstale\u001b[0m \u001b[1;33m=\u001b[0m \u001b[1;32mTrue\u001b[0m\u001b[1;33m\u001b[0m\u001b[0m\n\u001b[0;32m   3210\u001b[0m         \u001b[1;32mreturn\u001b[0m \u001b[0mret\u001b[0m\u001b[1;33m\u001b[0m\u001b[0m\n",
      "\u001b[1;32m~\\AppData\\Local\\Continuum\\anaconda3\\lib\\site-packages\\matplotlib\\axis.py\u001b[0m in \u001b[0;36mset_ticks\u001b[1;34m(self, ticks, minor)\u001b[0m\n\u001b[0;32m   1683\u001b[0m             \u001b[1;32melse\u001b[0m\u001b[1;33m:\u001b[0m\u001b[1;33m\u001b[0m\u001b[0m\n\u001b[0;32m   1684\u001b[0m                 \u001b[0mself\u001b[0m\u001b[1;33m.\u001b[0m\u001b[0mset_view_interval\u001b[0m\u001b[1;33m(\u001b[0m\u001b[0mmax\u001b[0m\u001b[1;33m(\u001b[0m\u001b[0mticks\u001b[0m\u001b[1;33m)\u001b[0m\u001b[1;33m,\u001b[0m \u001b[0mmin\u001b[0m\u001b[1;33m(\u001b[0m\u001b[0mticks\u001b[0m\u001b[1;33m)\u001b[0m\u001b[1;33m)\u001b[0m\u001b[1;33m\u001b[0m\u001b[0m\n\u001b[1;32m-> 1685\u001b[1;33m         \u001b[1;32mif\u001b[0m \u001b[0mminor\u001b[0m\u001b[1;33m:\u001b[0m\u001b[1;33m\u001b[0m\u001b[0m\n\u001b[0m\u001b[0;32m   1686\u001b[0m             \u001b[0mself\u001b[0m\u001b[1;33m.\u001b[0m\u001b[0mset_minor_locator\u001b[0m\u001b[1;33m(\u001b[0m\u001b[0mmticker\u001b[0m\u001b[1;33m.\u001b[0m\u001b[0mFixedLocator\u001b[0m\u001b[1;33m(\u001b[0m\u001b[0mticks\u001b[0m\u001b[1;33m)\u001b[0m\u001b[1;33m)\u001b[0m\u001b[1;33m\u001b[0m\u001b[0m\n\u001b[0;32m   1687\u001b[0m             \u001b[1;32mreturn\u001b[0m \u001b[0mself\u001b[0m\u001b[1;33m.\u001b[0m\u001b[0mget_minor_ticks\u001b[0m\u001b[1;33m(\u001b[0m\u001b[0mlen\u001b[0m\u001b[1;33m(\u001b[0m\u001b[0mticks\u001b[0m\u001b[1;33m)\u001b[0m\u001b[1;33m)\u001b[0m\u001b[1;33m\u001b[0m\u001b[0m\n",
      "\u001b[1;31mValueError\u001b[0m: The truth value of an array with more than one element is ambiguous. Use a.any() or a.all()"
     ]
    },
    {
     "data": {
      "text/plain": [
       "<Figure size 432x288 with 0 Axes>"
      ]
     },
     "metadata": {},
     "output_type": "display_data"
    },
    {
     "data": {
      "image/png": "[encoded data removed]",
      "text/plain": [
       "<Figure size 1440x432 with 4 Axes>"
      ]
     },
     "metadata": {},
     "output_type": "display_data"
    },
    {
     "data": {
      "image/png": "[encoded data removed]",
      "text/plain": [
       "<Figure size 1440x432 with 4 Axes>"
      ]
     },
     "metadata": {},
     "output_type": "display_data"
    }
   ],
   "source": [
    "# Analyze each flowerShape\n",
    "\n",
    "# figure for raw values\n",
    "plt.figure(1)\n",
    "fig1, ax1 = plt.subplots(1,4,figsize = (20,6))\n",
    "ax1=ax1.ravel()\n",
    "\n",
    "# figure for KL divergence trends\n",
    "plt.figure(2)\n",
    "fig2, ax2 = plt.subplots(1,4,figsize = (20,6))\n",
    "ax2=ax2.ravel()\n",
    "\n",
    "fig_cc = 0\n",
    "for flowerShape in shapes[0:1]:\n",
    "#     flower = notoutliers.loc[notoutliers.name.str.contains(flowerShape), ['DiscoveryTime', 'trialNum', 'name']].copy()\n",
    "\n",
    "#     # just plot the raw data for sanity check\n",
    "#     All = flower.DiscoveryTime.values/100\n",
    "#     ax1[fig_cc].plot(flower.trialNum, All, 'o')\n",
    "    \n",
    "#     # preallocate shape of permutedTrials \n",
    "#     a = np.arange(1000)\n",
    "#     b = np.arange(len(flower.index))\n",
    "#     tuples = [(p1, p2) for p1 in a for p2 in b]\n",
    "\n",
    "#     index = pd.MultiIndex.from_tuples(tuples, names=['permuteNumber', 'df_index'])\n",
    "#     permuted_df = pd.DataFrame(data = None, index=index, columns = ['trialNum', 'DiscoveryTime'])\n",
    "    \n",
    "#     # permute and fillIN\n",
    "#     idx = pd.IndexSlice\n",
    "#     for permuteNum in range(1000):\n",
    "#         permutedTrials = np.random.permutation(flower.trialNum)\n",
    "#         permuted_df.loc[idx[permuteNum, :], 'DiscoveryTime'] = flower.DiscoveryTime.values.copy()\n",
    "#         permuted_df.loc[idx[permuteNum, :], 'trialNum'] = permutedTrials\n",
    "        \n",
    "#     # save permuted file just in case you want it later\n",
    "#     permuted_df.to_csv(outpath + 'permuted_df_' + flowerShape + '.csv')\n",
    "    \n",
    "#     # perform analysis on binned Data\n",
    "#     binsize = 4\n",
    "#     bin_id = np.arange(0,40, binsize)\n",
    "#     bin_id = np.append(bin_id,max(flower.trialNum)+1)\n",
    "    \n",
    "#     # build the KL matrix for permutated data\n",
    "#     columns = bin_id[1:]\n",
    "#     index = np.arange(1000)\n",
    "#     KL_matrix = pd.DataFrame(data = None, index=index, columns = columns)\n",
    "#     KL_matrix = KL_matrix.astype(np.float)\n",
    "#     KL_matrix.head()\n",
    "    \n",
    "#     # now lets do build our KL divergence 95% confidence interval\n",
    "\n",
    "#     # number of bins for describing distribution\n",
    "#     nbin = 25\n",
    "    \n",
    "#     # reference flower data\n",
    "#     ref_data = flower.DiscoveryTime.values/100 \n",
    "#     Q_dist, bin_hist = np.histogram(ref_data, bins = nbin)\n",
    "\n",
    "#     for binEdge in columns:\n",
    "#         for permuteNum in range(1000):\n",
    "#                 test_data = permuted_df.loc[permuted_df.index.get_level_values('permuteNumber') == permuteNum, :, \n",
    "#                                             permuted_df.trialNum < binEdge]. DiscoveryTime.values/100\n",
    "#                 P_dist, _ = np.histogram(test_data, bins = nbin)\n",
    "#                 epsilon = 1e-30\n",
    "#                 P = P_dist + epsilon\n",
    "#                 Q = Q_dist + epsilon\n",
    "#                 KL = stats.entropy(P, Q)\n",
    "#                 KL_matrix.loc[permuteNum,binEdge] = KL\n",
    "                \n",
    "#     CI = np.percentile(KL_matrix, [5, 95], axis=0, out=None, overwrite_input=False, interpolation='linear', keepdims=True)\n",
    "    \n",
    "#     KL_matrix.to_csv(outpath + 'permuted_KL_' + flowerShape + '.csv')\n",
    "    \n",
    "#     # get the KL divergence for the real data\n",
    "\n",
    "#     KL_matrix_data = pd.Series(data = None, index = columns, dtype = 'float64')\n",
    "\n",
    "#     for binEdge in columns:\n",
    "#         test_data = flower.loc[flower.trialNum < binEdge].DiscoveryTime.values/100\n",
    "#         P_dist, _ = np.histogram(test_data, bins = nbin)\n",
    "#         epsilon = 1e-30\n",
    "#         P = P_dist + epsilon\n",
    "#         Q = Q_dist + epsilon\n",
    "#         KL = stats.entropy(P, Q)\n",
    "#         KL_matrix_data.loc[binEdge] = KL\n",
    "    \n",
    "#     KL_matrix_data.to_csv(outpath + 'KL_forRealData_' + flowerShape + '.csv')\n",
    "    \n",
    "#     ax2[fig_cc].plot(columns, KL_matrix_data, marker = 'o')\n",
    "#     ax2[fig_cc].fill_between(columns, CI[0,:][0], CI[1,:][0], facecolor = 'green', alpha = 0.45)\n",
    "    plt.figure(2)\n",
    "    ax2[fig_cc].plot(1,1)\n",
    "    bla = ax2[fig_cc].set_xticks(columns, columns)\n",
    "    \n",
    "    fig_cc+=1"
   ]
  },
  {
   "cell_type": "markdown",
   "metadata": {},
   "source": [
    "plt.sca(ax2[0])\n",
    "plt.xticks(columns, columns, color='red')"
   ]
  },
  {
   "cell_type": "code",
   "execution_count": 172,
   "metadata": {},
   "outputs": [
    {
     "data": {
      "text/plain": [
       "[<matplotlib.lines.Line2D at 0x247853fb160>]"
      ]
     },
     "execution_count": 172,
     "metadata": {},
     "output_type": "execute_result"
    }
   ],
   "source": [
    "ax2[fig_cc].plot(1,1)"
   ]
  }
 ],
 "metadata": {
  "kernelspec": {
   "display_name": "Python 3",
   "language": "python",
   "name": "python3"
  },
  "language_info": {
   "codemirror_mode": {
    "name": "ipython",
    "version": 3
   },
   "file_extension": ".py",
   "mimetype": "text/x-python",
   "name": "python",
   "nbconvert_exporter": "python",
   "pygments_lexer": "ipython3",
   "version": "3.6.5"
  }
 },
 "nbformat": 4,
 "nbformat_minor": 2
}
