{
 "cells": [
  {
   "cell_type": "code",
   "execution_count": 1,
   "metadata": {},
   "outputs": [],
   "source": [
    "import pandas as pd\n",
    "import numpy as np\n",
    "from scipy import io\n",
    "import os, errno\n",
    "import glob"
   ]
  },
  {
   "cell_type": "code",
   "execution_count": 14,
   "metadata": {},
   "outputs": [],
   "source": [
    "# consolidate the true trials tDetect and exploration time across ALL the data.\n",
    "\n",
    "# direc1 = './dataFolders/Output/Step3_TrialLabelling/Labelled_Data_SVM/'\n",
    "# files = [file for file in os.listdir(direc1) if file.endswith('.csv')]\n",
    "\n",
    "direc1 = './dataFolders/DLCtrackingResults/AlternateStep3/'\n",
    "files = glob.glob(direc1 + '*_trueTrials.csv')\n",
    "\n",
    "# load all the files with IRdtect data\n",
    "direc2 = \"./dataFolders/Output/Step4_IRDetect/\"\n",
    "IR_data_files = glob.glob(direc2 + '*.npy')"
   ]
  },
  {
   "cell_type": "code",
   "execution_count": 24,
   "metadata": {},
   "outputs": [],
   "source": [
    "new_path = './dataFolders/DLCtrackingResults/AlteranteStep5/'\n",
    "# new_path = '../dataFolders/Output/Step5_FilesWith_TrueTrialAnd_ProboscisDetect_v2\\\\'\n",
    "\n",
    "try:\n",
    "    os.makedirs(new_path)\n",
    "except OSError as e:\n",
    "    if e.errno != errno.EEXIST:\n",
    "        raise\n",
    "\n",
    "for fpath in files:\n",
    "    df = pd.read_csv(fpath)\n",
    "    # pull out all the trueTrials and reset the index to default to get true trial #\n",
    "    trueTrials = df.loc[:, ['MothIN', 'MothOut']].reset_index(drop = True)\n",
    "    \n",
    "    fname = os.path.basename(fpath)\n",
    "    \n",
    "    # remove \"cropped\" from filename to match IR file\n",
    "    if fname.find('_cropped') :\n",
    "        new_fname = fname.replace('_cropped','')\n",
    "    else: \n",
    "        new_fname = fname\n",
    "    \n",
    "    mothID = new_fname[:-15]\n",
    "    \n",
    "    # load IR files and get indices of all the frames where IRDetect == 1\n",
    "    IR_detect_file = [file for file in IR_data_files if mothID in file]\n",
    "    \n",
    "    loadedIRdetect = np.load(IR_detect_file[0])\n",
    "    indx = np.where(loadedIRdetect)\n",
    "    indx = indx[0].reshape(-1)\n",
    "    \n",
    "    # for each true trial, find the first frame where IRDetect == True\n",
    "    proboscisDetect = []\n",
    "    discoveryTime = []\n",
    "    for framein, frameout in zip(trueTrials.MothIN, trueTrials.MothOut):\n",
    "        allframes = [frame for frame in indx if framein < frame < frameout]\n",
    "        if allframes == []:\n",
    "            detect = np.nan\n",
    "        else:\n",
    "            detect = min(allframes)\n",
    "        Time  = detect - framein\n",
    "        proboscisDetect.append(detect)\n",
    "        discoveryTime.append(Time)\n",
    "\n",
    "    df1 = pd.DataFrame({'ProboscisDetect': proboscisDetect})\n",
    "    df2 = pd.DataFrame({'DiscoveryTime' : discoveryTime})\n",
    "\n",
    "    new_data = pd.concat([trueTrials, df1, df2], axis = 1)\n",
    "    new_data.to_csv(new_path + fname[:-15] + '_RawDataForExplorationTime.csv')"
   ]
  },
  {
   "cell_type": "code",
   "execution_count": null,
   "metadata": {},
   "outputs": [],
   "source": []
  }
 ],
 "metadata": {
  "kernelspec": {
   "display_name": "Python 3",
   "language": "python",
   "name": "python3"
  },
  "language_info": {
   "codemirror_mode": {
    "name": "ipython",
    "version": 3
   },
   "file_extension": ".py",
   "mimetype": "text/x-python",
   "name": "python",
   "nbconvert_exporter": "python",
   "pygments_lexer": "ipython3",
   "version": "3.6.5"
  }
 },
 "nbformat": 4,
 "nbformat_minor": 2
}
