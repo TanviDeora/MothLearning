{
 "cells": [
  {
   "cell_type": "code",
   "execution_count": 1,
   "metadata": {},
   "outputs": [],
   "source": [
    "import pandas as pd\n",
    "import matplotlib.pyplot as plt\n",
    "from matplotlib import style\n",
    "style.use(\"ggplot\")\n",
    "from scipy.optimize import curve_fit\n",
    "import os, errno\n",
    "import numpy as np\n",
    "import glob"
   ]
  },
  {
   "cell_type": "code",
   "execution_count": 2,
   "metadata": {},
   "outputs": [],
   "source": [
    "from scipy import stats\n",
    "\n",
    "def linearRegression(df):\n",
    "    x = df[df.DiscoveryTime.notnull()].trialNum.values\n",
    "    y = df[df.DiscoveryTime.notnull()].DiscoveryTime.values\n",
    "\n",
    "    slope, intercept, r_value, p_value, std_err = stats.linregress(x, y)\n",
    "    \n",
    "    return(slope, intercept, r_value, p_value, std_err)"
   ]
  },
  {
   "cell_type": "code",
   "execution_count": 3,
   "metadata": {},
   "outputs": [],
   "source": [
    "# Define exponential function func,  \n",
    "# where a = alpha, b = Tau, c = y intercept\n",
    "\n",
    "def fit_to_exponential(x, a, b, c):\n",
    "     return a * np.exp(-(x / b)) + c"
   ]
  },
  {
   "cell_type": "markdown",
   "metadata": {},
   "source": [
    "# Individual floral shape"
   ]
  },
  {
   "cell_type": "code",
   "execution_count": 4,
   "metadata": {},
   "outputs": [],
   "source": [
    "direc = './dataFolders/Output/Step5_FilesWith_TrueTrialAnd_ProboscisDetect_v2/'\n",
    "\n",
    "outpath = './dataFolders/Output/Step6_FloralTypeConsolidatedData_AndFitParameters_v2/'\n",
    "outpath_fig = './dataFolders/Output/Figures/LinearRegression_toFindFitParameters_v2/'\n",
    "\n",
    "try:\n",
    "    os.makedirs(outpath)\n",
    "except OSError as e:\n",
    "    if e.errno != errno.EEXIST:\n",
    "        raise\n",
    "        \n",
    "try:\n",
    "    os.makedirs(outpath_fig)\n",
    "except OSError as e:\n",
    "    if e.errno != errno.EEXIST:\n",
    "        raise"
   ]
  },
  {
   "cell_type": "markdown",
   "metadata": {},
   "source": [
    "Save the all shape specific files as a single file"
   ]
  },
  {
   "cell_type": "code",
   "execution_count": 5,
   "metadata": {},
   "outputs": [
    {
     "name": "stdout",
     "output_type": "stream",
     "text": [
      "1\n",
      "2\n",
      "3\n",
      "4\n",
      "5\n",
      "6\n",
      "7\n",
      "8\n",
      "9\n",
      "10\n",
      "11\n",
      "12\n",
      "13\n",
      "14\n",
      "15\n",
      "16\n",
      "17\n",
      "18\n",
      "19\n",
      "c-1_has a total of19moths\n",
      "1\n",
      "2\n",
      "3\n",
      "4\n",
      "5\n",
      "6\n",
      "7\n",
      "8\n",
      "9\n",
      "10\n",
      "11\n",
      "12\n",
      "13\n",
      "14\n",
      "15\n",
      "16\n",
      "17\n",
      "18\n",
      "19\n",
      "20\n",
      "21\n",
      "c-2_has a total of21moths\n",
      "1\n",
      "2\n",
      "3\n",
      "4\n",
      "5\n",
      "6\n",
      "7\n",
      "8\n",
      "9\n",
      "10\n",
      "11\n",
      "12\n",
      "13\n",
      "14\n",
      "15\n",
      "16\n",
      "17\n",
      "18\n",
      "19\n",
      "20\n",
      "21\n",
      "22\n",
      "23\n",
      "24\n",
      "c-3_has a total of24moths\n",
      "1\n",
      "2\n",
      "3\n",
      "4\n",
      "5\n",
      "6\n",
      "7\n",
      "8\n",
      "9\n",
      "10\n",
      "11\n",
      "12\n",
      "13\n",
      "14\n",
      "15\n",
      "16\n",
      "17\n",
      "18\n",
      "19\n",
      "20\n",
      "21\n",
      "22\n",
      "c-10_has a total of22moths\n"
     ]
    }
   ],
   "source": [
    "floralShape = ['c-1_', 'c-2_', 'c-3_', 'c-10_']\n",
    "\n",
    "\n",
    "for floralShape in floralShape:\n",
    "    \n",
    "    Shape_specific_file = glob.glob(direc + floralShape + '*Raw*.csv')\n",
    "       \n",
    "    # get the data together and save as single dataset\n",
    "\n",
    "    df1=[]\n",
    "    df2=[]\n",
    "    df3=[]\n",
    "    df4=[]\n",
    "    df5=[]\n",
    "    df6=[]\n",
    "\n",
    "    ctr = 0\n",
    "    for fpath in Shape_specific_file:\n",
    "        df = pd.read_csv(fpath)\n",
    "        DiscoveryTime = df['DiscoveryTime']\n",
    "        trialNum= df.index\n",
    "        fname = os.path.basename(fpath)[:-30]\n",
    "        names = [fname]*len(trialNum)\n",
    "        mothIn = df['MothIN']\n",
    "        mothOut = df['MothOut']\n",
    "        Proboscis = df['ProboscisDetect']\n",
    "\n",
    "        df1.extend(DiscoveryTime)\n",
    "        df2.extend(trialNum)\n",
    "        df3.extend(names)\n",
    "        df4.extend(mothIn)\n",
    "        df5.extend(mothOut)\n",
    "        df6.extend(Proboscis)\n",
    "        ctr+=1\n",
    "        print(ctr)\n",
    "\n",
    "    new_df = (pd.DataFrame({'MothIn': df4, 'MothOut': df5, 'ProboscisDetect': df6,\n",
    "                            'DiscoveryTime': df1, 'trialNum': df2, 'name' : df3}))\n",
    "    print(floralShape + \"has a total of\" + str(ctr) + \"moths\")\n",
    "    new_df.to_csv(outpath + floralShape + \"Alltrials.csv\")"
   ]
  },
  {
   "cell_type": "markdown",
   "metadata": {},
   "source": [
    "Fit to curve and plot"
   ]
  },
  {
   "cell_type": "code",
   "execution_count": 6,
   "metadata": {},
   "outputs": [],
   "source": [
    "import glob\n",
    "\n",
    "dFrame = pd.DataFrame()\n",
    "\n",
    "file = glob.glob(outpath + '*c*AllTrials.csv')\n",
    "\n",
    "for file in file:\n",
    "    df = pd.read_csv(file)\n",
    "    dFrame = dFrame.append(df)\n",
    "dFrame.to_csv(outpath  + \"AllMoths_AllTrials.csv\")"
   ]
  },
  {
   "cell_type": "code",
   "execution_count": 7,
   "metadata": {},
   "outputs": [
    {
     "data": {
      "text/html": [
       "<div>\n",
       "<style scoped>\n",
       "    .dataframe tbody tr th:only-of-type {\n",
       "        vertical-align: middle;\n",
       "    }\n",
       "\n",
       "    .dataframe tbody tr th {\n",
       "        vertical-align: top;\n",
       "    }\n",
       "\n",
       "    .dataframe thead th {\n",
       "        text-align: right;\n",
       "    }\n",
       "</style>\n",
       "<table border=\"1\" class=\"dataframe\">\n",
       "  <thead>\n",
       "    <tr style=\"text-align: right;\">\n",
       "      <th></th>\n",
       "      <th>Unnamed: 0</th>\n",
       "      <th>MothIn</th>\n",
       "      <th>MothOut</th>\n",
       "      <th>ProboscisDetect</th>\n",
       "      <th>DiscoveryTime</th>\n",
       "      <th>trialNum</th>\n",
       "      <th>name</th>\n",
       "    </tr>\n",
       "  </thead>\n",
       "  <tbody>\n",
       "    <tr>\n",
       "      <td>0</td>\n",
       "      <td>0</td>\n",
       "      <td>16043</td>\n",
       "      <td>16364</td>\n",
       "      <td>NaN</td>\n",
       "      <td>NaN</td>\n",
       "      <td>0</td>\n",
       "      <td>c-10_m10</td>\n",
       "    </tr>\n",
       "    <tr>\n",
       "      <td>1</td>\n",
       "      <td>1</td>\n",
       "      <td>20748</td>\n",
       "      <td>22186</td>\n",
       "      <td>NaN</td>\n",
       "      <td>NaN</td>\n",
       "      <td>1</td>\n",
       "      <td>c-10_m10</td>\n",
       "    </tr>\n",
       "    <tr>\n",
       "      <td>2</td>\n",
       "      <td>2</td>\n",
       "      <td>24215</td>\n",
       "      <td>24681</td>\n",
       "      <td>NaN</td>\n",
       "      <td>NaN</td>\n",
       "      <td>2</td>\n",
       "      <td>c-10_m10</td>\n",
       "    </tr>\n",
       "    <tr>\n",
       "      <td>3</td>\n",
       "      <td>3</td>\n",
       "      <td>25346</td>\n",
       "      <td>25697</td>\n",
       "      <td>NaN</td>\n",
       "      <td>NaN</td>\n",
       "      <td>3</td>\n",
       "      <td>c-10_m10</td>\n",
       "    </tr>\n",
       "    <tr>\n",
       "      <td>4</td>\n",
       "      <td>4</td>\n",
       "      <td>28531</td>\n",
       "      <td>29244</td>\n",
       "      <td>NaN</td>\n",
       "      <td>NaN</td>\n",
       "      <td>4</td>\n",
       "      <td>c-10_m10</td>\n",
       "    </tr>\n",
       "  </tbody>\n",
       "</table>\n",
       "</div>"
      ],
      "text/plain": [
       "   Unnamed: 0  MothIn  MothOut  ProboscisDetect  DiscoveryTime  trialNum  \\\n",
       "0           0   16043    16364              NaN            NaN         0   \n",
       "1           1   20748    22186              NaN            NaN         1   \n",
       "2           2   24215    24681              NaN            NaN         2   \n",
       "3           3   25346    25697              NaN            NaN         3   \n",
       "4           4   28531    29244              NaN            NaN         4   \n",
       "\n",
       "       name  \n",
       "0  c-10_m10  \n",
       "1  c-10_m10  \n",
       "2  c-10_m10  \n",
       "3  c-10_m10  \n",
       "4  c-10_m10  "
      ]
     },
     "execution_count": 7,
     "metadata": {},
     "output_type": "execute_result"
    }
   ],
   "source": [
    "dFrame.head()"
   ]
  },
  {
   "cell_type": "code",
   "execution_count": 10,
   "metadata": {
    "scrolled": true
   },
   "outputs": [
    {
     "data": {
      "image/png": "[encoded data removed]",
      "text/plain": [
       "<Figure size 1440x720 with 1 Axes>"
      ]
     },
     "metadata": {
      "needs_background": "light"
     },
     "output_type": "display_data"
    }
   ],
   "source": [
    "shapes = ['c-1_', 'c-2_','c-3_', 'c-10_']\n",
    "fig = plt.subplots(figsize = (20,10))\n",
    "for shape in shapes:\n",
    "    x = dFrame[dFrame.name.str.contains(shape)].trialNum\n",
    "    y = dFrame[dFrame.name.str.contains(shape)].DiscoveryTime\n",
    "    plt.scatter(x, y/100, marker = 'o', s = 30, label = shape)\n",
    "    plt.legend()\n",
    "    plt.ylabel('Exploration Time (second)')\n",
    "    plt.xlabel('Visit Number')\n",
    "#     plt.ylim(-1,50)"
   ]
  },
  {
   "cell_type": "code",
   "execution_count": 33,
   "metadata": {},
   "outputs": [
    {
     "data": {
      "image/png": "[encoded data removed]",
      "text/plain": [
       "<Figure size 720x432 with 1 Axes>"
      ]
     },
     "metadata": {
      "needs_background": "light"
     },
     "output_type": "display_data"
    },
    {
     "data": {
      "image/png": "[encoded data removed]",
      "text/plain": [
       "<Figure size 720x432 with 1 Axes>"
      ]
     },
     "metadata": {
      "needs_background": "light"
     },
     "output_type": "display_data"
    }
   ],
   "source": [
    "# do the fit for three different y0 - computed across different lengths of the saturation - curve\n",
    "shapes = ['c-1', 'c-2','c-3', 'c-10']\n",
    "fig1, ax0 = plt.subplots(figsize = (10,6))\n",
    "fig2, ax1 = plt.subplots(figsize = (10,6))\n",
    "\n",
    "for floralShape in shapes:\n",
    "    \n",
    "    file  = glob.glob(outpath + floralShape + '_Alltrials.csv')\n",
    "    new_df = pd.read_csv(file[0])\n",
    "    new_df.DiscoveryTime = new_df.DiscoveryTime/100\n",
    "    \n",
    "    xdata = new_df.trialNum.values\n",
    "    ydata = new_df.DiscoveryTime.values\n",
    "    \n",
    "    xdata_notnan = new_df[new_df.DiscoveryTime.notnull()].trialNum.values\n",
    "    ydata_notnan = new_df[new_df.DiscoveryTime.notnull()].DiscoveryTime.values\n",
    "    numMoth = len(new_df.name.unique())\n",
    "    \n",
    "    length_to_estimate_y0 = [2, 4, 8]\n",
    "\n",
    "    # initialize all the variables you want to save\n",
    "    slope = []\n",
    "    std_err = []\n",
    "    p_value = []\n",
    "    r_value = []\n",
    "    y_intercept = []\n",
    "    y_intercept_std_dev = []\n",
    "    average_firstTrial = []\n",
    "    alpha = []\n",
    "    tau= []\n",
    "    covariance = []\n",
    "\n",
    "    for length in length_to_estimate_y0:\n",
    "        totalTrial = max(new_df.trialNum)\n",
    "        part_of_df = new_df[new_df.trialNum >= (totalTrial * (1-1/length))]\n",
    "\n",
    "        m, y0, r_val, p_val, se = linearRegression(part_of_df)\n",
    "\n",
    "        mean_y0 = part_of_df.DiscoveryTime.mean()\n",
    "        std_y0 = part_of_df.DiscoveryTime.std()\n",
    "        mean_a0andy0 = new_df[new_df.trialNum==0].DiscoveryTime.mean()\n",
    "        a0 = mean_a0andy0 - mean_y0\n",
    "\n",
    "        slope.append(m)\n",
    "        std_err.append(se)\n",
    "        p_value.append(p_val)\n",
    "        r_value.append(r_val)\n",
    "        y_intercept.append(mean_y0)\n",
    "        y_intercept_std_dev.append(std_y0)\n",
    "        average_firstTrial.append(mean_a0andy0)\n",
    "        alpha.append(a0)\n",
    "        \n",
    "        \n",
    "        popt,pcov = curve_fit(lambda x, b: fit_to_exponential(x, a0, b, mean_y0), xdata_notnan, ydata_notnan)\n",
    "        tau.append(popt[0])\n",
    "        covariance.append(pcov.flatten()[0])\n",
    "        \n",
    "        # plot the final curve fit\n",
    "        max_trial=max(xdata)\n",
    "        ax1.plot(xdata, ydata, 'or', markersize=7, alpha=.09, label = 'Raw data')\n",
    "        ax1.plot(range(0,max_trial), fit_to_exponential(range(0,max_trial), a0, *popt, mean_y0), \n",
    "                 'g--', linewidth=2, \n",
    "                 label = 'fit: alpha= %5.3f , Tau= %5.3f, y0= %5.3f' %(a0, popt, mean_y0))\n",
    "\n",
    "        ax1.set_title(floralShape + '_1-' + str(length) + '_length', y=1.2)\n",
    "        ax1.set_xlabel('Trial number')\n",
    "        ax1.set_ylabel('Exploration Time (second)')\n",
    "        leg = plt.legend()\n",
    "        leg.get_frame().set_linewidth(1.5)\n",
    "        ax1.legend(bbox_to_anchor=(0., 1.05, 1., .102), loc=3, mode=\"expand\", borderaxespad=0.)\n",
    "        ax1.set_xlim([-5,65])\n",
    "#         ax1.set_ylim([-5,95])\n",
    "        ax1.text(60, 40, 'N= ' + str(numMoth))\n",
    "        fig2.tight_layout()\n",
    "        fig2.savefig(outpath_fig + 'LearningCurve_' + floralShape + '_1-' + str(length) + '_length.svg')\n",
    "        ax1.cla()\n",
    "\n",
    "        \n",
    "    all_param_df = pd.DataFrame({'slope':slope, 'std_err':std_err,\n",
    "                                 'p_value':p_value, 'r_value':r_value,\n",
    "                                 'y_intercept':y_intercept,\n",
    "                                 'y_intercept_std' : y_intercept_std_dev,\n",
    "                                 'average_firstTrial':average_firstTrial,\n",
    "                                 'alpha':alpha,'tau':tau,\n",
    "                                 'covariance':covariance}, \n",
    "                                index = ['one-half', 'last fourth', 'last eight'])\n",
    "    all_param_df.to_csv(outpath + floralShape + '_FittedParameters.csv')"
   ]
  },
  {
   "cell_type": "markdown",
   "metadata": {},
   "source": [
    "## yet to be implimented - removing outliers for curve fitting"
   ]
  },
  {
   "cell_type": "code",
   "execution_count": 27,
   "metadata": {},
   "outputs": [
    {
     "data": {
      "text/plain": [
       "<matplotlib.lines.Line2D at 0x27a54c20f60>"
      ]
     },
     "execution_count": 27,
     "metadata": {},
     "output_type": "execute_result"
    },
    {
     "data": {
      "image/png": "[encoded data removed]",
      "text/plain": [
       "<Figure size 432x288 with 1 Axes>"
      ]
     },
     "metadata": {
      "needs_background": "light"
     },
     "output_type": "display_data"
    }
   ],
   "source": [
    "# identify and remove outliers\n",
    "\n",
    "plt.hist(dFrame.DiscoveryTime.values/100)\n",
    "plt.axvline(dFrame.DiscoveryTime.mean()/100, color = 'black')\n",
    "plt.axvline(5* dFrame.DiscoveryTime.std()/100, color = 'black')\n",
    "plt.axvline(dFrame.DiscoveryTime.median()/100, color = 'gray')\n",
    "plt.axvline(dFrame.DiscoveryTime.quantile(q = 0.99)/100, color = 'gray')"
   ]
  },
  {
   "cell_type": "code",
   "execution_count": null,
   "metadata": {},
   "outputs": [],
   "source": []
  }
 ],
 "metadata": {
  "kernelspec": {
   "display_name": "Python 3",
   "language": "python",
   "name": "python3"
  },
  "language_info": {
   "codemirror_mode": {
    "name": "ipython",
    "version": 3
   },
   "file_extension": ".py",
   "mimetype": "text/x-python",
   "name": "python",
   "nbconvert_exporter": "python",
   "pygments_lexer": "ipython3",
   "version": "3.6.5"
  }
 },
 "nbformat": 4,
 "nbformat_minor": 2
}
