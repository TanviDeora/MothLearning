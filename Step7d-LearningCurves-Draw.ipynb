{
 "cells": [
  {
   "cell_type": "code",
   "execution_count": 1,
   "metadata": {},
   "outputs": [],
   "source": [
    "import pandas as pd\n",
    "import matplotlib.pyplot as plt\n",
    "from matplotlib import style\n",
    "style.use('classic')\n",
    "\n",
    "import matplotlib\n",
    "matplotlib.rcParams['pdf.fonttype'] = 42\n",
    "matplotlib.rcParams['ps.fonttype'] = 42\n",
    "\n",
    "import glob\n",
    "import numpy as np"
   ]
  },
  {
   "cell_type": "code",
   "execution_count": 2,
   "metadata": {},
   "outputs": [],
   "source": [
    "outpath_fig = './dataFolders/Output/Figures/v2/testColorScheme/'\n",
    "outpath = './dataFolders/Output/Step6_FloralTypeConsolidatedData_AndFitParameters_v2/'"
   ]
  },
  {
   "cell_type": "code",
   "execution_count": 3,
   "metadata": {},
   "outputs": [],
   "source": [
    "# Define exponential function func,  \n",
    "# where a = alpha, b = Tau, c = y intercept\n",
    "\n",
    "def fit_to_exponential(x, a, b, c):\n",
    "     return a * np.exp(-(x / b)) + c"
   ]
  },
  {
   "cell_type": "markdown",
   "metadata": {},
   "source": [
    "## example to make axis break"
   ]
  },
  {
   "cell_type": "code",
   "execution_count": 5,
   "metadata": {},
   "outputs": [
    {
     "data": {
      "image/png": "[encoded data removed]",
      "text/plain": [
       "<Figure size 432x288 with 2 Axes>"
      ]
     },
     "metadata": {
      "needs_background": "light"
     },
     "output_type": "display_data"
    }
   ],
   "source": [
    "import matplotlib.pyplot as plt\n",
    "import numpy as np\n",
    "\n",
    "\n",
    "# 30 points between [0, 0.2) originally made using np.random.rand(30)*.2\n",
    "pts = np.array([\n",
    "    0.015, 0.166, 0.133, 0.159, 0.041, 0.024, 0.195, 0.039, 0.161, 0.018,\n",
    "    0.143, 0.056, 0.125, 0.096, 0.094, 0.051, 0.043, 0.021, 0.138, 0.075,\n",
    "    0.109, 0.195, 0.050, 0.074, 0.079, 0.155, 0.020, 0.010, 0.061, 0.008])\n",
    "pts[[3, 14]] += .8\n",
    "\n",
    "f, (ax, ax2) = plt.subplots(2, 1, sharex=True)\n",
    "ax.plot(pts)\n",
    "ax2.plot(pts)\n",
    "ax.set_ylim(.78, 1.)  # outliers only\n",
    "ax2.set_ylim(0, .22)  # most of the data\n",
    "\n",
    "# hide the spines between ax and ax2\n",
    "ax.spines['bottom'].set_visible(False)\n",
    "ax2.spines['top'].set_visible(False)\n",
    "ax.xaxis.tick_top()\n",
    "ax.tick_params(labeltop='off')  # don't put tick labels at the top\n",
    "ax2.xaxis.tick_bottom()\n",
    "\n",
    "d = .015  # how big to make the diagonal lines in axes coordinates\n",
    "# arguments to pass to plot, just so we don't keep repeating them\n",
    "kwargs = dict(transform=ax.transAxes, color='k', clip_on=False)\n",
    "ax.plot((-d, +d), (-d, +d), **kwargs)        # top-left diagonal\n",
    "ax.plot((1 - d, 1 + d), (-d, +d), **kwargs)  # top-right diagonal\n",
    "\n",
    "kwargs.update(transform=ax2.transAxes)  # switch to the bottom axes\n",
    "ax2.plot((-d, +d), (1 - d, 1 + d), **kwargs)  # bottom-left diagonal\n",
    "ax2.plot((1 - d, 1 + d), (1 - d, 1 + d), **kwargs)  # bottom-right diagonal\n",
    "\n",
    "f.subplots_adjust(hspace=0.1)"
   ]
  },
  {
   "cell_type": "code",
   "execution_count": 6,
   "metadata": {},
   "outputs": [],
   "source": [
    "#set axis limits\n",
    "\n",
    "xlim = 65\n",
    "ylim = 60"
   ]
  },
  {
   "cell_type": "code",
   "execution_count": 7,
   "metadata": {},
   "outputs": [
    {
     "name": "stdout",
     "output_type": "stream",
     "text": [
      "0 39 0.05 93.4\n",
      "c-1 fit: alpha= 10.082 , Tau= 1.392, y0= 3.204\n",
      "0 32 0.13 55.93\n",
      "c-2 fit: alpha= 7.385 , Tau= 0.661, y0= 3.781\n",
      "0 51 0.01 40.79\n",
      "c-3 fit: alpha= 3.861 , Tau= 1.663, y0= 6.282\n",
      "0 63 0.01 51.9\n",
      "c-10 fit: alpha= 1.915 , Tau= 24.336, y0= 7.496\n"
     ]
    },
    {
     "data": {
      "image/png": "[encoded data removed]",
      "text/plain": [
       "<Figure size 720x576 with 1 Axes>"
      ]
     },
     "metadata": {
      "needs_background": "light"
     },
     "output_type": "display_data"
    }
   ],
   "source": [
    "shapes = ['c-1', 'c-2','c-3', 'c-10']\n",
    "colorScheme = ['#e5e534', '#a1dab4', '#41b6c4', '#225ea8']\n",
    "\n",
    "f, ax = plt.subplots(figsize = (10,8))\n",
    "\n",
    "for floralShape, i in zip(shapes, range(len(shapes))):\n",
    "       \n",
    "    file  = glob.glob(outpath + floralShape + '_Alltrials.csv')\n",
    "    new_df = pd.read_csv(file[0])\n",
    "    \n",
    "    xdata = new_df.trialNum.values\n",
    "    ydata = new_df.DiscoveryTime.values\n",
    "    \n",
    "    xdata_notnan = new_df[new_df.DiscoveryTime.notnull()].trialNum.values\n",
    "    ydata_notnan = new_df[new_df.DiscoveryTime.notnull()].DiscoveryTime.values\n",
    "    numMoth = len(new_df.name.unique())\n",
    "    \n",
    "    param_file = glob.glob(outpath + floralShape + '_FittedParameters.csv')\n",
    "    param_df = pd.read_csv(param_file[0])\n",
    "    \n",
    "    idx = 1 # pick all the 1/4 length data from the parameter df (because 1/4 length data slope is = 0 across all shapes)\n",
    "    a0 = param_df.loc[idx,'alpha']\n",
    "    mean_y0 = param_df.loc[idx, 'y_intercept']\n",
    "    tau = param_df.loc[idx, 'tau']\n",
    "    \n",
    "    # plot the final curve fit\n",
    "    max_trial=max(xdata_notnan)\n",
    "\n",
    "    \n",
    "    ax.plot(xdata, ydata/100, 'o', color = 'gray', markersize=7, alpha = 0.5, label = 'Raw Data')\n",
    "    ax.plot(range(0,max_trial), fit_to_exponential(range(0,max_trial), a0, tau , mean_y0), \n",
    "             'k--', linewidth=2)\n",
    "    \n",
    "#     ax2.plot(xdata, ydata/100, 'o', color = 'gray', markersize=7, alpha = 0.5, label = 'Raw Data')\n",
    "#     ax2.plot(range(0,max_trial), fit_to_exponential(range(0,max_trial), a0, tau , mean_y0), \n",
    "#              'k--', linewidth=2)\n",
    "    \n",
    "#     ax.set_ylim(90, 100)  # outliers only\n",
    "#     ax2.set_ylim(-5, 60)  # most of the data\n",
    "    \n",
    "    \n",
    "#     # add kicks and set distance between two graphs\n",
    "#     # hide the spines between ax and ax2\n",
    "#     ax.spines['bottom'].set_visible(False)\n",
    "#     ax2.spines['top'].set_visible(False)\n",
    "#     ax.xaxis.tick_top()\n",
    "#     ax.tick_params(labeltop='off')  # don't put tick labels at the top\n",
    "#     ax2.xaxis.tick_bottom()\n",
    "\n",
    "#     d = .005  # how big to make the diagonal lines in axes coordinates\n",
    "#     # arguments to pass to plot, just so we don't keep repeating them\n",
    "#     kwargs = dict(transform=ax.transAxes, color='k', clip_on=False)\n",
    "#     ax.plot((-d, +d), (-d, +d), **kwargs)        # top-left diagonal\n",
    "#     ax.plot((1 - d, 1 + d), (-d, +d), **kwargs)  # top-right diagonal\n",
    "\n",
    "#     kwargs.update(transform=ax2.transAxes)  # switch to the bottom axes\n",
    "#     ax2.plot((-d, +d), (1 - d, 1 + d), **kwargs)  # bottom-left diagonal\n",
    "#     ax2.plot((1 - d, 1 + d), (1 - d, 1 + d), **kwargs)  # bottom-right diagonal\n",
    "\n",
    "#     f.subplots_adjust(hspace=0.005)\n",
    "    \n",
    "\n",
    "    print(np.nanmin(xdata_notnan), np.nanmax(xdata_notnan), np.nanmin(ydata/100), np.nanmax(ydata/100))\n",
    "    print(floralShape + ' fit: alpha= %5.3f , Tau= %5.3f, y0= %5.3f' %(a0, tau, mean_y0))\n",
    "    \n",
    "    \n",
    "    ax.set_title(floralShape, y=1.2)\n",
    "    ax.set_xlabel('Visit Number')\n",
    "    ax.set_ylabel('Exploration Time (second)')\n",
    "    ax.grid()\n",
    "#     ax2.grid()\n",
    "#     leg = plt.legend()\n",
    "#     leg.get_frame().set_linewidth(1.5)\n",
    "#     ax.legend(bbox_to_anchor=(0., 1.05, 1., .102), loc=3, mode=\"expand\", borderaxespad=0.)\n",
    "    \n",
    "    \n",
    "    ax.set_xlim([-5,xlim])\n",
    "    ax.set_ylim([-5,ylim])\n",
    "    ax.text(50, 40, floralShape + ' N= ' + str(numMoth))\n",
    "    f.tight_layout()\n",
    "    f.savefig(outpath_fig + floralShape + 'LearningOverTime_withClippedData.pdf', transparent=True)\n",
    "    ax.cla()\n",
    "    ax2.cla()"
   ]
  },
  {
   "cell_type": "markdown",
   "metadata": {},
   "source": [
    "## plot the data wrt time (not visit number)"
   ]
  },
  {
   "cell_type": "code",
   "execution_count": 19,
   "metadata": {},
   "outputs": [
    {
     "name": "stdout",
     "output_type": "stream",
     "text": [
      "109.05 2082.97 0.05 93.4\n",
      "c-1 fit: alpha= 1.915 , Tau= 24.336, y0= 7.496\n",
      "56.8 1978.19 0.13 55.93\n",
      "c-2 fit: alpha= 1.915 , Tau= 24.336, y0= 7.496\n",
      "134.91 1936.35 0.01 40.79\n",
      "c-3 fit: alpha= 1.915 , Tau= 24.336, y0= 7.496\n",
      "81.61 2016.91 0.01 51.9\n",
      "c-10 fit: alpha= 1.915 , Tau= 24.336, y0= 7.496\n"
     ]
    },
    {
     "data": {
      "image/png": "[encoded data removed]",
      "text/plain": [
       "<Figure size 800x640 with 1 Axes>"
      ]
     },
     "metadata": {},
     "output_type": "display_data"
    }
   ],
   "source": [
    "shapes = ['c-1', 'c-2','c-3', 'c-10']\n",
    "colorScheme = ['#e5e534', '#a1dab4', '#41b6c4', '#225ea8']\n",
    "\n",
    "f, ax = plt.subplots(figsize = (10,8))\n",
    "\n",
    "for floralShape, i in zip(shapes, range(len(shapes))):\n",
    "       \n",
    "    file  = glob.glob(outpath + floralShape + '_Alltrials.csv')\n",
    "    new_df = pd.read_csv(file[0])\n",
    "    \n",
    "    xdata = new_df.MothIn.values/100\n",
    "    ydata = new_df.DiscoveryTime.values\n",
    "    \n",
    "    xdata_notnan = new_df[new_df.DiscoveryTime.notnull()].MothIn.values/100\n",
    "    ydata_notnan = new_df[new_df.DiscoveryTime.notnull()].DiscoveryTime.values\n",
    "    numMoth = len(new_df.name.unique())\n",
    "    \n",
    "#     param_file = glob.glob(outpath + floralShape + '_FittedParameters.csv')\n",
    "#     param_df = pd.read_csv(param_file[0])\n",
    "    \n",
    "#     idx = 1 # pick all the 1/4 length data from the parameter df (because 1/4 length data slope is = 0 across all shapes)\n",
    "#     a0 = param_df.loc[idx,'alpha']\n",
    "#     mean_y0 = param_df.loc[idx, 'y_intercept']\n",
    "#     tau = param_df.loc[idx, 'tau']\n",
    "    \n",
    "    # plot the final curve fit\n",
    "    max_trial=max(xdata_notnan)\n",
    "    \n",
    "    ax.plot(xdata, ydata/100, 'o', color = 'gray', markersize=7, alpha = 0.5, label = 'Raw Data')\n",
    "#     ax.plot(range(0,max_trial), fit_to_exponential(range(0,max_trial), a0, tau , mean_y0), \n",
    "#              'k--', linewidth=2)\n",
    "    \n",
    "\n",
    "    print(np.nanmin(xdata_notnan), np.nanmax(xdata_notnan), np.nanmin(ydata/100), np.nanmax(ydata/100))\n",
    "    print(floralShape + ' fit: alpha= %5.3f , Tau= %5.3f, y0= %5.3f' %(a0, tau, mean_y0))\n",
    "    \n",
    "    \n",
    "    ax.set_title(floralShape, y=1.2)\n",
    "    ax.set_xlabel('Time (second)')\n",
    "    ax.set_ylabel('Exploration Time (second)')\n",
    "    ax.grid()  \n",
    "   \n",
    "    ax.set_xlim([0, 2100])\n",
    "    ax.set_ylim([-5, 100])\n",
    "    ax.text(0.5, 0.4, floralShape + ' N= ' + str(numMoth), transform=ax.transAxes)\n",
    "    f.tight_layout()\n",
    "    f.savefig(outpath_fig + floralShape + 'LearningOverTime_withAllData.pdf', transparent=True)\n",
    "    ax.cla()\n",
    "    ax2.cla()"
   ]
  },
  {
   "cell_type": "code",
   "execution_count": 14,
   "metadata": {},
   "outputs": [
    {
     "data": {
      "text/html": [
       "<div>\n",
       "<style scoped>\n",
       "    .dataframe tbody tr th:only-of-type {\n",
       "        vertical-align: middle;\n",
       "    }\n",
       "\n",
       "    .dataframe tbody tr th {\n",
       "        vertical-align: top;\n",
       "    }\n",
       "\n",
       "    .dataframe thead th {\n",
       "        text-align: right;\n",
       "    }\n",
       "</style>\n",
       "<table border=\"1\" class=\"dataframe\">\n",
       "  <thead>\n",
       "    <tr style=\"text-align: right;\">\n",
       "      <th></th>\n",
       "      <th>Unnamed: 0</th>\n",
       "      <th>MothIn</th>\n",
       "      <th>MothOut</th>\n",
       "      <th>ProboscisDetect</th>\n",
       "      <th>DiscoveryTime</th>\n",
       "      <th>trialNum</th>\n",
       "      <th>name</th>\n",
       "    </tr>\n",
       "  </thead>\n",
       "  <tbody>\n",
       "    <tr>\n",
       "      <td>0</td>\n",
       "      <td>0</td>\n",
       "      <td>31485</td>\n",
       "      <td>33858</td>\n",
       "      <td>31825.0</td>\n",
       "      <td>340.0</td>\n",
       "      <td>0</td>\n",
       "      <td>c-1_m10</td>\n",
       "    </tr>\n",
       "    <tr>\n",
       "      <td>1</td>\n",
       "      <td>1</td>\n",
       "      <td>35183</td>\n",
       "      <td>36433</td>\n",
       "      <td>35616.0</td>\n",
       "      <td>433.0</td>\n",
       "      <td>1</td>\n",
       "      <td>c-1_m10</td>\n",
       "    </tr>\n",
       "    <tr>\n",
       "      <td>2</td>\n",
       "      <td>2</td>\n",
       "      <td>37230</td>\n",
       "      <td>37741</td>\n",
       "      <td>37351.0</td>\n",
       "      <td>121.0</td>\n",
       "      <td>2</td>\n",
       "      <td>c-1_m10</td>\n",
       "    </tr>\n",
       "    <tr>\n",
       "      <td>3</td>\n",
       "      <td>3</td>\n",
       "      <td>38344</td>\n",
       "      <td>38965</td>\n",
       "      <td>38438.0</td>\n",
       "      <td>94.0</td>\n",
       "      <td>3</td>\n",
       "      <td>c-1_m10</td>\n",
       "    </tr>\n",
       "    <tr>\n",
       "      <td>4</td>\n",
       "      <td>4</td>\n",
       "      <td>41099</td>\n",
       "      <td>42613</td>\n",
       "      <td>41423.0</td>\n",
       "      <td>324.0</td>\n",
       "      <td>4</td>\n",
       "      <td>c-1_m10</td>\n",
       "    </tr>\n",
       "  </tbody>\n",
       "</table>\n",
       "</div>"
      ],
      "text/plain": [
       "   Unnamed: 0  MothIn  MothOut  ProboscisDetect  DiscoveryTime  trialNum  \\\n",
       "0           0   31485    33858          31825.0          340.0         0   \n",
       "1           1   35183    36433          35616.0          433.0         1   \n",
       "2           2   37230    37741          37351.0          121.0         2   \n",
       "3           3   38344    38965          38438.0           94.0         3   \n",
       "4           4   41099    42613          41423.0          324.0         4   \n",
       "\n",
       "      name  \n",
       "0  c-1_m10  \n",
       "1  c-1_m10  \n",
       "2  c-1_m10  \n",
       "3  c-1_m10  \n",
       "4  c-1_m10  "
      ]
     },
     "execution_count": 14,
     "metadata": {},
     "output_type": "execute_result"
    }
   ],
   "source": [
    "new_df.head()"
   ]
  },
  {
   "cell_type": "code",
   "execution_count": null,
   "metadata": {},
   "outputs": [],
   "source": []
  }
 ],
 "metadata": {
  "kernelspec": {
   "display_name": "Python 3",
   "language": "python",
   "name": "python3"
  },
  "language_info": {
   "codemirror_mode": {
    "name": "ipython",
    "version": 3
   },
   "file_extension": ".py",
   "mimetype": "text/x-python",
   "name": "python",
   "nbconvert_exporter": "python",
   "pygments_lexer": "ipython3",
   "version": "3.6.5"
  }
 },
 "nbformat": 4,
 "nbformat_minor": 2
}
