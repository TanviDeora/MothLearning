{
 "cells": [
  {
   "cell_type": "code",
   "execution_count": 1,
   "metadata": {},
   "outputs": [],
   "source": [
    "import os\n",
    "import glob\n",
    "import pandas as pd\n",
    "import numpy as np\n",
    "\n",
    "import matplotlib.pyplot as plt\n",
    "import seaborn as sns"
   ]
  },
  {
   "cell_type": "code",
   "execution_count": 2,
   "metadata": {},
   "outputs": [],
   "source": [
    "#parameters to clean up data\n",
    "\n",
    "visit_length = 150 # anything less than 200 frames gets dropped\n",
    "m = 0.4 # mean value of Prob(proboscis)\n",
    "\n",
    "frames_btw_visits = 600"
   ]
  },
  {
   "cell_type": "code",
   "execution_count": 3,
   "metadata": {},
   "outputs": [],
   "source": [
    "def MergeVisits(df, frames):\n",
    "    idx = df[df['frames_inbetween'] <= frames].index.values\n",
    "    if len(idx)>1:\n",
    "        conseq = idx[:-1] - idx[1:]\n",
    "        for c, ind in zip(conseq, idx[:-1]):\n",
    "            if c is -1:\n",
    "                new_val = df.loc[idx+1,'MothOut'].values\n",
    "                df.loc[idx- 1, 'MothOut'] = new_val \n",
    "            else:\n",
    "                new_val = df.loc[idx,'MothOut'].values\n",
    "                df.loc[idx- 1, 'MothOut'] = new_val \n",
    "        if c != -1:\n",
    "            new_val = df.loc[idx[-1],'MothOut']\n",
    "            df.loc[idx[-1]- 1, 'MothOut'] = new_val\n",
    "    else:\n",
    "        new_val = df.loc[idx,'MothOut'].values\n",
    "        df.loc[idx- 1, 'MothOut'] = new_val\n",
    "\n",
    "    df = df.drop(idx, axis = 0)\n",
    "    df = df.reset_index(drop = True)\n",
    "    return(df)"
   ]
  },
  {
   "cell_type": "code",
   "execution_count": 4,
   "metadata": {},
   "outputs": [],
   "source": [
    "fileloc = r\"../dataFolders/DLCtrackingResults/\"\n",
    "filelist = glob.glob(fileloc + '*Stats.csv')"
   ]
  },
  {
   "cell_type": "code",
   "execution_count": 5,
   "metadata": {},
   "outputs": [],
   "source": [
    "for file in filelist:\n",
    "    df = pd.read_csv(file)\n",
    "    df = df.drop(columns = ['Unnamed: 0', 'Unnamed: 0.1'])\n",
    "    name = os.path.basename(file)[:-32]\n",
    "    #drop trials based  on length and prob(proboscis)\n",
    "    filtered_df = df[df['mean'] > m].copy()\n",
    "    filt_df = filtered_df[filtered_df.FramesInView > visit_length]\n",
    "    \n",
    "    filt_df = filt_df.reset_index(drop = True)\n",
    "    \n",
    "    \n",
    "    #merge trials\n",
    "    frames_inbetween =  filt_df.MothIN.values[1:] - filt_df.MothOut.values[:-1]\n",
    "    frames_inbetween = frames_inbetween.astype(np.float64)\n",
    "    frames_inbetween = np.insert(frames_inbetween, 0, np.nan, axis = 0)\n",
    "    filt_df['frames_inbetween'] = frames_inbetween\n",
    "    \n",
    "    final_df = MergeVisits(filt_df, frames_btw_visits)\n",
    "    final_df = final_df.drop(columns = ['mean', 'median', 'max', 'min', 'frames_inbetween', 'FramesInView'])\n",
    "    final_df.to_csv('../dataFolders/DLCtrackingResults/AlternateStep3/' + name + '_trueTrials.csv')"
   ]
  },
  {
   "cell_type": "code",
   "execution_count": null,
   "metadata": {},
   "outputs": [],
   "source": []
  }
 ],
 "metadata": {
  "kernelspec": {
   "display_name": "Python 3",
   "language": "python",
   "name": "python3"
  },
  "language_info": {
   "codemirror_mode": {
    "name": "ipython",
    "version": 3
   },
   "file_extension": ".py",
   "mimetype": "text/x-python",
   "name": "python",
   "nbconvert_exporter": "python",
   "pygments_lexer": "ipython3",
   "version": "3.6.5"
  }
 },
 "nbformat": 4,
 "nbformat_minor": 2
}
