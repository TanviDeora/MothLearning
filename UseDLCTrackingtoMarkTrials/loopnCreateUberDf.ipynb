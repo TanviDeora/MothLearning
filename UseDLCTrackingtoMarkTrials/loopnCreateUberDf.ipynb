{
 "cells": [
  {
   "cell_type": "code",
   "execution_count": 7,
   "metadata": {},
   "outputs": [],
   "source": [
    "import pandas as pd\n",
    "import os\n",
    "import glob\n",
    "import numpy as np"
   ]
  },
  {
   "cell_type": "code",
   "execution_count": 8,
   "metadata": {},
   "outputs": [],
   "source": [
    "fileloc = r\"G:\\My Drive\\Tom-Tanvi\\Shared With Bing,Tom and Tanvi\\Video Analysis\\DeepLabCut-ImageAnalysis\\take5\\outputFromDLC\\VideoResults\\EntireDataSet\"\n",
    "\n",
    "annotation_folder = r\"G:\\My Drive\\Tom-Tanvi\\Shared With Bing,Tom and Tanvi\\Moth Annotations\\CSV for Video Annotations\"\n"
   ]
  },
  {
   "cell_type": "code",
   "execution_count": 9,
   "metadata": {},
   "outputs": [],
   "source": [
    "filelist = glob.glob(fileloc + r\"\\*.h5\")\n",
    "# filelist"
   ]
  },
  {
   "cell_type": "code",
   "execution_count": 10,
   "metadata": {},
   "outputs": [],
   "source": [
    "annotation_filelist = glob.glob(annotation_folder + r\"\\*MothInOut.csv\")\n",
    "# annotation_filelist"
   ]
  },
  {
   "cell_type": "code",
   "execution_count": 35,
   "metadata": {},
   "outputs": [
    {
     "name": "stdout",
     "output_type": "stream",
     "text": [
      "c-2_m4_190757\n",
      "190757\n",
      "c-3_m11_195651\n",
      "386408\n",
      "c-10_m13_110013\n",
      "496421\n",
      "c-1_m4_166720\n",
      "663141\n",
      "c-2_m11_186751\n",
      "849892\n",
      "c-3_m3_178001\n",
      "1027893\n",
      "c-10_m15_191970\n",
      "1219863\n",
      "c-1_m6_172935\n",
      "1392798\n"
     ]
    }
   ],
   "source": [
    "# run in a loop and pull up the data from all 8 files together - make a uber DF\n",
    "\n",
    "uber_df = pd.DataFrame()\n",
    "\n",
    "for f in annotation_filelist:\n",
    "    annotation = pd.read_csv(f)\n",
    "    \n",
    "    filename = os.path.basename(f)\n",
    "    file_matched = [file for file in filelist if filename[:-14] in file]\n",
    "    \n",
    "    temp = pd.read_hdf(file_matched[0])\n",
    "    DLC = temp.loc[slice(None),(slice(None),'proboscisTip')].copy()\n",
    "    \n",
    "    DLC.columns = DLC.columns.droplevel(level = [0,1])\n",
    "    \n",
    "    # create new pandas series that will have all the annotation for each frame\n",
    "\n",
    "    label = pd.Series(index = DLC.index, name = 'label')\n",
    "\n",
    "    # run through annotation file each line -\n",
    "    for line in annotation.index:\n",
    "        label.loc[annotation.loc[line, 'MothIN']: annotation.loc[line, 'MothOut']] = annotation.loc[line, 'Annotations']\n",
    "\n",
    "    label[label.isnull()] = 'NA'\n",
    "    DLC.loc[:,'label']=label\n",
    "\n",
    "    # convert all points within NaN zone (5,5) to NaN\n",
    "    DLC.loc[DLC['x']<5, 'x']=np.nan\n",
    "    DLC.loc[DLC['y']<5, 'y']=np.nan\n",
    "    \n",
    "    # add mothID\n",
    "    moth = pd.Series(index = DLC.index, name = 'mothID')\n",
    "    moth = filename[:-14]\n",
    "    DLC.loc[:,'mothID']=moth\n",
    "    \n",
    "    # add frame number as a separate column\n",
    "    DLC.loc[:,'frameNum'] = DLC.index.values\n",
    "    \n",
    "    uber_df = uber_df.append(DLC, ignore_index=True)\n",
    "    print(moth + '_' + str(len(DLC.index)))\n",
    "    print(len(uber_df.index))\n",
    "    \n",
    "#     del DLC\n",
    "    del temp"
   ]
  },
  {
   "cell_type": "code",
   "execution_count": 36,
   "metadata": {},
   "outputs": [
    {
     "data": {
      "text/html": [
       "<div>\n",
       "<style scoped>\n",
       "    .dataframe tbody tr th:only-of-type {\n",
       "        vertical-align: middle;\n",
       "    }\n",
       "\n",
       "    .dataframe tbody tr th {\n",
       "        vertical-align: top;\n",
       "    }\n",
       "\n",
       "    .dataframe thead th {\n",
       "        text-align: right;\n",
       "    }\n",
       "</style>\n",
       "<table border=\"1\" class=\"dataframe\">\n",
       "  <thead>\n",
       "    <tr style=\"text-align: right;\">\n",
       "      <th>coords</th>\n",
       "      <th>x</th>\n",
       "      <th>y</th>\n",
       "      <th>likelihood</th>\n",
       "      <th>label</th>\n",
       "      <th>mothID</th>\n",
       "      <th>frameNum</th>\n",
       "    </tr>\n",
       "  </thead>\n",
       "  <tbody>\n",
       "    <tr>\n",
       "      <th>0</th>\n",
       "      <td>NaN</td>\n",
       "      <td>NaN</td>\n",
       "      <td>0.000002</td>\n",
       "      <td>NA</td>\n",
       "      <td>c-2_m4</td>\n",
       "      <td>0</td>\n",
       "    </tr>\n",
       "    <tr>\n",
       "      <th>1</th>\n",
       "      <td>322.195326</td>\n",
       "      <td>306.575773</td>\n",
       "      <td>0.000005</td>\n",
       "      <td>NA</td>\n",
       "      <td>c-2_m4</td>\n",
       "      <td>1</td>\n",
       "    </tr>\n",
       "    <tr>\n",
       "      <th>2</th>\n",
       "      <td>NaN</td>\n",
       "      <td>NaN</td>\n",
       "      <td>0.000002</td>\n",
       "      <td>NA</td>\n",
       "      <td>c-2_m4</td>\n",
       "      <td>2</td>\n",
       "    </tr>\n",
       "    <tr>\n",
       "      <th>3</th>\n",
       "      <td>NaN</td>\n",
       "      <td>NaN</td>\n",
       "      <td>0.000002</td>\n",
       "      <td>NA</td>\n",
       "      <td>c-2_m4</td>\n",
       "      <td>3</td>\n",
       "    </tr>\n",
       "    <tr>\n",
       "      <th>4</th>\n",
       "      <td>NaN</td>\n",
       "      <td>NaN</td>\n",
       "      <td>0.000002</td>\n",
       "      <td>NA</td>\n",
       "      <td>c-2_m4</td>\n",
       "      <td>4</td>\n",
       "    </tr>\n",
       "  </tbody>\n",
       "</table>\n",
       "</div>"
      ],
      "text/plain": [
       "coords           x           y  likelihood label  mothID  frameNum\n",
       "0              NaN         NaN    0.000002    NA  c-2_m4         0\n",
       "1       322.195326  306.575773    0.000005    NA  c-2_m4         1\n",
       "2              NaN         NaN    0.000002    NA  c-2_m4         2\n",
       "3              NaN         NaN    0.000002    NA  c-2_m4         3\n",
       "4              NaN         NaN    0.000002    NA  c-2_m4         4"
      ]
     },
     "execution_count": 36,
     "metadata": {},
     "output_type": "execute_result"
    }
   ],
   "source": [
    "uber_df.head()"
   ]
  },
  {
   "cell_type": "code",
   "execution_count": 37,
   "metadata": {},
   "outputs": [],
   "source": [
    "uber_df.to_csv('../dataFolders/DLCtrackingResults/allDLCtrackingData.csv')"
   ]
  },
  {
   "cell_type": "code",
   "execution_count": null,
   "metadata": {},
   "outputs": [],
   "source": []
  }
 ],
 "metadata": {
  "kernelspec": {
   "display_name": "Python 3",
   "language": "python",
   "name": "python3"
  },
  "language_info": {
   "codemirror_mode": {
    "name": "ipython",
    "version": 3
   },
   "file_extension": ".py",
   "mimetype": "text/x-python",
   "name": "python",
   "nbconvert_exporter": "python",
   "pygments_lexer": "ipython3",
   "version": "3.6.5"
  }
 },
 "nbformat": 4,
 "nbformat_minor": 2
}
