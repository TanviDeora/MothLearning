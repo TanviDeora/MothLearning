{
 "cells": [
  {
   "cell_type": "code",
   "execution_count": 1,
   "metadata": {},
   "outputs": [],
   "source": [
    "import glob\n",
    "import pandas as pd\n",
    "import numpy as np\n",
    "import os"
   ]
  },
  {
   "cell_type": "code",
   "execution_count": 2,
   "metadata": {},
   "outputs": [],
   "source": [
    "fileloc = r\"G:\\My Drive\\Tom-Tanvi\\Shared With Bing,Tom and Tanvi\\Video Analysis\\DeepLabCut-ImageAnalysis\\take5\\outputFromDLC\\VideoResults\\EntireDataSet\"\n",
    "\n",
    "annotation_folder = r\"G:\\My Drive\\Tom-Tanvi\\Shared With Bing,Tom and Tanvi\\Moth Annotations\\CSV for Video Annotations\""
   ]
  },
  {
   "cell_type": "code",
   "execution_count": 3,
   "metadata": {},
   "outputs": [],
   "source": [
    "filelist = glob.glob(fileloc + r\"\\*.h5\")\n",
    "# filelist\n",
    "# filelist = glob.glob('../dataFolders/DLCtrackingResults/' + '*.h5')"
   ]
  },
  {
   "cell_type": "code",
   "execution_count": 4,
   "metadata": {},
   "outputs": [
    {
     "data": {
      "text/plain": [
       "['G:\\\\My Drive\\\\Tom-Tanvi\\\\Shared With Bing,Tom and Tanvi\\\\Moth Annotations\\\\CSV for Video Annotations\\\\c-2_m4_MothInOut.csv',\n",
       " 'G:\\\\My Drive\\\\Tom-Tanvi\\\\Shared With Bing,Tom and Tanvi\\\\Moth Annotations\\\\CSV for Video Annotations\\\\c-3_m11_MothInOut.csv',\n",
       " 'G:\\\\My Drive\\\\Tom-Tanvi\\\\Shared With Bing,Tom and Tanvi\\\\Moth Annotations\\\\CSV for Video Annotations\\\\c-10_m13_MothInOut.csv',\n",
       " 'G:\\\\My Drive\\\\Tom-Tanvi\\\\Shared With Bing,Tom and Tanvi\\\\Moth Annotations\\\\CSV for Video Annotations\\\\c-1_m4_MothInOut.csv',\n",
       " 'G:\\\\My Drive\\\\Tom-Tanvi\\\\Shared With Bing,Tom and Tanvi\\\\Moth Annotations\\\\CSV for Video Annotations\\\\c-2_m11_MothInOut.csv',\n",
       " 'G:\\\\My Drive\\\\Tom-Tanvi\\\\Shared With Bing,Tom and Tanvi\\\\Moth Annotations\\\\CSV for Video Annotations\\\\c-3_m3_MothInOut.csv',\n",
       " 'G:\\\\My Drive\\\\Tom-Tanvi\\\\Shared With Bing,Tom and Tanvi\\\\Moth Annotations\\\\CSV for Video Annotations\\\\c-10_m15_MothInOut.csv',\n",
       " 'G:\\\\My Drive\\\\Tom-Tanvi\\\\Shared With Bing,Tom and Tanvi\\\\Moth Annotations\\\\CSV for Video Annotations\\\\c-1_m6_MothInOut.csv']"
      ]
     },
     "execution_count": 4,
     "metadata": {},
     "output_type": "execute_result"
    }
   ],
   "source": [
    "annotation_filelist = glob.glob(annotation_folder + r\"\\*MothInOut.csv\")\n",
    "annotation_filelist"
   ]
  },
  {
   "cell_type": "code",
   "execution_count": 5,
   "metadata": {},
   "outputs": [
    {
     "data": {
      "text/html": [
       "<div>\n",
       "<style scoped>\n",
       "    .dataframe tbody tr th:only-of-type {\n",
       "        vertical-align: middle;\n",
       "    }\n",
       "\n",
       "    .dataframe tbody tr th {\n",
       "        vertical-align: top;\n",
       "    }\n",
       "\n",
       "    .dataframe thead th {\n",
       "        text-align: right;\n",
       "    }\n",
       "</style>\n",
       "<table border=\"1\" class=\"dataframe\">\n",
       "  <thead>\n",
       "    <tr style=\"text-align: right;\">\n",
       "      <th></th>\n",
       "      <th>Unnamed: 0</th>\n",
       "      <th>MothOut</th>\n",
       "      <th>FramesInView</th>\n",
       "      <th>MothIN</th>\n",
       "      <th>Annotations</th>\n",
       "    </tr>\n",
       "  </thead>\n",
       "  <tbody>\n",
       "    <tr>\n",
       "      <th>0</th>\n",
       "      <td>0</td>\n",
       "      <td>26057</td>\n",
       "      <td>12033</td>\n",
       "      <td>14024</td>\n",
       "      <td>FI</td>\n",
       "    </tr>\n",
       "    <tr>\n",
       "      <th>1</th>\n",
       "      <td>1</td>\n",
       "      <td>26884</td>\n",
       "      <td>16</td>\n",
       "      <td>26868</td>\n",
       "      <td>NM</td>\n",
       "    </tr>\n",
       "    <tr>\n",
       "      <th>2</th>\n",
       "      <td>2</td>\n",
       "      <td>29863</td>\n",
       "      <td>2184</td>\n",
       "      <td>27679</td>\n",
       "      <td>FI</td>\n",
       "    </tr>\n",
       "    <tr>\n",
       "      <th>3</th>\n",
       "      <td>3</td>\n",
       "      <td>33297</td>\n",
       "      <td>1684</td>\n",
       "      <td>31613</td>\n",
       "      <td>FI</td>\n",
       "    </tr>\n",
       "    <tr>\n",
       "      <th>4</th>\n",
       "      <td>4</td>\n",
       "      <td>35886</td>\n",
       "      <td>1996</td>\n",
       "      <td>33890</td>\n",
       "      <td>FI</td>\n",
       "    </tr>\n",
       "  </tbody>\n",
       "</table>\n",
       "</div>"
      ],
      "text/plain": [
       "   Unnamed: 0  MothOut  FramesInView  MothIN Annotations\n",
       "0           0    26057         12033   14024          FI\n",
       "1           1    26884            16   26868          NM\n",
       "2           2    29863          2184   27679          FI\n",
       "3           3    33297          1684   31613          FI\n",
       "4           4    35886          1996   33890          FI"
      ]
     },
     "execution_count": 5,
     "metadata": {},
     "output_type": "execute_result"
    }
   ],
   "source": [
    "annotation = pd.read_csv(annotation_filelist[0]) \n",
    "annotation.head()"
   ]
  },
  {
   "cell_type": "code",
   "execution_count": 6,
   "metadata": {},
   "outputs": [
    {
     "data": {
      "text/plain": [
       "'c-2_m4'"
      ]
     },
     "execution_count": 6,
     "metadata": {},
     "output_type": "execute_result"
    }
   ],
   "source": [
    "filename = os.path.basename(annotation_filelist[0])\n",
    "filename[:-14]"
   ]
  },
  {
   "cell_type": "code",
   "execution_count": 7,
   "metadata": {},
   "outputs": [
    {
     "data": {
      "text/plain": [
       "['G:\\\\My Drive\\\\Tom-Tanvi\\\\Shared With Bing,Tom and Tanvi\\\\Video Analysis\\\\DeepLabCut-ImageAnalysis\\\\take5\\\\outputFromDLC\\\\VideoResults\\\\EntireDataSet\\\\c-2_m4DeepCut_resnet50_mothFeedingJohn_v5Feb15shuffle1_1030000.h5']"
      ]
     },
     "execution_count": 7,
     "metadata": {},
     "output_type": "execute_result"
    }
   ],
   "source": [
    "file_matched = [file for file in filelist if filename[:-14] in file]\n",
    "file_matched"
   ]
  },
  {
   "cell_type": "code",
   "execution_count": 8,
   "metadata": {},
   "outputs": [
    {
     "data": {
      "text/html": [
       "<div>\n",
       "<style scoped>\n",
       "    .dataframe tbody tr th:only-of-type {\n",
       "        vertical-align: middle;\n",
       "    }\n",
       "\n",
       "    .dataframe tbody tr th {\n",
       "        vertical-align: top;\n",
       "    }\n",
       "\n",
       "    .dataframe thead tr th {\n",
       "        text-align: left;\n",
       "    }\n",
       "</style>\n",
       "<table border=\"1\" class=\"dataframe\">\n",
       "  <thead>\n",
       "    <tr>\n",
       "      <th>scorer</th>\n",
       "      <th colspan=\"3\" halign=\"left\">DeepCut_resnet50_mothFeedingJohn_v5Feb15shuffle1_1030000</th>\n",
       "    </tr>\n",
       "    <tr>\n",
       "      <th>bodyparts</th>\n",
       "      <th colspan=\"3\" halign=\"left\">proboscisTip</th>\n",
       "    </tr>\n",
       "    <tr>\n",
       "      <th>coords</th>\n",
       "      <th>x</th>\n",
       "      <th>y</th>\n",
       "      <th>likelihood</th>\n",
       "    </tr>\n",
       "  </thead>\n",
       "  <tbody>\n",
       "    <tr>\n",
       "      <th>0</th>\n",
       "      <td>0.445835</td>\n",
       "      <td>0.722110</td>\n",
       "      <td>0.000002</td>\n",
       "    </tr>\n",
       "    <tr>\n",
       "      <th>1</th>\n",
       "      <td>322.195326</td>\n",
       "      <td>306.575773</td>\n",
       "      <td>0.000005</td>\n",
       "    </tr>\n",
       "    <tr>\n",
       "      <th>2</th>\n",
       "      <td>0.445835</td>\n",
       "      <td>0.722110</td>\n",
       "      <td>0.000002</td>\n",
       "    </tr>\n",
       "    <tr>\n",
       "      <th>3</th>\n",
       "      <td>0.445835</td>\n",
       "      <td>0.722110</td>\n",
       "      <td>0.000002</td>\n",
       "    </tr>\n",
       "    <tr>\n",
       "      <th>4</th>\n",
       "      <td>0.445835</td>\n",
       "      <td>0.722110</td>\n",
       "      <td>0.000002</td>\n",
       "    </tr>\n",
       "  </tbody>\n",
       "</table>\n",
       "</div>"
      ],
      "text/plain": [
       "scorer    DeepCut_resnet50_mothFeedingJohn_v5Feb15shuffle1_1030000  \\\n",
       "bodyparts                                             proboscisTip   \n",
       "coords                                                           x   \n",
       "0                                                   0.445835         \n",
       "1                                                 322.195326         \n",
       "2                                                   0.445835         \n",
       "3                                                   0.445835         \n",
       "4                                                   0.445835         \n",
       "\n",
       "scorer                            \n",
       "bodyparts                         \n",
       "coords              y likelihood  \n",
       "0            0.722110   0.000002  \n",
       "1          306.575773   0.000005  \n",
       "2            0.722110   0.000002  \n",
       "3            0.722110   0.000002  \n",
       "4            0.722110   0.000002  "
      ]
     },
     "execution_count": 8,
     "metadata": {},
     "output_type": "execute_result"
    }
   ],
   "source": [
    "temp = pd.read_hdf(file_matched[0])\n",
    "DLC = temp.loc[slice(None),(slice(None),'proboscisTip')].copy()\n",
    "DLC.head()"
   ]
  },
  {
   "cell_type": "code",
   "execution_count": 9,
   "metadata": {},
   "outputs": [
    {
     "data": {
      "text/html": [
       "<div>\n",
       "<style scoped>\n",
       "    .dataframe tbody tr th:only-of-type {\n",
       "        vertical-align: middle;\n",
       "    }\n",
       "\n",
       "    .dataframe tbody tr th {\n",
       "        vertical-align: top;\n",
       "    }\n",
       "\n",
       "    .dataframe thead th {\n",
       "        text-align: right;\n",
       "    }\n",
       "</style>\n",
       "<table border=\"1\" class=\"dataframe\">\n",
       "  <thead>\n",
       "    <tr style=\"text-align: right;\">\n",
       "      <th>coords</th>\n",
       "      <th>x</th>\n",
       "      <th>y</th>\n",
       "      <th>likelihood</th>\n",
       "    </tr>\n",
       "  </thead>\n",
       "  <tbody>\n",
       "    <tr>\n",
       "      <th>0</th>\n",
       "      <td>0.445835</td>\n",
       "      <td>0.722110</td>\n",
       "      <td>0.000002</td>\n",
       "    </tr>\n",
       "    <tr>\n",
       "      <th>1</th>\n",
       "      <td>322.195326</td>\n",
       "      <td>306.575773</td>\n",
       "      <td>0.000005</td>\n",
       "    </tr>\n",
       "    <tr>\n",
       "      <th>2</th>\n",
       "      <td>0.445835</td>\n",
       "      <td>0.722110</td>\n",
       "      <td>0.000002</td>\n",
       "    </tr>\n",
       "    <tr>\n",
       "      <th>3</th>\n",
       "      <td>0.445835</td>\n",
       "      <td>0.722110</td>\n",
       "      <td>0.000002</td>\n",
       "    </tr>\n",
       "    <tr>\n",
       "      <th>4</th>\n",
       "      <td>0.445835</td>\n",
       "      <td>0.722110</td>\n",
       "      <td>0.000002</td>\n",
       "    </tr>\n",
       "  </tbody>\n",
       "</table>\n",
       "</div>"
      ],
      "text/plain": [
       "coords           x           y  likelihood\n",
       "0         0.445835    0.722110    0.000002\n",
       "1       322.195326  306.575773    0.000005\n",
       "2         0.445835    0.722110    0.000002\n",
       "3         0.445835    0.722110    0.000002\n",
       "4         0.445835    0.722110    0.000002"
      ]
     },
     "execution_count": 9,
     "metadata": {},
     "output_type": "execute_result"
    }
   ],
   "source": [
    "# DLC.columns = DLC.columns.droplevel()\n",
    "DLC.columns = DLC.columns.droplevel(level = [0,1])\n",
    "DLC.head()"
   ]
  },
  {
   "cell_type": "code",
   "execution_count": 10,
   "metadata": {},
   "outputs": [],
   "source": [
    "# create new pandas series that will have all the annotation for each frame\n",
    "\n",
    "label = pd.Series(index = DLC.index, name = 'label')\n",
    "\n",
    "# run through annotation file each line -\n",
    "for line in annotation.index:\n",
    "    label.loc[annotation.loc[line, 'MothIN']: annotation.loc[line, 'MothOut']] = annotation.loc[line, 'Annotations']\n",
    "\n",
    "label[label.isnull()] = 'NA'\n",
    "\n",
    "DLC.loc[:,'label']=label"
   ]
  },
  {
   "cell_type": "code",
   "execution_count": 11,
   "metadata": {},
   "outputs": [],
   "source": [
    "# convert all points within NaN zone (5,5) to NaN\n",
    "DLC.loc[DLC['x']<5, 'x']=np.nan\n",
    "DLC.loc[DLC['y']<5, 'y']=np.nan"
   ]
  },
  {
   "cell_type": "code",
   "execution_count": 12,
   "metadata": {},
   "outputs": [
    {
     "data": {
      "text/html": [
       "<div>\n",
       "<style scoped>\n",
       "    .dataframe tbody tr th:only-of-type {\n",
       "        vertical-align: middle;\n",
       "    }\n",
       "\n",
       "    .dataframe tbody tr th {\n",
       "        vertical-align: top;\n",
       "    }\n",
       "\n",
       "    .dataframe thead th {\n",
       "        text-align: right;\n",
       "    }\n",
       "</style>\n",
       "<table border=\"1\" class=\"dataframe\">\n",
       "  <thead>\n",
       "    <tr style=\"text-align: right;\">\n",
       "      <th>coords</th>\n",
       "      <th>x</th>\n",
       "      <th>y</th>\n",
       "      <th>likelihood</th>\n",
       "      <th>label</th>\n",
       "    </tr>\n",
       "  </thead>\n",
       "  <tbody>\n",
       "    <tr>\n",
       "      <th>0</th>\n",
       "      <td>NaN</td>\n",
       "      <td>NaN</td>\n",
       "      <td>0.000002</td>\n",
       "      <td>NA</td>\n",
       "    </tr>\n",
       "    <tr>\n",
       "      <th>1</th>\n",
       "      <td>322.195326</td>\n",
       "      <td>306.575773</td>\n",
       "      <td>0.000005</td>\n",
       "      <td>NA</td>\n",
       "    </tr>\n",
       "    <tr>\n",
       "      <th>2</th>\n",
       "      <td>NaN</td>\n",
       "      <td>NaN</td>\n",
       "      <td>0.000002</td>\n",
       "      <td>NA</td>\n",
       "    </tr>\n",
       "    <tr>\n",
       "      <th>3</th>\n",
       "      <td>NaN</td>\n",
       "      <td>NaN</td>\n",
       "      <td>0.000002</td>\n",
       "      <td>NA</td>\n",
       "    </tr>\n",
       "    <tr>\n",
       "      <th>4</th>\n",
       "      <td>NaN</td>\n",
       "      <td>NaN</td>\n",
       "      <td>0.000002</td>\n",
       "      <td>NA</td>\n",
       "    </tr>\n",
       "  </tbody>\n",
       "</table>\n",
       "</div>"
      ],
      "text/plain": [
       "coords           x           y  likelihood label\n",
       "0              NaN         NaN    0.000002    NA\n",
       "1       322.195326  306.575773    0.000005    NA\n",
       "2              NaN         NaN    0.000002    NA\n",
       "3              NaN         NaN    0.000002    NA\n",
       "4              NaN         NaN    0.000002    NA"
      ]
     },
     "execution_count": 12,
     "metadata": {},
     "output_type": "execute_result"
    }
   ],
   "source": [
    "DLC.head()"
   ]
  },
  {
   "cell_type": "code",
   "execution_count": 13,
   "metadata": {},
   "outputs": [
    {
     "data": {
      "text/html": [
       "<div>\n",
       "<style scoped>\n",
       "    .dataframe tbody tr th:only-of-type {\n",
       "        vertical-align: middle;\n",
       "    }\n",
       "\n",
       "    .dataframe tbody tr th {\n",
       "        vertical-align: top;\n",
       "    }\n",
       "\n",
       "    .dataframe thead th {\n",
       "        text-align: right;\n",
       "    }\n",
       "</style>\n",
       "<table border=\"1\" class=\"dataframe\">\n",
       "  <thead>\n",
       "    <tr style=\"text-align: right;\">\n",
       "      <th>coords</th>\n",
       "      <th>x</th>\n",
       "      <th>y</th>\n",
       "      <th>likelihood</th>\n",
       "      <th>label</th>\n",
       "      <th>mothID</th>\n",
       "    </tr>\n",
       "  </thead>\n",
       "  <tbody>\n",
       "    <tr>\n",
       "      <th>0</th>\n",
       "      <td>NaN</td>\n",
       "      <td>NaN</td>\n",
       "      <td>0.000002</td>\n",
       "      <td>NA</td>\n",
       "      <td>c-2_m4</td>\n",
       "    </tr>\n",
       "    <tr>\n",
       "      <th>1</th>\n",
       "      <td>322.195326</td>\n",
       "      <td>306.575773</td>\n",
       "      <td>0.000005</td>\n",
       "      <td>NA</td>\n",
       "      <td>c-2_m4</td>\n",
       "    </tr>\n",
       "    <tr>\n",
       "      <th>2</th>\n",
       "      <td>NaN</td>\n",
       "      <td>NaN</td>\n",
       "      <td>0.000002</td>\n",
       "      <td>NA</td>\n",
       "      <td>c-2_m4</td>\n",
       "    </tr>\n",
       "    <tr>\n",
       "      <th>3</th>\n",
       "      <td>NaN</td>\n",
       "      <td>NaN</td>\n",
       "      <td>0.000002</td>\n",
       "      <td>NA</td>\n",
       "      <td>c-2_m4</td>\n",
       "    </tr>\n",
       "    <tr>\n",
       "      <th>4</th>\n",
       "      <td>NaN</td>\n",
       "      <td>NaN</td>\n",
       "      <td>0.000002</td>\n",
       "      <td>NA</td>\n",
       "      <td>c-2_m4</td>\n",
       "    </tr>\n",
       "  </tbody>\n",
       "</table>\n",
       "</div>"
      ],
      "text/plain": [
       "coords           x           y  likelihood label  mothID\n",
       "0              NaN         NaN    0.000002    NA  c-2_m4\n",
       "1       322.195326  306.575773    0.000005    NA  c-2_m4\n",
       "2              NaN         NaN    0.000002    NA  c-2_m4\n",
       "3              NaN         NaN    0.000002    NA  c-2_m4\n",
       "4              NaN         NaN    0.000002    NA  c-2_m4"
      ]
     },
     "execution_count": 13,
     "metadata": {},
     "output_type": "execute_result"
    }
   ],
   "source": [
    "moth = pd.Series(index = DLC.index, name = 'mothID')\n",
    "moth = filename[:-14]\n",
    "DLC.loc[:,'mothID']=moth\n",
    "DLC.head()"
   ]
  },
  {
   "cell_type": "code",
   "execution_count": 14,
   "metadata": {},
   "outputs": [
    {
     "data": {
      "text/html": [
       "<div>\n",
       "<style scoped>\n",
       "    .dataframe tbody tr th:only-of-type {\n",
       "        vertical-align: middle;\n",
       "    }\n",
       "\n",
       "    .dataframe tbody tr th {\n",
       "        vertical-align: top;\n",
       "    }\n",
       "\n",
       "    .dataframe thead th {\n",
       "        text-align: right;\n",
       "    }\n",
       "</style>\n",
       "<table border=\"1\" class=\"dataframe\">\n",
       "  <thead>\n",
       "    <tr style=\"text-align: right;\">\n",
       "      <th>coords</th>\n",
       "      <th>x</th>\n",
       "      <th>y</th>\n",
       "      <th>likelihood</th>\n",
       "      <th>label</th>\n",
       "      <th>mothID</th>\n",
       "      <th>frameNum</th>\n",
       "    </tr>\n",
       "  </thead>\n",
       "  <tbody>\n",
       "    <tr>\n",
       "      <th>0</th>\n",
       "      <td>NaN</td>\n",
       "      <td>NaN</td>\n",
       "      <td>0.000002</td>\n",
       "      <td>NA</td>\n",
       "      <td>c-2_m4</td>\n",
       "      <td>0</td>\n",
       "    </tr>\n",
       "    <tr>\n",
       "      <th>1</th>\n",
       "      <td>322.195326</td>\n",
       "      <td>306.575773</td>\n",
       "      <td>0.000005</td>\n",
       "      <td>NA</td>\n",
       "      <td>c-2_m4</td>\n",
       "      <td>1</td>\n",
       "    </tr>\n",
       "    <tr>\n",
       "      <th>2</th>\n",
       "      <td>NaN</td>\n",
       "      <td>NaN</td>\n",
       "      <td>0.000002</td>\n",
       "      <td>NA</td>\n",
       "      <td>c-2_m4</td>\n",
       "      <td>2</td>\n",
       "    </tr>\n",
       "    <tr>\n",
       "      <th>3</th>\n",
       "      <td>NaN</td>\n",
       "      <td>NaN</td>\n",
       "      <td>0.000002</td>\n",
       "      <td>NA</td>\n",
       "      <td>c-2_m4</td>\n",
       "      <td>3</td>\n",
       "    </tr>\n",
       "    <tr>\n",
       "      <th>4</th>\n",
       "      <td>NaN</td>\n",
       "      <td>NaN</td>\n",
       "      <td>0.000002</td>\n",
       "      <td>NA</td>\n",
       "      <td>c-2_m4</td>\n",
       "      <td>4</td>\n",
       "    </tr>\n",
       "  </tbody>\n",
       "</table>\n",
       "</div>"
      ],
      "text/plain": [
       "coords           x           y  likelihood label  mothID  frameNum\n",
       "0              NaN         NaN    0.000002    NA  c-2_m4         0\n",
       "1       322.195326  306.575773    0.000005    NA  c-2_m4         1\n",
       "2              NaN         NaN    0.000002    NA  c-2_m4         2\n",
       "3              NaN         NaN    0.000002    NA  c-2_m4         3\n",
       "4              NaN         NaN    0.000002    NA  c-2_m4         4"
      ]
     },
     "execution_count": 14,
     "metadata": {},
     "output_type": "execute_result"
    }
   ],
   "source": [
    "# add frame number as a separate column\n",
    "\n",
    "DLC.loc[:,'frameNum'] = DLC.index.values\n",
    "DLC.head()"
   ]
  },
  {
   "cell_type": "code",
   "execution_count": 15,
   "metadata": {},
   "outputs": [],
   "source": [
    "# pull out location and probabiltiy and plot them against each other - 2D or 3D plot, color them with the John's manual annotation\n",
    "\n",
    "import matplotlib.pyplot as plt"
   ]
  },
  {
   "cell_type": "code",
   "execution_count": 18,
   "metadata": {},
   "outputs": [
    {
     "data": {
      "image/png": "[encoded data removed]",
      "text/plain": [
       "<Figure size 432x288 with 1 Axes>"
      ]
     },
     "metadata": {},
     "output_type": "display_data"
    }
   ],
   "source": [
    "groups = DLC.groupby('label')\n",
    "# i = 0\n",
    "# fig, ax = plt.subplots(3,2)\n",
    "# ax = ax.ravel()\n",
    "for name, group in groups:\n",
    "    plt.plot(group.loc[group.likelihood > 0.5, 'x'], group.loc[group.likelihood > 0.5 , 'y'], marker='o', linestyle = '' , markersize=2, label = name, alpha = 0.5)\n",
    "#     i+=1\n",
    "plt.legend(bbox_to_anchor=(1.2, 1))\n",
    "plt.show()"
   ]
  },
  {
   "cell_type": "code",
   "execution_count": 19,
   "metadata": {},
   "outputs": [],
   "source": [
    "filtered = DLC[DLC.label != \"NA\"]\n",
    "new_groups = filtered.groupby('label')"
   ]
  },
  {
   "cell_type": "code",
   "execution_count": 20,
   "metadata": {},
   "outputs": [
    {
     "data": {
      "text/plain": [
       "<matplotlib.legend.Legend at 0x26b90be0be0>"
      ]
     },
     "execution_count": 20,
     "metadata": {},
     "output_type": "execute_result"
    },
    {
     "data": {
      "image/png": "[encoded data removed]",
      "text/plain": [
       "<Figure size 432x288 with 1 Axes>"
      ]
     },
     "metadata": {},
     "output_type": "display_data"
    }
   ],
   "source": [
    "for name, group in new_groups:\n",
    "    plt.hist(group.likelihood, label = name, alpha = 0.5, bins = 10)\n",
    "plt.legend()"
   ]
  },
  {
   "cell_type": "code",
   "execution_count": 21,
   "metadata": {},
   "outputs": [],
   "source": [
    "# filtered[(filtered.label == 'NM') & (filtered.likelihood > 0.5)]"
   ]
  },
  {
   "cell_type": "code",
   "execution_count": 22,
   "metadata": {},
   "outputs": [],
   "source": [
    "# annotation[annotation.Annotations == 'NM']"
   ]
  },
  {
   "cell_type": "code",
   "execution_count": 29,
   "metadata": {},
   "outputs": [],
   "source": [
    "for f in annotation_filelist:\n",
    "    annotation = pd.read_csv(f)\n",
    "    filename = os.path.basename(f)\n",
    "    file_matched = [file for file in filelist if filename[:-14] in file]\n",
    "    \n",
    "    temp = pd.read_hdf(file_matched[0])\n",
    "    DLC = temp.loc[slice(None),(slice(None),'proboscisTip')].copy()\n",
    "    DLC.columns = DLC.columns.droplevel(level = [0,1])\n",
    "\n",
    "    mean_col = []\n",
    "    max_col = []\n",
    "    min_col = []\n",
    "    median_col = []\n",
    "    \n",
    "    for row in annotation.iterrows():\n",
    "        data = row[1]\n",
    "\n",
    "        In = data.MothIN\n",
    "        out = data.MothOut\n",
    "\n",
    "        mu = DLC.loc[In:out, 'likelihood'].mean(skipna = True)\n",
    "        mx = DLC.loc[In:out, 'likelihood'].max()\n",
    "        mn = DLC.loc[In:out, 'likelihood'].min()\n",
    "        med = DLC.loc[In:out, 'likelihood'].median()\n",
    "\n",
    "        mean_col.append(mu)\n",
    "        max_col.append(mx)\n",
    "        min_col.append(mn)\n",
    "        median_col.append(med)\n",
    "\n",
    "    annotation['mean'] = mean_col\n",
    "    annotation['max'] = max_col\n",
    "    annotation['min'] = min_col\n",
    "    annotation['median'] = median_col\n",
    "\n",
    "    annotation.to_csv('../dataFolders/DLCtrackingResults/' + filename[:-14] + '_AnnotationWithTrackingStats.csv')"
   ]
  },
  {
   "cell_type": "code",
   "execution_count": 19,
   "metadata": {},
   "outputs": [],
   "source": [
    "import matplotlib.pyplot as plt"
   ]
  },
  {
   "cell_type": "code",
   "execution_count": 20,
   "metadata": {},
   "outputs": [
    {
     "data": {
      "image/png": "[encoded data removed]",
      "text/plain": [
       "<Figure size 432x288 with 1 Axes>"
      ]
     },
     "metadata": {},
     "output_type": "display_data"
    }
   ],
   "source": [
    "annotation.boxplot(column=['mean'], by='Annotations')\n",
    "plt.show()"
   ]
  },
  {
   "cell_type": "code",
   "execution_count": 21,
   "metadata": {},
   "outputs": [
    {
     "data": {
      "text/plain": [
       "<matplotlib.axes._subplots.AxesSubplot at 0x1f8195ca400>"
      ]
     },
     "execution_count": 21,
     "metadata": {},
     "output_type": "execute_result"
    },
    {
     "data": {
      "image/png": "[encoded data removed]",
      "text/plain": [
       "<Figure size 432x288 with 1 Axes>"
      ]
     },
     "metadata": {},
     "output_type": "display_data"
    }
   ],
   "source": [
    "annotation.boxplot(column=['median'], by='Annotations')"
   ]
  },
  {
   "cell_type": "code",
   "execution_count": 22,
   "metadata": {},
   "outputs": [
    {
     "data": {
      "text/plain": [
       "{'bodies': [<matplotlib.collections.PolyCollection at 0x1f81a6bdac8>,\n",
       "  <matplotlib.collections.PolyCollection at 0x1f81a6bdd30>,\n",
       "  <matplotlib.collections.PolyCollection at 0x1f81a6bdf98>,\n",
       "  <matplotlib.collections.PolyCollection at 0x1f81a6c9240>],\n",
       " 'cmaxes': <matplotlib.collections.LineCollection at 0x1f81a68e860>,\n",
       " 'cmins': <matplotlib.collections.LineCollection at 0x1f81a6c9710>,\n",
       " 'cbars': <matplotlib.collections.LineCollection at 0x1f81a6c9a20>}"
      ]
     },
     "execution_count": 22,
     "metadata": {},
     "output_type": "execute_result"
    },
    {
     "data": {
      "image/png": "[encoded data removed]",
      "text/plain": [
       "<Figure size 432x288 with 1 Axes>"
      ]
     },
     "metadata": {},
     "output_type": "display_data"
    }
   ],
   "source": [
    "fig, axes = plt.subplots()\n",
    "\n",
    "axes.violinplot(dataset = [annotation[annotation.Annotations == 'FI'][\"median\"].values,\n",
    "                           annotation[annotation.Annotations == 'FN'][\"median\"].values,\n",
    "                           annotation[annotation.Annotations == 'HO'][\"median\"].values,\n",
    "                           annotation[annotation.Annotations == 'NM'][\"median\"].values])"
   ]
  },
  {
   "cell_type": "code",
   "execution_count": 23,
   "metadata": {},
   "outputs": [
    {
     "data": {
      "image/png": "[encoded data removed]",
      "text/plain": [
       "<Figure size 432x288 with 1 Axes>"
      ]
     },
     "metadata": {},
     "output_type": "display_data"
    }
   ],
   "source": [
    "import seaborn as sns\n",
    "\n",
    "ax = sns.swarmplot(x=\"Annotations\", y=\"median\", data=annotation)"
   ]
  },
  {
   "cell_type": "code",
   "execution_count": null,
   "metadata": {},
   "outputs": [],
   "source": []
  }
 ],
 "metadata": {
  "kernelspec": {
   "display_name": "Python 3",
   "language": "python",
   "name": "python3"
  },
  "language_info": {
   "codemirror_mode": {
    "name": "ipython",
    "version": 3
   },
   "file_extension": ".py",
   "mimetype": "text/x-python",
   "name": "python",
   "nbconvert_exporter": "python",
   "pygments_lexer": "ipython3",
   "version": "3.6.5"
  }
 },
 "nbformat": 4,
 "nbformat_minor": 2
}
