{
 "cells": [
  {
   "cell_type": "code",
   "execution_count": 1,
   "metadata": {},
   "outputs": [],
   "source": [
    "import pandas as pd\n",
    "import matplotlib.pyplot as plt\n",
    "from matplotlib import style\n",
    "style.use(\"ggplot\")\n",
    "from scipy.optimize import curve_fit\n",
    "import os\n",
    "import numpy as np\n",
    "import glob"
   ]
  },
  {
   "cell_type": "code",
   "execution_count": 2,
   "metadata": {},
   "outputs": [],
   "source": [
    "# Define exponential function func,  \n",
    "# where a = alpha, b = Tau, c = y intercept\n",
    "\n",
    "def fit_to_exponential(x, a, b, c):\n",
    "     return a * np.exp(-(x / b)) + c"
   ]
  },
  {
   "cell_type": "code",
   "execution_count": 3,
   "metadata": {},
   "outputs": [],
   "source": [
    "outpath_fig = './dataFolders/Output/Figures/ExponentionalFitWithBounds/'\n",
    "outpath = './dataFolders/Output/Step6_FloralTypeConsolidatedData_AndFitParameters/'"
   ]
  },
  {
   "cell_type": "code",
   "execution_count": 10,
   "metadata": {},
   "outputs": [
    {
     "data": {
      "image/png": "[encoded data removed]",
      "text/plain": [
       "<Figure size 720x432 with 1 Axes>"
      ]
     },
     "metadata": {},
     "output_type": "display_data"
    },
    {
     "data": {
      "image/png": "[encoded data removed]",
      "text/plain": [
       "<Figure size 720x432 with 1 Axes>"
      ]
     },
     "metadata": {},
     "output_type": "display_data"
    }
   ],
   "source": [
    "# do the fit for three different y0 - computed across different lengths of the saturation - curve\n",
    "shapes = ['c-1', 'c-2','c-3', 'c-10']\n",
    "fig1, ax0 = plt.subplots(figsize = (10,6))\n",
    "fig2, ax1 = plt.subplots(figsize = (10,6))\n",
    "\n",
    "for floralShape in shapes:\n",
    "    tau = []\n",
    "    covariance = []\n",
    "    \n",
    "    file  = glob.glob(outpath + floralShape + '_Alltrials.csv')\n",
    "    new_df = pd.read_csv(file[0])\n",
    "    \n",
    "    xdata = new_df.trialNum.values\n",
    "    ydata = new_df.DiscoveryTime.values\n",
    "    \n",
    "    xdata_notnan = new_df[new_df.DiscoveryTime.notnull()].trialNum.values\n",
    "    ydata_notnan = new_df[new_df.DiscoveryTime.notnull()].DiscoveryTime.values\n",
    "    numMoth = len(new_df.name.unique())\n",
    "    \n",
    "    param_file = glob.glob(outpath + floralShape + '_FittedParameters.csv')\n",
    "    param_df = pd.read_csv(param_file[0])\n",
    "    \n",
    "    length_to_estimate_y0 = [2, 4, 8]\n",
    "\n",
    "    for length in length_to_estimate_y0:\n",
    "        if length ==2:\n",
    "            idx = 0\n",
    "        elif length == 4:\n",
    "            idx = 1\n",
    "        else:\n",
    "            idx = 2\n",
    "        \n",
    "        a0 = param_df.loc[idx,'alpha']\n",
    "        mean_y0 = param_df.loc[idx, 'y_intercept']\n",
    "        \n",
    "        popt,pcov = curve_fit(lambda x, b: fit_to_exponential(x, a0, b, mean_y0),\n",
    "                              xdata_notnan, ydata_notnan, bounds = (0, np.inf))\n",
    "        tau.append(popt[0]/100)\n",
    "        covariance.append(pcov.flatten()[0])\n",
    "\n",
    "        # plot the final curve fit\n",
    "        max_trial=max(xdata)\n",
    "        ax1.plot(xdata, ydata*1/100, 'or', markersize=7, alpha=.5, label = 'Raw data')\n",
    "        ax1.plot(range(0,max_trial), fit_to_exponential(range(0,max_trial), a0, *popt, mean_y0)*1/100, \n",
    "                 'g--', linewidth=2, \n",
    "                 label = 'fit: alpha= %5.3f , Tau= %5.3f, y0= %5.3f' %(a0/100, popt/100, mean_y0/100))\n",
    "\n",
    "        ax1.set_title(floralShape + '_1-' + str(length) + '_length', y=1.2)\n",
    "        ax1.set_xlabel('Trial number')\n",
    "        ax1.set_ylabel('Exploration Time (second)')\n",
    "        leg = plt.legend()\n",
    "        leg.get_frame().set_linewidth(1.5)\n",
    "        ax1.legend(bbox_to_anchor=(0., 1.05, 1., .102), loc=3, mode=\"expand\", borderaxespad=0.)\n",
    "        ax1.set_xlim([-5,90])\n",
    "        ax1.set_ylim([-5,55])\n",
    "        ax1.text(60, 40, 'N= ' + str(numMoth))\n",
    "        fig2.tight_layout()\n",
    "        fig2.savefig(outpath_fig + 'LearningCurve_' + floralShape + '_1-' + str(length) + '_length.svg')\n",
    "        ax1.cla()\n",
    "\n",
    "    expo_param_df = pd.DataFrame({'tau':tau,\n",
    "                                 'covariance':covariance}, \n",
    "                                index = ['one-half', 'last fourth', 'last eight'])\n",
    "    expo_param_df.to_csv(outpath + floralShape + '_BoundedExponentialFittedParameters.csv')"
   ]
  },
  {
   "cell_type": "code",
   "execution_count": 9,
   "metadata": {},
   "outputs": [
    {
     "data": {
      "text/plain": [
       "9.531676691729324"
      ]
     },
     "execution_count": 9,
     "metadata": {},
     "output_type": "execute_result"
    }
   ],
   "source": []
  },
  {
   "cell_type": "code",
   "execution_count": null,
   "metadata": {},
   "outputs": [],
   "source": []
  }
 ],
 "metadata": {
  "kernelspec": {
   "display_name": "Python 3",
   "language": "python",
   "name": "python3"
  },
  "language_info": {
   "codemirror_mode": {
    "name": "ipython",
    "version": 3
   },
   "file_extension": ".py",
   "mimetype": "text/x-python",
   "name": "python",
   "nbconvert_exporter": "python",
   "pygments_lexer": "ipython3",
   "version": "3.6.5"
  }
 },
 "nbformat": 4,
 "nbformat_minor": 2
}
